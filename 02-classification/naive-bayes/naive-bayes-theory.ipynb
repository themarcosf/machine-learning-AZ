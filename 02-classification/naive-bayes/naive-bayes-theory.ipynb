{
 "cells": [
  {
   "cell_type": "code",
   "execution_count": 1,
   "metadata": {
    "ExecuteTime": {
     "end_time": "2022-02-23T22:03:15.019320Z",
     "start_time": "2022-02-23T22:03:14.177324Z"
    }
   },
   "outputs": [],
   "source": [
    "import numpy as np\n",
    "import pandas as pd\n",
    "import matplotlib.pyplot as plt\n",
    "import seaborn as sns\n",
    "\n",
    "import warnings\n",
    "warnings.filterwarnings('ignore')"
   ]
  },
  {
   "cell_type": "markdown",
   "metadata": {
    "ExecuteTime": {
     "end_time": "2021-09-16T16:08:15.515224Z",
     "start_time": "2021-09-16T16:08:15.447243Z"
    }
   },
   "source": [
    "# Naïve Bayes\n",
    "\n",
    "## Intro\n",
    "\n",
    "In statistics, we were introduced to Bayes' Theorem:\n",
    "\n",
    "$P(A|B) = \\frac{P(B | A)P(A)}{P(B)}$\n",
    "\n",
    "The Bayes' Theorem allows us to discover the conditional probability $P(A|B)$, which is called the **posterior**, based on the inverse conditional probability, $P(B|A)$ (the so-called **likelihood**), and the probability $P(A)$, the **priori**. The idea is that we **update our beliefs about $A$**, as new information about $B$ is added."
   ]
  },
  {
   "cell_type": "markdown",
   "metadata": {
    "ExecuteTime": {
     "end_time": "2021-09-16T16:08:15.515224Z",
     "start_time": "2021-09-16T16:08:15.447243Z"
    }
   },
   "source": [
    "## Naïve Bayes\n",
    "\n",
    "Naïve Bayes is one of the simplest and most intuitive methods for classification, although it is full of important subtleties. For this reason, we will first build the idea of the method, apply it, and only then worry about its more mathematical details.\n",
    "\n",
    "One of the main and most successful applications of this method is in **spam filtering**: given an email, how to determine if it is spam or not?\n",
    "\n",
    "<img src=https://repository-images.githubusercontent.com/218616244/c4183680-fb99-11e9-8191-d7c5dfb6a11e width=500>"
   ]
  },
  {
   "cell_type": "code",
   "execution_count": 2,
   "metadata": {
    "ExecuteTime": {
     "end_time": "2022-02-23T22:15:30.289998Z",
     "start_time": "2022-02-23T22:15:30.250020Z"
    }
   },
   "outputs": [
    {
     "data": {
      "text/html": [
       "<div>\n",
       "<style scoped>\n",
       "    .dataframe tbody tr th:only-of-type {\n",
       "        vertical-align: middle;\n",
       "    }\n",
       "\n",
       "    .dataframe tbody tr th {\n",
       "        vertical-align: top;\n",
       "    }\n",
       "\n",
       "    .dataframe thead th {\n",
       "        text-align: right;\n",
       "    }\n",
       "</style>\n",
       "<table border=\"1\" class=\"dataframe\">\n",
       "  <thead>\n",
       "    <tr style=\"text-align: right;\">\n",
       "      <th></th>\n",
       "      <th>y</th>\n",
       "      <th>excerpt</th>\n",
       "    </tr>\n",
       "  </thead>\n",
       "  <tbody>\n",
       "    <tr>\n",
       "      <th>0</th>\n",
       "      <td>spam</td>\n",
       "      <td>type your password</td>\n",
       "    </tr>\n",
       "    <tr>\n",
       "      <th>1</th>\n",
       "      <td>spam</td>\n",
       "      <td>type your password here</td>\n",
       "    </tr>\n",
       "    <tr>\n",
       "      <th>2</th>\n",
       "      <td>spam</td>\n",
       "      <td>discount coupon here</td>\n",
       "    </tr>\n",
       "    <tr>\n",
       "      <th>3</th>\n",
       "      <td>spam</td>\n",
       "      <td>send password and get discount coupon</td>\n",
       "    </tr>\n",
       "    <tr>\n",
       "      <th>4</th>\n",
       "      <td>spam</td>\n",
       "      <td>click here won discount</td>\n",
       "    </tr>\n",
       "  </tbody>\n",
       "</table>\n",
       "</div>"
      ],
      "text/plain": [
       "      y                                excerpt\n",
       "0  spam                     type your password\n",
       "1  spam                type your password here\n",
       "2  spam                   discount coupon here\n",
       "3  spam  send password and get discount coupon\n",
       "4  spam                click here won discount"
      ]
     },
     "execution_count": 2,
     "metadata": {},
     "output_type": "execute_result"
    }
   ],
   "source": [
    "train_spam = ['type your password', 'type your password here', 'discount coupon here',\n",
    "              'send password and get discount coupon', 'click here won discount',\n",
    "              'discount coupon and password', 'discount password',\n",
    "              'your password here', 'you won click here']\n",
    "\n",
    "train_ham = ['attached report', 'attached budget', 'report attached',\n",
    "              'meeting agenda attached', 'report today', 'budget report',\n",
    "              'report attached', 'meeting agenda', 'meeting agenda attached']\n",
    "\n",
    "df_train = pd.DataFrame([[\"spam\", x] for x in train_spam] + [[\"ham\", x] for x in train_ham],\n",
    "                        columns = [\"y\", \"excerpt\"])\n",
    "df_train.head()"
   ]
  },
  {
   "cell_type": "code",
   "execution_count": 3,
   "metadata": {
    "ExecuteTime": {
     "end_time": "2022-02-23T22:19:21.687093Z",
     "start_time": "2022-02-23T22:19:21.656110Z"
    }
   },
   "outputs": [
    {
     "data": {
      "text/html": [
       "<div>\n",
       "<style scoped>\n",
       "    .dataframe tbody tr th:only-of-type {\n",
       "        vertical-align: middle;\n",
       "    }\n",
       "\n",
       "    .dataframe tbody tr th {\n",
       "        vertical-align: top;\n",
       "    }\n",
       "\n",
       "    .dataframe thead th {\n",
       "        text-align: right;\n",
       "    }\n",
       "</style>\n",
       "<table border=\"1\" class=\"dataframe\">\n",
       "  <thead>\n",
       "    <tr style=\"text-align: right;\">\n",
       "      <th></th>\n",
       "      <th>y</th>\n",
       "      <th>excerpt</th>\n",
       "    </tr>\n",
       "  </thead>\n",
       "  <tbody>\n",
       "    <tr>\n",
       "      <th>0</th>\n",
       "      <td>spam</td>\n",
       "      <td>type your password here</td>\n",
       "    </tr>\n",
       "    <tr>\n",
       "      <th>1</th>\n",
       "      <td>spam</td>\n",
       "      <td>discount coupon here</td>\n",
       "    </tr>\n",
       "    <tr>\n",
       "      <th>2</th>\n",
       "      <td>ham</td>\n",
       "      <td>where is the report of the meeting agenda</td>\n",
       "    </tr>\n",
       "    <tr>\n",
       "      <th>3</th>\n",
       "      <td>ham</td>\n",
       "      <td>send today attached</td>\n",
       "    </tr>\n",
       "  </tbody>\n",
       "</table>\n",
       "</div>"
      ],
      "text/plain": [
       "      y                                    excerpt\n",
       "0  spam                    type your password here\n",
       "1  spam                       discount coupon here\n",
       "2   ham  where is the report of the meeting agenda\n",
       "3   ham                        send today attached"
      ]
     },
     "execution_count": 3,
     "metadata": {},
     "output_type": "execute_result"
    }
   ],
   "source": [
    "test_spam = ['type your password here', 'discount coupon here']\n",
    "test_ham = ['where is the report of the meeting agenda', 'send today attached']\n",
    "df_test = pd.DataFrame([[\"spam\", x] for x in test_spam] + [[\"ham\", x] for x in test_ham],\n",
    "                       columns = [\"y\", \"excerpt\"])\n",
    "df_test.head()"
   ]
  },
  {
   "cell_type": "markdown",
   "metadata": {},
   "source": [
    "Our target is binary and represents whether the messages are `spam` or non-spam (which are commonly called `ham`). Our goal is to build a classifier that is able to **determine whether a message is spam or ham, based solely on the text of the message**.\n",
    "\n",
    "The data type we are working with is very particular: we have **unstructured data**, because (although we have artificially constructed a dataframe), the original data did not come in tabular form **with a fixed number of features**. In fact, a very fair question is: **what are the features?**\n",
    "\n",
    "Anyhow, we will not worry about these details here - we will follow an approach (based on Bayes' theorem) that will treat these details in a more indirect way.\n",
    "\n",
    "Once we want to classify a message as spam or ham, we are concerned with the **separability of the target**. Inspired by logistic regression, a good approach to do this is to base ourselves on the **probability of a message belonging to one or another class**."
   ]
  },
  {
   "cell_type": "code",
   "execution_count": 4,
   "metadata": {
    "ExecuteTime": {
     "end_time": "2022-02-23T22:30:33.107976Z",
     "start_time": "2022-02-23T22:30:33.082888Z"
    }
   },
   "outputs": [
    {
     "data": {
      "text/plain": [
       "spam    0.5\n",
       "ham     0.5\n",
       "Name: y, dtype: float64"
      ]
     },
     "execution_count": 4,
     "metadata": {},
     "output_type": "execute_result"
    }
   ],
   "source": [
    "P = df_train[\"y\"].value_counts(normalize=True)\n",
    "P"
   ]
  },
  {
   "cell_type": "markdown",
   "metadata": {},
   "source": [
    "These are the **prior probabilities**. Nothing too informative (we have the situation of maximum entropy / impurity). But this is still relevant information:\n",
    "\n",
    "$P(y = \\text{spam}) = 0.5 $\n",
    "\n",
    "$ P(y = \\text{ham}) = 0.5 $"
   ]
  },
  {
   "cell_type": "code",
   "execution_count": 5,
   "metadata": {
    "ExecuteTime": {
     "end_time": "2022-02-23T22:31:19.617874Z",
     "start_time": "2022-02-23T22:31:19.607876Z"
    }
   },
   "outputs": [
    {
     "data": {
      "text/plain": [
       "(0.5, 0.5)"
      ]
     },
     "execution_count": 5,
     "metadata": {},
     "output_type": "execute_result"
    }
   ],
   "source": [
    "P_spam, P_ham = P[\"spam\"], P[\"ham\"]\n",
    "P_spam, P_ham"
   ]
  },
  {
   "cell_type": "markdown",
   "metadata": {},
   "source": [
    "Once we have this, how can we proceed to **gain more information about the separability of the target**?\n",
    "\n",
    "The idea is the following: let's **look at the target**, and ask ourselves: **what are the words that appear most frequently in spam/ham emails?**. That is, associate a degree of \"spamicity\" (and \"hamicity\") to each word."
   ]
  },
  {
   "cell_type": "code",
   "execution_count": 6,
   "metadata": {
    "ExecuteTime": {
     "end_time": "2022-02-23T22:43:17.631569Z",
     "start_time": "2022-02-23T22:43:17.622580Z"
    }
   },
   "outputs": [
    {
     "data": {
      "text/plain": [
       "['type your password',\n",
       " 'type your password here',\n",
       " 'discount coupon here',\n",
       " 'send password and get discount coupon',\n",
       " 'click here won discount',\n",
       " 'discount coupon and password',\n",
       " 'discount password',\n",
       " 'your password here',\n",
       " 'you won click here']"
      ]
     },
     "execution_count": 6,
     "metadata": {},
     "output_type": "execute_result"
    }
   ],
   "source": [
    "train_spam"
   ]
  },
  {
   "cell_type": "code",
   "execution_count": 7,
   "metadata": {
    "ExecuteTime": {
     "end_time": "2022-02-23T22:45:12.108605Z",
     "start_time": "2022-02-23T22:45:12.090615Z"
    }
   },
   "outputs": [
    {
     "data": {
      "text/plain": [
       "{'type': 2,\n",
       " 'your': 3,\n",
       " 'password': 6,\n",
       " 'here': 5,\n",
       " 'discount': 5,\n",
       " 'coupon': 3,\n",
       " 'send': 1,\n",
       " 'and': 2,\n",
       " 'get': 1,\n",
       " 'click': 2,\n",
       " 'won': 2,\n",
       " 'you': 1}"
      ]
     },
     "execution_count": 7,
     "metadata": {},
     "output_type": "execute_result"
    }
   ],
   "source": [
    "spam_words = {}\n",
    "\n",
    "for excerpt in train_spam:\n",
    "    for word in excerpt.split():\n",
    "        if word not in spam_words:\n",
    "            spam_words[word] = 1\n",
    "        else:\n",
    "            spam_words[word] += 1\n",
    "            \n",
    "spam_words            "
   ]
  },
  {
   "cell_type": "code",
   "execution_count": 8,
   "metadata": {
    "ExecuteTime": {
     "end_time": "2022-02-23T22:47:08.648664Z",
     "start_time": "2022-02-23T22:47:08.630677Z"
    }
   },
   "outputs": [
    {
     "data": {
      "text/plain": [
       "['attached report',\n",
       " 'attached budget',\n",
       " 'report attached',\n",
       " 'meeting agenda attached',\n",
       " 'report today',\n",
       " 'budget report',\n",
       " 'report attached',\n",
       " 'meeting agenda',\n",
       " 'meeting agenda attached']"
      ]
     },
     "execution_count": 8,
     "metadata": {},
     "output_type": "execute_result"
    }
   ],
   "source": [
    "train_ham"
   ]
  },
  {
   "cell_type": "code",
   "execution_count": 9,
   "metadata": {
    "ExecuteTime": {
     "end_time": "2022-02-23T22:47:17.713559Z",
     "start_time": "2022-02-23T22:47:17.691568Z"
    }
   },
   "outputs": [
    {
     "data": {
      "text/plain": [
       "{'attached': 6,\n",
       " 'report': 5,\n",
       " 'budget': 2,\n",
       " 'meeting': 3,\n",
       " 'agenda': 3,\n",
       " 'today': 1}"
      ]
     },
     "execution_count": 9,
     "metadata": {},
     "output_type": "execute_result"
    }
   ],
   "source": [
    "ham_words = {}\n",
    "\n",
    "for excerpt in train_ham:\n",
    "    for word in excerpt.split():\n",
    "        if word not in ham_words:\n",
    "            ham_words[word] = 1\n",
    "        else:\n",
    "            ham_words[word] += 1\n",
    "            \n",
    "ham_words   "
   ]
  },
  {
   "cell_type": "markdown",
   "metadata": {},
   "source": [
    "Now we will do something that may not seem very natural, but which will be of great operational importance: we will add to the dictionaries even the words that do not appear in the respective set of words, all with zero count. This is important to \"homogenize\" the data, marking the presence of all the words that appear in the training data as a whole in the dictionaries of both classes - but, of course, making it clear that they are absent with the null count. Later, we will understand why this is important!"
   ]
  },
  {
   "cell_type": "code",
   "execution_count": 10,
   "metadata": {
    "ExecuteTime": {
     "end_time": "2022-02-23T22:50:58.654977Z",
     "start_time": "2022-02-23T22:50:58.635990Z"
    }
   },
   "outputs": [],
   "source": [
    "for word in spam_words:\n",
    "    if word not in ham_words:\n",
    "        ham_words[word] = 0\n",
    "\n",
    "for word in ham_words:\n",
    "    if word not in spam_words:\n",
    "        spam_words[word] = 0"
   ]
  },
  {
   "cell_type": "code",
   "execution_count": 11,
   "metadata": {
    "ExecuteTime": {
     "end_time": "2022-02-23T22:51:58.732948Z",
     "start_time": "2022-02-23T22:51:58.721975Z"
    }
   },
   "outputs": [
    {
     "data": {
      "text/plain": [
       "([], [])"
      ]
     },
     "execution_count": 11,
     "metadata": {},
     "output_type": "execute_result"
    }
   ],
   "source": [
    "# sanity check\n",
    "[x for x in ham_words.keys() if x not in spam_words.keys()], [x for x in spam_words.keys() if x not in ham_words.keys()]"
   ]
  },
  {
   "cell_type": "code",
   "execution_count": 12,
   "metadata": {
    "ExecuteTime": {
     "end_time": "2022-02-23T22:52:38.490723Z",
     "start_time": "2022-02-23T22:52:38.474735Z"
    }
   },
   "outputs": [
    {
     "data": {
      "text/plain": [
       "(18, 18)"
      ]
     },
     "execution_count": 12,
     "metadata": {},
     "output_type": "execute_result"
    }
   ],
   "source": [
    "len(spam_words), len(ham_words)"
   ]
  },
  {
   "cell_type": "markdown",
   "metadata": {},
   "source": [
    "The hash tables above indicate the **absolute frequency** of each word within each context (spam vs ham). To make our approach more robust, it would be interesting if we had the **relative frequencies**, which can be understood as **probabilities**. Note that what we want to calculate is a **conditional probability**. For example:\n",
    "\n",
    "> which is the probability of finding the word \"password\" in an email **given that** the email was marked as \"spam\"?\n",
    "$$P(x_i = \\text{\"password\"} \\mid y = \\text{\"spam\"})$$\n",
    "\n",
    "This calculation is very simple: just calculate the **relative frequency** of the word \"password\" within spam emails:\n",
    "\n",
    "$$ P(x_i = \\text{\"password\"} \\mid y = \\text{\"spam\"}) = \\frac{\\text{\"\\# password\"}}{\\text{\"\\# words in spam\"}} $$"
   ]
  },
  {
   "cell_type": "code",
   "execution_count": 13,
   "metadata": {
    "ExecuteTime": {
     "end_time": "2022-02-23T22:57:08.099538Z",
     "start_time": "2022-02-23T22:57:08.072553Z"
    }
   },
   "outputs": [
    {
     "data": {
      "text/html": [
       "<div>\n",
       "<style scoped>\n",
       "    .dataframe tbody tr th:only-of-type {\n",
       "        vertical-align: middle;\n",
       "    }\n",
       "\n",
       "    .dataframe tbody tr th {\n",
       "        vertical-align: top;\n",
       "    }\n",
       "\n",
       "    .dataframe thead th {\n",
       "        text-align: right;\n",
       "    }\n",
       "</style>\n",
       "<table border=\"1\" class=\"dataframe\">\n",
       "  <thead>\n",
       "    <tr style=\"text-align: right;\">\n",
       "      <th></th>\n",
       "      <th>words</th>\n",
       "      <th>count</th>\n",
       "      <th>prob</th>\n",
       "    </tr>\n",
       "  </thead>\n",
       "  <tbody>\n",
       "    <tr>\n",
       "      <th>2</th>\n",
       "      <td>password</td>\n",
       "      <td>6</td>\n",
       "      <td>0.181818</td>\n",
       "    </tr>\n",
       "    <tr>\n",
       "      <th>3</th>\n",
       "      <td>here</td>\n",
       "      <td>5</td>\n",
       "      <td>0.151515</td>\n",
       "    </tr>\n",
       "    <tr>\n",
       "      <th>4</th>\n",
       "      <td>discount</td>\n",
       "      <td>5</td>\n",
       "      <td>0.151515</td>\n",
       "    </tr>\n",
       "    <tr>\n",
       "      <th>1</th>\n",
       "      <td>your</td>\n",
       "      <td>3</td>\n",
       "      <td>0.090909</td>\n",
       "    </tr>\n",
       "    <tr>\n",
       "      <th>5</th>\n",
       "      <td>coupon</td>\n",
       "      <td>3</td>\n",
       "      <td>0.090909</td>\n",
       "    </tr>\n",
       "  </tbody>\n",
       "</table>\n",
       "</div>"
      ],
      "text/plain": [
       "      words  count      prob\n",
       "2  password      6  0.181818\n",
       "3      here      5  0.151515\n",
       "4  discount      5  0.151515\n",
       "1      your      3  0.090909\n",
       "5    coupon      3  0.090909"
      ]
     },
     "execution_count": 13,
     "metadata": {},
     "output_type": "execute_result"
    }
   ],
   "source": [
    "df_spam_words = pd.DataFrame([[k, v] for k, v in spam_words.items()],\n",
    "                                columns = [\"words\", \"count\"])\n",
    "df_spam_words[\"prob\"] = df_spam_words[\"count\"]/df_spam_words[\"count\"].sum()\n",
    "df_spam_words = df_spam_words.sort_values(\"prob\", ascending=False)\n",
    "df_spam_words.head()"
   ]
  },
  {
   "cell_type": "code",
   "execution_count": 14,
   "metadata": {
    "ExecuteTime": {
     "end_time": "2022-02-23T22:58:22.814042Z",
     "start_time": "2022-02-23T22:58:22.779062Z"
    }
   },
   "outputs": [
    {
     "data": {
      "text/html": [
       "<div>\n",
       "<style scoped>\n",
       "    .dataframe tbody tr th:only-of-type {\n",
       "        vertical-align: middle;\n",
       "    }\n",
       "\n",
       "    .dataframe tbody tr th {\n",
       "        vertical-align: top;\n",
       "    }\n",
       "\n",
       "    .dataframe thead th {\n",
       "        text-align: right;\n",
       "    }\n",
       "</style>\n",
       "<table border=\"1\" class=\"dataframe\">\n",
       "  <thead>\n",
       "    <tr style=\"text-align: right;\">\n",
       "      <th></th>\n",
       "      <th>words</th>\n",
       "      <th>count</th>\n",
       "      <th>prob</th>\n",
       "    </tr>\n",
       "  </thead>\n",
       "  <tbody>\n",
       "    <tr>\n",
       "      <th>0</th>\n",
       "      <td>attached</td>\n",
       "      <td>6</td>\n",
       "      <td>0.30</td>\n",
       "    </tr>\n",
       "    <tr>\n",
       "      <th>1</th>\n",
       "      <td>report</td>\n",
       "      <td>5</td>\n",
       "      <td>0.25</td>\n",
       "    </tr>\n",
       "    <tr>\n",
       "      <th>3</th>\n",
       "      <td>meeting</td>\n",
       "      <td>3</td>\n",
       "      <td>0.15</td>\n",
       "    </tr>\n",
       "    <tr>\n",
       "      <th>4</th>\n",
       "      <td>agenda</td>\n",
       "      <td>3</td>\n",
       "      <td>0.15</td>\n",
       "    </tr>\n",
       "    <tr>\n",
       "      <th>2</th>\n",
       "      <td>budget</td>\n",
       "      <td>2</td>\n",
       "      <td>0.10</td>\n",
       "    </tr>\n",
       "  </tbody>\n",
       "</table>\n",
       "</div>"
      ],
      "text/plain": [
       "      words  count  prob\n",
       "0  attached      6  0.30\n",
       "1    report      5  0.25\n",
       "3   meeting      3  0.15\n",
       "4    agenda      3  0.15\n",
       "2    budget      2  0.10"
      ]
     },
     "execution_count": 14,
     "metadata": {},
     "output_type": "execute_result"
    }
   ],
   "source": [
    "df_ham_words = pd.DataFrame([[k, v] for k, v in ham_words.items()],\n",
    "                                columns = [\"words\", \"count\"])\n",
    "df_ham_words[\"prob\"] = df_ham_words[\"count\"]/df_ham_words[\"count\"].sum()\n",
    "df_ham_words = df_ham_words.sort_values(\"prob\", ascending=False)\n",
    "df_ham_words.head()"
   ]
  },
  {
   "cell_type": "markdown",
   "metadata": {},
   "source": [
    "Note that with these dataframes we have the **degrees of \"spamicity\" and \"hamicity\"**, respectively, **for each word in the training set**, expressed through the probabilities $P(x_i \\mid y)$. This is one of the most important points of Naïve Bayes, that it is possible to see that the words \"password\" and \"here\" have the highest degree of spamicity; while \"report\" is the word with the highest degree of hamicity.\n",
    "\n",
    "Previously, we artificially included words that do not appear in spam also to the spam dataframe, and vice versa, to ensure that both dataframes contain exactly the same words.\n",
    "\n",
    "Notwithstanding, the way we did it, all these words have null count, and therefore, null probability (and spamicity and hamicity). Operationally this is a problem and, to avoid this problem from manifesting itself, we should **add +1 to the count of all words** (in fact, we can add any value, commonly denoted $\\alpha > 0$, and called **parameter smoothing**). By doing this, all words in each class will have an associated probability, in a homogeneous way - even the words that are not part of the sentences of that class. Naturally though, the probability of these words will be very low, such as words that appear only in \"spam\" have a very low hamicity (like \"password\", for example); and those that appear only in \"ham\" have a very low spamicity (like \"report\", for example). Therefore, although spamicity and hamicity are affected for all words, we will have the **relative** aspect maintained."
   ]
  },
  {
   "cell_type": "code",
   "execution_count": 15,
   "metadata": {
    "ExecuteTime": {
     "end_time": "2022-02-23T23:08:30.667326Z",
     "start_time": "2022-02-23T23:08:30.652336Z"
    }
   },
   "outputs": [],
   "source": [
    "alpha = 1\n",
    "\n",
    "df_spam_words[\"count\"] = df_spam_words[\"count\"] + alpha\n",
    "df_spam_words[\"prob\"] = df_spam_words[\"count\"]/df_spam_words[\"count\"].sum()\n",
    "df_spam_words = df_spam_words.sort_values(\"prob\", ascending=False)\n",
    "\n",
    "df_ham_words[\"count\"] = df_ham_words[\"count\"] + alpha\n",
    "df_ham_words[\"prob\"] = df_ham_words[\"count\"]/df_ham_words[\"count\"].sum()\n",
    "df_ham_words = df_ham_words.sort_values(\"prob\", ascending=False)"
   ]
  },
  {
   "cell_type": "markdown",
   "metadata": {},
   "source": [
    "Remember Bayes' theorem:\n",
    "\n",
    "$$P(A|B) = \\frac{P(B | A)P(A)}{P(B)}$$\n",
    "\n",
    "Let's take:\n",
    "\n",
    "$$A= y$$\n",
    " $$B = \\vec{x}$$\n",
    "\n",
    "That is,\n",
    "\n",
    "$$P(y| \\vec{x}) = \\frac{P( \\vec{x} | y)P(y)}{P( \\vec{x})}$$\n",
    "\n",
    "$$P(y|\\vec{x}) \\propto P( \\vec{x}| y)P(y)$$\n",
    "\n",
    "Now we have all the ingredients we need. Using Bayes' theorem, we can **classify test phrases** looking at **each word as a feature** so that we can calculate what is the **probability that the phrase is ham or spam**, using the following relationship:\n",
    "\n",
    "$$P(y \\mid \\vec{x}) \\propto P(\\vec{x} \\mid y) P(y) \\ , $$\n",
    "\n",
    "being evaluated for both possible classes for $y$:\n",
    "\n",
    "$$P(y = \\text{\"spam\"} \\mid \\vec{x} = \\text{\"email text\"}) \\propto P(\\vec{x} = \\text{\"email text\"} \\mid y = \\text{\"spam\"}) P(y = \\text{\"spam\"})$$\n",
    "\n",
    "And, analogously,\n",
    "\n",
    "$$P(y = \\text{\"ham\"} \\mid \\vec{x} = \\text{\"email text\"}) \\propto P(\\vec{x} = \\text{\"email text\"} \\mid y = \\text{\"ham\"}) P(y = \\text{\"ham\"})$$\n",
    "\n",
    "In the equations above, proportionality is enough, because in the end the decision to be made is:\n",
    "\n",
    "$$ \\text{If} \\qquad P(y = \\text{\"spam\"} \\mid \\vec{x} = \\text{\"email text\"}) > P(y = \\text{\"ham\"} \\mid \\vec{x} = \\text{\"email text\"}) \\qquad \\text{then} \\qquad \\hat{y} = \\text{\"spam\"}$$\n",
    "\n",
    "And, otherwise,\n",
    "\n",
    "$$ \\text{If} \\qquad P(y = \\text{\"ham\"} \\mid \\vec{x} = \\text{\"email text\"}) > P(y = \\text{\"spam\"} \\mid \\vec{x} = \\text{\"email text\"}) \\qquad \\text{then} \\qquad \\hat{y} = \\text{\"ham\"}$$\n",
    "\n",
    "By now, we already have the values of the **priors** $P(y)$. The only element that is missing is $P(\\vec{x} \\mid y)$, which is the **likelihood**. However, everything we did above was precisely to have the likelihood, which is given by:\n",
    "\n",
    "$$P(\\vec{x} \\mid y) = \\prod_{i=1}^{n} P(x_i \\mid y) $$\n",
    "\n",
    "where each $x_i$ represents a word that makes up the test phrase - and these probabilities are exactly what we have in the dataframes above."
   ]
  },
  {
   "cell_type": "code",
   "execution_count": 16,
   "metadata": {
    "ExecuteTime": {
     "end_time": "2022-02-23T23:25:09.336767Z",
     "start_time": "2022-02-23T23:25:09.294789Z"
    }
   },
   "outputs": [
    {
     "data": {
      "text/plain": [
       "'type your password here'"
      ]
     },
     "execution_count": 16,
     "metadata": {},
     "output_type": "execute_result"
    }
   ],
   "source": [
    "excerpt = df_test.loc[0, \"excerpt\"]\n",
    "excerpt"
   ]
  },
  {
   "cell_type": "markdown",
   "metadata": {},
   "source": [
    "$P(\\vec{x} = \\text{'type your password here'} \\mid y = \\text{\"spam\"}) = \\prod_{i=1}^{n} P(x_i \\mid y = \\text{\"spam\"}) = $\n",
    "\n",
    "\n",
    "$  P(x = \\text{'type'} \\mid y = \\text{\"spam\"})  P(x = \\text{'here'}  \\mid y = \\text{\"spam\"})  P(x = \\text{'your'} \\mid y = \\text{\"spam\"})  P(x = \\text{'password'} \\mid y = \\text{\"spam\"}) $"
   ]
  },
  {
   "cell_type": "code",
   "execution_count": 17,
   "metadata": {
    "ExecuteTime": {
     "end_time": "2022-02-23T23:26:34.236751Z",
     "start_time": "2022-02-23T23:26:34.169793Z"
    }
   },
   "outputs": [
    {
     "name": "stdout",
     "output_type": "stream",
     "text": [
      "type 0.058823529411764705\n",
      "your 0.0784313725490196\n",
      "password 0.13725490196078433\n",
      "here 0.11764705882352941\n",
      "\n",
      "P(y='spam' | x='type your password here') = 3.724944757738906e-05\n"
     ]
    }
   ],
   "source": [
    "P_spam_x = 1\n",
    "\n",
    "for word in excerpt.split():\n",
    "    if word in df_spam_words[\"words\"].values:\n",
    "        P_x_spam = df_spam_words.loc[df_spam_words[\"words\"] == word, \"prob\"].squeeze()\n",
    "        print(word, P_x_spam)\n",
    "        P_spam_x = P_spam_x*P_x_spam\n",
    "        \n",
    "P_spam_x = P_spam_x*P_spam\n",
    "print(f\"\\nP(y='spam' | x='{excerpt}') = {P_spam_x}\")"
   ]
  },
  {
   "cell_type": "code",
   "execution_count": 18,
   "metadata": {
    "ExecuteTime": {
     "end_time": "2022-02-23T23:28:49.067975Z",
     "start_time": "2022-02-23T23:28:49.049967Z"
    }
   },
   "outputs": [
    {
     "name": "stdout",
     "output_type": "stream",
     "text": [
      "type 0.02631578947368421\n",
      "your 0.02631578947368421\n",
      "password 0.02631578947368421\n",
      "here 0.02631578947368421\n",
      "\n",
      "P(y='ham' | x='type your password here') = 2.397925123349268e-07\n"
     ]
    }
   ],
   "source": [
    "P_ham_x = 1\n",
    "\n",
    "for word in excerpt.split():\n",
    "    if word in df_ham_words[\"words\"].values:\n",
    "        P_x_ham = df_ham_words.loc[df_ham_words[\"words\"] == word, \"prob\"].squeeze()\n",
    "        print(word, P_x_ham)\n",
    "        P_ham_x = P_ham_x*P_x_ham\n",
    "        \n",
    "P_ham_x = P_ham_x*P_ham   \n",
    "print(f\"\\nP(y='ham' | x='{excerpt}') = {P_ham_x}\")"
   ]
  },
  {
   "cell_type": "markdown",
   "metadata": {},
   "source": [
    "Note that in the code above there is an `if` that tests whether the test word is part of the training word set. This is important, because if there is an unknown word, it is not possible to evaluate its degree of \"spamicity\" or \"hamicity\". Also, note that we do this check for both cases, so there is no preference for spam or ham. Once we have the probabilities, just make the decision based on the highest probability:"
   ]
  },
  {
   "cell_type": "code",
   "execution_count": 19,
   "metadata": {
    "ExecuteTime": {
     "end_time": "2022-02-23T23:30:11.690645Z",
     "start_time": "2022-02-23T23:30:11.675656Z"
    }
   },
   "outputs": [
    {
     "data": {
      "text/plain": [
       "(0.9936036977073681, 0.006396302292631834)"
      ]
     },
     "execution_count": 19,
     "metadata": {},
     "output_type": "execute_result"
    }
   ],
   "source": [
    "P_spam_x/(P_spam_x + P_ham_x), P_ham_x/(P_spam_x + P_ham_x)"
   ]
  },
  {
   "cell_type": "code",
   "execution_count": 20,
   "metadata": {
    "ExecuteTime": {
     "end_time": "2022-02-23T23:31:52.150622Z",
     "start_time": "2022-02-23T23:31:52.133624Z"
    }
   },
   "outputs": [],
   "source": [
    "if P_spam_x > P_ham_x:\n",
    "    y_pred = \"spam\"\n",
    "else:\n",
    "    y_pred = \"ham\""
   ]
  },
  {
   "cell_type": "code",
   "execution_count": 21,
   "metadata": {},
   "outputs": [],
   "source": [
    "y_true = df_test.loc[0, \"y\"]"
   ]
  },
  {
   "cell_type": "code",
   "execution_count": 22,
   "metadata": {
    "ExecuteTime": {
     "end_time": "2022-02-23T23:32:14.618378Z",
     "start_time": "2022-02-23T23:32:14.601389Z"
    }
   },
   "outputs": [
    {
     "name": "stdout",
     "output_type": "stream",
     "text": [
      "Excerpt: 'type your password here'\n",
      "Actual target: 'spam'\n",
      "Predicted target: 'spam'\n"
     ]
    }
   ],
   "source": [
    "print(f\"Excerpt: '{excerpt}'\\nActual target: '{y_true}'\\nPredicted target: '{y_pred}'\")"
   ]
  },
  {
   "cell_type": "markdown",
   "metadata": {},
   "source": [
    "Let's now put everything in a loop to classify all phrases:"
   ]
  },
  {
   "cell_type": "code",
   "execution_count": 23,
   "metadata": {
    "ExecuteTime": {
     "end_time": "2022-02-23T23:32:46.732834Z",
     "start_time": "2022-02-23T23:32:46.673865Z"
    },
    "scrolled": false
   },
   "outputs": [
    {
     "name": "stdout",
     "output_type": "stream",
     "text": [
      "P(y='spam' | x='type your password here') = 3.724944757738906e-05\n",
      "P(y='ham' | x='type your password here') = 2.397925123349268e-07\n",
      "Normalized probs: [0.006396302292631834, 0.9936036977073681]\n",
      "Excerpt: 'type your password here'\n",
      "Real target: 'spam'\n",
      "Predicted target: 'spam'\n",
      "==================================================\n",
      "P(y='spam' | x='discount coupon here') = 0.0005427776646990977\n",
      "P(y='ham' | x='discount coupon here') = 9.112115468727218e-06\n",
      "Normalized probs: [0.01651075232079185, 0.9834892476792082]\n",
      "Excerpt: 'discount coupon here'\n",
      "Real target: 'spam'\n",
      "Predicted target: 'spam'\n",
      "==================================================\n",
      "P(y='spam' | x='where is the report of the meeting agenda') = 3.7692893381881782e-06\n",
      "P(y='ham' | x='where is the report of the meeting agenda') = 0.0008747630849978129\n",
      "Normalized probs: [0.9957095612543169, 0.004290438745683134]\n",
      "Excerpt: 'where is the report of the meeting agenda'\n",
      "Real target: 'ham'\n",
      "Predicted target: 'ham'\n",
      "==================================================\n",
      "P(y='spam' | x='send today attached') = 7.5385786763763565e-06\n",
      "P(y='ham' | x='send today attached') = 0.00012756961656218104\n",
      "Normalized probs: [0.9442033944494213, 0.05579660555057865]\n",
      "Excerpt: 'send today attached'\n",
      "Real target: 'ham'\n",
      "Predicted target: 'ham'\n",
      "==================================================\n"
     ]
    }
   ],
   "source": [
    "probs = []\n",
    "\n",
    "for i in df_test.index:\n",
    "    excerpt = df_test.loc[i, \"excerpt\"]\n",
    "    y_true = df_test.loc[i, \"y\"]\n",
    "    \n",
    "    P_spam_x = 1\n",
    "\n",
    "    for word in excerpt.split():\n",
    "        if word in df_spam_words[\"words\"].values:\n",
    "            P_x_spam = df_spam_words.loc[df_spam_words[\"words\"] == word, \"prob\"].squeeze()\n",
    "            P_spam_x = P_spam_x*P_x_spam\n",
    "\n",
    "    P_spam_x = P_spam_x*P_spam\n",
    "    print(f\"P(y='spam' | x='{excerpt}') = {P_spam_x}\")\n",
    "\n",
    "    P_ham_x = 1\n",
    "\n",
    "    for word in excerpt.split():\n",
    "        if word in df_ham_words[\"words\"].values:\n",
    "            P_x_ham = df_ham_words.loc[df_ham_words[\"words\"] == word, \"prob\"].squeeze()\n",
    "            P_ham_x = P_ham_x*P_x_ham\n",
    "\n",
    "    P_ham_x = P_ham_x*P_ham\n",
    "    print(f\"P(y='ham' | x='{excerpt}') = {P_ham_x}\")\n",
    "    \n",
    "    y_pred = \"spam\" if P_spam_x > P_ham_x else \"ham\"\n",
    "    probs_aux = [P_ham_x/(P_spam_x + P_ham_x), P_spam_x/(P_spam_x + P_ham_x)]\n",
    "    print(f\"Normalized probs: {probs_aux}\")\n",
    "    probs.append(probs_aux)\n",
    "    \n",
    "    print(f\"Excerpt: '{excerpt}'\\nReal target: '{y_true}'\\nPredicted target: '{y_pred}'\")\n",
    "    print(\"=\"*50)\n"
   ]
  },
  {
   "cell_type": "markdown",
   "metadata": {
    "ExecuteTime": {
     "end_time": "2021-09-17T19:13:59.925492Z",
     "start_time": "2021-09-17T19:13:59.833876Z"
    }
   },
   "source": [
    "Now let's see how to build an Naïve Bayes model with SKLearn.\n",
    "\n",
    "A very important point is that, for the model to be trained, an important preprocessing must be done in order to **represent the textual data in a tabular way**. The idea is very similar to the numerical representation of categorical features - only in this case we need, somehow, to represent **whole sentences** in some numerical way.\n",
    "\n",
    "The approach we will follow is known as [bag of words](https://machinelearningmastery.com/gentle-introduction-bag-words-model/#:~:text=A%20bag%2Dof%2Dwords%20is,the%20presence%20of%20known%20words.), and consists, essentially, in creating a matrix that represents the entire **vocabulary** of training as **columns**; and whose lines represent the phrases of the vocabulary, so that each entry of the matrix indicates the presence or absence of a given word of the vocabulary in the respective phrase:\n",
    "\n",
    "<img src=https://ichi.pro/assets/images/max/724/1*hLvya7MXjsSc3NS2SoLMEg.png width=600>\n",
    "\n",
    "<img src=https://www.askpython.com/wp-content/uploads/2020/12/Bag-of-Words-model-1024x335.jpg width=700>\n",
    "\n",
    "The bag of words representation is implemented through the [CountVectorizer](https://scikit-learn.org/stable/modules/generated/sklearn.feature_extraction.text.CountVectorizer.html) class of sklearn."
   ]
  },
  {
   "cell_type": "code",
   "execution_count": 24,
   "metadata": {
    "ExecuteTime": {
     "end_time": "2022-02-23T23:44:26.026649Z",
     "start_time": "2022-02-23T23:44:26.006661Z"
    }
   },
   "outputs": [],
   "source": [
    "X_train = df_train[\"excerpt\"]\n",
    "y_train = df_train[\"y\"]\n",
    "\n",
    "X_test = df_test[\"excerpt\"]\n",
    "y_test = df_test[\"y\"]"
   ]
  },
  {
   "cell_type": "code",
   "execution_count": 25,
   "metadata": {
    "ExecuteTime": {
     "end_time": "2022-02-23T23:57:30.741824Z",
     "start_time": "2022-02-23T23:57:28.810591Z"
    }
   },
   "outputs": [],
   "source": [
    "from sklearn.feature_extraction.text import CountVectorizer\n",
    "\n",
    "vec = CountVectorizer().fit(X_train)\n",
    "\n",
    "X_train = vec.transform(X_train)\n",
    "X_test = vec.transform(X_test)"
   ]
  },
  {
   "cell_type": "code",
   "execution_count": 26,
   "metadata": {
    "ExecuteTime": {
     "end_time": "2022-02-23T23:59:34.139752Z",
     "start_time": "2022-02-23T23:59:34.077794Z"
    }
   },
   "outputs": [
    {
     "data": {
      "text/html": [
       "<div>\n",
       "<style scoped>\n",
       "    .dataframe tbody tr th:only-of-type {\n",
       "        vertical-align: middle;\n",
       "    }\n",
       "\n",
       "    .dataframe tbody tr th {\n",
       "        vertical-align: top;\n",
       "    }\n",
       "\n",
       "    .dataframe thead th {\n",
       "        text-align: right;\n",
       "    }\n",
       "</style>\n",
       "<table border=\"1\" class=\"dataframe\">\n",
       "  <thead>\n",
       "    <tr style=\"text-align: right;\">\n",
       "      <th></th>\n",
       "      <th>agenda</th>\n",
       "      <th>and</th>\n",
       "      <th>attached</th>\n",
       "      <th>budget</th>\n",
       "      <th>click</th>\n",
       "      <th>coupon</th>\n",
       "      <th>discount</th>\n",
       "      <th>get</th>\n",
       "      <th>here</th>\n",
       "      <th>meeting</th>\n",
       "      <th>password</th>\n",
       "      <th>report</th>\n",
       "      <th>send</th>\n",
       "      <th>today</th>\n",
       "      <th>type</th>\n",
       "      <th>won</th>\n",
       "      <th>you</th>\n",
       "      <th>your</th>\n",
       "    </tr>\n",
       "  </thead>\n",
       "  <tbody>\n",
       "    <tr>\n",
       "      <th>0</th>\n",
       "      <td>0</td>\n",
       "      <td>0</td>\n",
       "      <td>0</td>\n",
       "      <td>0</td>\n",
       "      <td>0</td>\n",
       "      <td>0</td>\n",
       "      <td>0</td>\n",
       "      <td>0</td>\n",
       "      <td>0</td>\n",
       "      <td>0</td>\n",
       "      <td>1</td>\n",
       "      <td>0</td>\n",
       "      <td>0</td>\n",
       "      <td>0</td>\n",
       "      <td>1</td>\n",
       "      <td>0</td>\n",
       "      <td>0</td>\n",
       "      <td>1</td>\n",
       "    </tr>\n",
       "    <tr>\n",
       "      <th>1</th>\n",
       "      <td>0</td>\n",
       "      <td>0</td>\n",
       "      <td>0</td>\n",
       "      <td>0</td>\n",
       "      <td>0</td>\n",
       "      <td>0</td>\n",
       "      <td>0</td>\n",
       "      <td>0</td>\n",
       "      <td>1</td>\n",
       "      <td>0</td>\n",
       "      <td>1</td>\n",
       "      <td>0</td>\n",
       "      <td>0</td>\n",
       "      <td>0</td>\n",
       "      <td>1</td>\n",
       "      <td>0</td>\n",
       "      <td>0</td>\n",
       "      <td>1</td>\n",
       "    </tr>\n",
       "    <tr>\n",
       "      <th>2</th>\n",
       "      <td>0</td>\n",
       "      <td>0</td>\n",
       "      <td>0</td>\n",
       "      <td>0</td>\n",
       "      <td>0</td>\n",
       "      <td>1</td>\n",
       "      <td>1</td>\n",
       "      <td>0</td>\n",
       "      <td>1</td>\n",
       "      <td>0</td>\n",
       "      <td>0</td>\n",
       "      <td>0</td>\n",
       "      <td>0</td>\n",
       "      <td>0</td>\n",
       "      <td>0</td>\n",
       "      <td>0</td>\n",
       "      <td>0</td>\n",
       "      <td>0</td>\n",
       "    </tr>\n",
       "    <tr>\n",
       "      <th>3</th>\n",
       "      <td>0</td>\n",
       "      <td>1</td>\n",
       "      <td>0</td>\n",
       "      <td>0</td>\n",
       "      <td>0</td>\n",
       "      <td>1</td>\n",
       "      <td>1</td>\n",
       "      <td>1</td>\n",
       "      <td>0</td>\n",
       "      <td>0</td>\n",
       "      <td>1</td>\n",
       "      <td>0</td>\n",
       "      <td>1</td>\n",
       "      <td>0</td>\n",
       "      <td>0</td>\n",
       "      <td>0</td>\n",
       "      <td>0</td>\n",
       "      <td>0</td>\n",
       "    </tr>\n",
       "    <tr>\n",
       "      <th>4</th>\n",
       "      <td>0</td>\n",
       "      <td>0</td>\n",
       "      <td>0</td>\n",
       "      <td>0</td>\n",
       "      <td>1</td>\n",
       "      <td>0</td>\n",
       "      <td>1</td>\n",
       "      <td>0</td>\n",
       "      <td>1</td>\n",
       "      <td>0</td>\n",
       "      <td>0</td>\n",
       "      <td>0</td>\n",
       "      <td>0</td>\n",
       "      <td>0</td>\n",
       "      <td>0</td>\n",
       "      <td>1</td>\n",
       "      <td>0</td>\n",
       "      <td>0</td>\n",
       "    </tr>\n",
       "    <tr>\n",
       "      <th>5</th>\n",
       "      <td>0</td>\n",
       "      <td>1</td>\n",
       "      <td>0</td>\n",
       "      <td>0</td>\n",
       "      <td>0</td>\n",
       "      <td>1</td>\n",
       "      <td>1</td>\n",
       "      <td>0</td>\n",
       "      <td>0</td>\n",
       "      <td>0</td>\n",
       "      <td>1</td>\n",
       "      <td>0</td>\n",
       "      <td>0</td>\n",
       "      <td>0</td>\n",
       "      <td>0</td>\n",
       "      <td>0</td>\n",
       "      <td>0</td>\n",
       "      <td>0</td>\n",
       "    </tr>\n",
       "    <tr>\n",
       "      <th>6</th>\n",
       "      <td>0</td>\n",
       "      <td>0</td>\n",
       "      <td>0</td>\n",
       "      <td>0</td>\n",
       "      <td>0</td>\n",
       "      <td>0</td>\n",
       "      <td>1</td>\n",
       "      <td>0</td>\n",
       "      <td>0</td>\n",
       "      <td>0</td>\n",
       "      <td>1</td>\n",
       "      <td>0</td>\n",
       "      <td>0</td>\n",
       "      <td>0</td>\n",
       "      <td>0</td>\n",
       "      <td>0</td>\n",
       "      <td>0</td>\n",
       "      <td>0</td>\n",
       "    </tr>\n",
       "    <tr>\n",
       "      <th>7</th>\n",
       "      <td>0</td>\n",
       "      <td>0</td>\n",
       "      <td>0</td>\n",
       "      <td>0</td>\n",
       "      <td>0</td>\n",
       "      <td>0</td>\n",
       "      <td>0</td>\n",
       "      <td>0</td>\n",
       "      <td>1</td>\n",
       "      <td>0</td>\n",
       "      <td>1</td>\n",
       "      <td>0</td>\n",
       "      <td>0</td>\n",
       "      <td>0</td>\n",
       "      <td>0</td>\n",
       "      <td>0</td>\n",
       "      <td>0</td>\n",
       "      <td>1</td>\n",
       "    </tr>\n",
       "    <tr>\n",
       "      <th>8</th>\n",
       "      <td>0</td>\n",
       "      <td>0</td>\n",
       "      <td>0</td>\n",
       "      <td>0</td>\n",
       "      <td>1</td>\n",
       "      <td>0</td>\n",
       "      <td>0</td>\n",
       "      <td>0</td>\n",
       "      <td>1</td>\n",
       "      <td>0</td>\n",
       "      <td>0</td>\n",
       "      <td>0</td>\n",
       "      <td>0</td>\n",
       "      <td>0</td>\n",
       "      <td>0</td>\n",
       "      <td>1</td>\n",
       "      <td>1</td>\n",
       "      <td>0</td>\n",
       "    </tr>\n",
       "    <tr>\n",
       "      <th>9</th>\n",
       "      <td>0</td>\n",
       "      <td>0</td>\n",
       "      <td>1</td>\n",
       "      <td>0</td>\n",
       "      <td>0</td>\n",
       "      <td>0</td>\n",
       "      <td>0</td>\n",
       "      <td>0</td>\n",
       "      <td>0</td>\n",
       "      <td>0</td>\n",
       "      <td>0</td>\n",
       "      <td>1</td>\n",
       "      <td>0</td>\n",
       "      <td>0</td>\n",
       "      <td>0</td>\n",
       "      <td>0</td>\n",
       "      <td>0</td>\n",
       "      <td>0</td>\n",
       "    </tr>\n",
       "    <tr>\n",
       "      <th>10</th>\n",
       "      <td>0</td>\n",
       "      <td>0</td>\n",
       "      <td>1</td>\n",
       "      <td>1</td>\n",
       "      <td>0</td>\n",
       "      <td>0</td>\n",
       "      <td>0</td>\n",
       "      <td>0</td>\n",
       "      <td>0</td>\n",
       "      <td>0</td>\n",
       "      <td>0</td>\n",
       "      <td>0</td>\n",
       "      <td>0</td>\n",
       "      <td>0</td>\n",
       "      <td>0</td>\n",
       "      <td>0</td>\n",
       "      <td>0</td>\n",
       "      <td>0</td>\n",
       "    </tr>\n",
       "    <tr>\n",
       "      <th>11</th>\n",
       "      <td>0</td>\n",
       "      <td>0</td>\n",
       "      <td>1</td>\n",
       "      <td>0</td>\n",
       "      <td>0</td>\n",
       "      <td>0</td>\n",
       "      <td>0</td>\n",
       "      <td>0</td>\n",
       "      <td>0</td>\n",
       "      <td>0</td>\n",
       "      <td>0</td>\n",
       "      <td>1</td>\n",
       "      <td>0</td>\n",
       "      <td>0</td>\n",
       "      <td>0</td>\n",
       "      <td>0</td>\n",
       "      <td>0</td>\n",
       "      <td>0</td>\n",
       "    </tr>\n",
       "    <tr>\n",
       "      <th>12</th>\n",
       "      <td>1</td>\n",
       "      <td>0</td>\n",
       "      <td>1</td>\n",
       "      <td>0</td>\n",
       "      <td>0</td>\n",
       "      <td>0</td>\n",
       "      <td>0</td>\n",
       "      <td>0</td>\n",
       "      <td>0</td>\n",
       "      <td>1</td>\n",
       "      <td>0</td>\n",
       "      <td>0</td>\n",
       "      <td>0</td>\n",
       "      <td>0</td>\n",
       "      <td>0</td>\n",
       "      <td>0</td>\n",
       "      <td>0</td>\n",
       "      <td>0</td>\n",
       "    </tr>\n",
       "    <tr>\n",
       "      <th>13</th>\n",
       "      <td>0</td>\n",
       "      <td>0</td>\n",
       "      <td>0</td>\n",
       "      <td>0</td>\n",
       "      <td>0</td>\n",
       "      <td>0</td>\n",
       "      <td>0</td>\n",
       "      <td>0</td>\n",
       "      <td>0</td>\n",
       "      <td>0</td>\n",
       "      <td>0</td>\n",
       "      <td>1</td>\n",
       "      <td>0</td>\n",
       "      <td>1</td>\n",
       "      <td>0</td>\n",
       "      <td>0</td>\n",
       "      <td>0</td>\n",
       "      <td>0</td>\n",
       "    </tr>\n",
       "    <tr>\n",
       "      <th>14</th>\n",
       "      <td>0</td>\n",
       "      <td>0</td>\n",
       "      <td>0</td>\n",
       "      <td>1</td>\n",
       "      <td>0</td>\n",
       "      <td>0</td>\n",
       "      <td>0</td>\n",
       "      <td>0</td>\n",
       "      <td>0</td>\n",
       "      <td>0</td>\n",
       "      <td>0</td>\n",
       "      <td>1</td>\n",
       "      <td>0</td>\n",
       "      <td>0</td>\n",
       "      <td>0</td>\n",
       "      <td>0</td>\n",
       "      <td>0</td>\n",
       "      <td>0</td>\n",
       "    </tr>\n",
       "    <tr>\n",
       "      <th>15</th>\n",
       "      <td>0</td>\n",
       "      <td>0</td>\n",
       "      <td>1</td>\n",
       "      <td>0</td>\n",
       "      <td>0</td>\n",
       "      <td>0</td>\n",
       "      <td>0</td>\n",
       "      <td>0</td>\n",
       "      <td>0</td>\n",
       "      <td>0</td>\n",
       "      <td>0</td>\n",
       "      <td>1</td>\n",
       "      <td>0</td>\n",
       "      <td>0</td>\n",
       "      <td>0</td>\n",
       "      <td>0</td>\n",
       "      <td>0</td>\n",
       "      <td>0</td>\n",
       "    </tr>\n",
       "    <tr>\n",
       "      <th>16</th>\n",
       "      <td>1</td>\n",
       "      <td>0</td>\n",
       "      <td>0</td>\n",
       "      <td>0</td>\n",
       "      <td>0</td>\n",
       "      <td>0</td>\n",
       "      <td>0</td>\n",
       "      <td>0</td>\n",
       "      <td>0</td>\n",
       "      <td>1</td>\n",
       "      <td>0</td>\n",
       "      <td>0</td>\n",
       "      <td>0</td>\n",
       "      <td>0</td>\n",
       "      <td>0</td>\n",
       "      <td>0</td>\n",
       "      <td>0</td>\n",
       "      <td>0</td>\n",
       "    </tr>\n",
       "    <tr>\n",
       "      <th>17</th>\n",
       "      <td>1</td>\n",
       "      <td>0</td>\n",
       "      <td>1</td>\n",
       "      <td>0</td>\n",
       "      <td>0</td>\n",
       "      <td>0</td>\n",
       "      <td>0</td>\n",
       "      <td>0</td>\n",
       "      <td>0</td>\n",
       "      <td>1</td>\n",
       "      <td>0</td>\n",
       "      <td>0</td>\n",
       "      <td>0</td>\n",
       "      <td>0</td>\n",
       "      <td>0</td>\n",
       "      <td>0</td>\n",
       "      <td>0</td>\n",
       "      <td>0</td>\n",
       "    </tr>\n",
       "  </tbody>\n",
       "</table>\n",
       "</div>"
      ],
      "text/plain": [
       "    agenda  and  attached  budget  click  coupon  discount  get  here  \\\n",
       "0        0    0         0       0      0       0         0    0     0   \n",
       "1        0    0         0       0      0       0         0    0     1   \n",
       "2        0    0         0       0      0       1         1    0     1   \n",
       "3        0    1         0       0      0       1         1    1     0   \n",
       "4        0    0         0       0      1       0         1    0     1   \n",
       "5        0    1         0       0      0       1         1    0     0   \n",
       "6        0    0         0       0      0       0         1    0     0   \n",
       "7        0    0         0       0      0       0         0    0     1   \n",
       "8        0    0         0       0      1       0         0    0     1   \n",
       "9        0    0         1       0      0       0         0    0     0   \n",
       "10       0    0         1       1      0       0         0    0     0   \n",
       "11       0    0         1       0      0       0         0    0     0   \n",
       "12       1    0         1       0      0       0         0    0     0   \n",
       "13       0    0         0       0      0       0         0    0     0   \n",
       "14       0    0         0       1      0       0         0    0     0   \n",
       "15       0    0         1       0      0       0         0    0     0   \n",
       "16       1    0         0       0      0       0         0    0     0   \n",
       "17       1    0         1       0      0       0         0    0     0   \n",
       "\n",
       "    meeting  password  report  send  today  type  won  you  your  \n",
       "0         0         1       0     0      0     1    0    0     1  \n",
       "1         0         1       0     0      0     1    0    0     1  \n",
       "2         0         0       0     0      0     0    0    0     0  \n",
       "3         0         1       0     1      0     0    0    0     0  \n",
       "4         0         0       0     0      0     0    1    0     0  \n",
       "5         0         1       0     0      0     0    0    0     0  \n",
       "6         0         1       0     0      0     0    0    0     0  \n",
       "7         0         1       0     0      0     0    0    0     1  \n",
       "8         0         0       0     0      0     0    1    1     0  \n",
       "9         0         0       1     0      0     0    0    0     0  \n",
       "10        0         0       0     0      0     0    0    0     0  \n",
       "11        0         0       1     0      0     0    0    0     0  \n",
       "12        1         0       0     0      0     0    0    0     0  \n",
       "13        0         0       1     0      1     0    0    0     0  \n",
       "14        0         0       1     0      0     0    0    0     0  \n",
       "15        0         0       1     0      0     0    0    0     0  \n",
       "16        1         0       0     0      0     0    0    0     0  \n",
       "17        1         0       0     0      0     0    0    0     0  "
      ]
     },
     "execution_count": 26,
     "metadata": {},
     "output_type": "execute_result"
    }
   ],
   "source": [
    "pd.DataFrame(X_train.toarray(), columns=vec.get_feature_names_out())"
   ]
  },
  {
   "cell_type": "markdown",
   "metadata": {},
   "source": [
    "Having the pre-processing done, we can now train the Naïve Bayes. The model class we discussed above is [MultinomialNB](https://scikit-learn.org/stable/modules/generated/sklearn.naive_bayes.MultinomialNB.html#sklearn.naive_bayes.MultinomialNB). Note that there are very few hyperparameters, given the simplicity of this method."
   ]
  },
  {
   "cell_type": "code",
   "execution_count": 27,
   "metadata": {
    "ExecuteTime": {
     "end_time": "2022-02-24T00:04:46.968089Z",
     "start_time": "2022-02-24T00:04:46.623002Z"
    }
   },
   "outputs": [],
   "source": [
    "from sklearn.naive_bayes import MultinomialNB\n",
    "\n",
    "nb = MultinomialNB().fit(X_train, y_train)"
   ]
  },
  {
   "cell_type": "code",
   "execution_count": 28,
   "metadata": {
    "ExecuteTime": {
     "end_time": "2022-02-24T00:05:56.990025Z",
     "start_time": "2022-02-24T00:05:56.981031Z"
    }
   },
   "outputs": [
    {
     "data": {
      "text/plain": [
       "array(['spam', 'spam', 'ham', 'ham'], dtype='<U4')"
      ]
     },
     "execution_count": 28,
     "metadata": {},
     "output_type": "execute_result"
    }
   ],
   "source": [
    "nb.predict(X_test)"
   ]
  },
  {
   "cell_type": "code",
   "execution_count": 29,
   "metadata": {
    "ExecuteTime": {
     "end_time": "2022-02-24T00:06:03.714270Z",
     "start_time": "2022-02-24T00:06:03.695281Z"
    }
   },
   "outputs": [
    {
     "data": {
      "text/plain": [
       "0    spam\n",
       "1    spam\n",
       "2     ham\n",
       "3     ham\n",
       "Name: y, dtype: object"
      ]
     },
     "execution_count": 29,
     "metadata": {},
     "output_type": "execute_result"
    }
   ],
   "source": [
    "y_test"
   ]
  },
  {
   "cell_type": "code",
   "execution_count": 30,
   "metadata": {
    "ExecuteTime": {
     "end_time": "2022-02-24T00:06:16.971591Z",
     "start_time": "2022-02-24T00:06:16.954602Z"
    }
   },
   "outputs": [
    {
     "data": {
      "text/plain": [
       "array([[0.0063963 , 0.9936037 ],\n",
       "       [0.01651075, 0.98348925],\n",
       "       [0.99570956, 0.00429044],\n",
       "       [0.94420339, 0.05579661]])"
      ]
     },
     "execution_count": 30,
     "metadata": {},
     "output_type": "execute_result"
    }
   ],
   "source": [
    "nb.predict_proba(X_test)"
   ]
  },
  {
   "cell_type": "markdown",
   "metadata": {
    "ExecuteTime": {
     "end_time": "2021-09-16T16:08:15.515224Z",
     "start_time": "2021-09-16T16:08:15.447243Z"
    }
   },
   "source": [
    "## Naïve Bayes mathematical details\n",
    "\n",
    "Now that we've seen Naïve Bayes in action, let's understand a little more formally how it works.\n",
    "\n",
    "Consider again Bayes' theorem:\n",
    "\n",
    "$$P(A \\mid B) = \\frac{P(B \\mid A)P(A)}{P(B)}$$\n",
    "\n",
    "Consider that the event $A$ is the target $y$; and that the event $B$ is the set of features $\\vec{x} = (x_1, x_2, ..., x_n) $, we have that:\n",
    "\n",
    "$$P(y \\mid \\vec{x}) = \\frac{ P(\\vec{x} \\mid y) P(y)}{P(\\vec{x})}$$\n",
    "\n",
    "Note that the denominator term, $P(\\vec{x})$, is independent of $y$. Therefore, given that we want to use the method for classification (that is, **determination of the separability of the data with respect to $y$**), we can disregard the denominator, and simply say that:\n",
    "\n",
    "$$P(y \\mid \\vec{x}) \\propto P(\\vec{x} \\mid y) P(y) \\ , $$\n",
    "\n",
    "that is exactly what we did in the example above, when we said that what matters for the final prediction is the relative difference in probabilities, not their absolute value, so proportionality is enough, and we don't need to worry about $P(\\vec{x})$.\n",
    "\n",
    "The Naïve Bayes idea (a **classification** method) is very simple:\n",
    "\n",
    "- initially, we have an initial belief about the probability that the observations belong to each class: the prior probability $P(y)$, which is simply the proportion of each class (`value_counts`)\n",
    "\n",
    "- how can we change this initial belief by considering the likelihoods $P(\\vec{x} \\mid y)$, that is, the probabilities **of the features of an observation having a certain value, given that the observation belongs to class y?**\n",
    "\n",
    "Note that the calculation of the likelihood probability is not trivial **if the features are dependent on each other**. To understand this, let's think about the case of 3 features only, $\\vec{x} = (x_1, x_2, x_3)$.\n",
    "\n",
    "Given that $P(\\vec{x} \\mid y) P(y)$ is exactly equivalent to the **joint probability** $P(\\vec{x}, y)$, that is, $P(\\vec{x} \\mid y) P(y) = P(\\vec{x}, y)$. Thus, in our case, we have:\n",
    "\n",
    "$$P(x_1, x_2, x_3 \\mid y) P(y) = P(x_1, x_2, x_3, y) $$\n",
    "\n",
    "We can write this joint probability, according to the [chain rule](https://en.wikipedia.org/wiki/Chain_rule_(probability)) for conditional probabilities as:\n",
    "\n",
    "$$ P(x_1, x_2, x_3, y) = P(x_1 \\mid x_2, x_3, y) P(x_2 \\mid x_3, y) P (x_3 \\mid y) P(y) $$\n",
    "\n",
    "Notice that the initial terms of this product are not trivial, according to our intuition: it would be nice if we only had terms similar to the penultimate term, right? It is here that the \"naïve\" that names the method comes in: let's **assume conditional independence** between the features, that is, we assume that the features are **mutually independent** when conditioned to $y$. This is equivalent to saying that:\n",
    "\n",
    "$$P(x_i \\mid x_{i+1}, \\cdots , x_n, y) = P(x_i \\mid y)$$\n",
    "\n",
    "Or, in our example,\n",
    "\n",
    "- $P(x_1 \\mid x_2, x_3, y) = P(x_1 \\mid y)$\n",
    "\n",
    "- $P(x_2 \\mid x_3, y) = P(x_2 \\mid y)$\n",
    "\n",
    "So, following the **naïve** hypothesis, we have that:\n",
    "\n",
    "$$ P(x_1, x_2, x_3, y) \\approx P(x_1 \\mid y) P(x_2 \\mid y) P (x_3 \\mid y) P(y) $$\n",
    "\n",
    "Or, more generally,\n",
    "\n",
    "$$ P(\\vec{x}, y) = P(y) \\prod_{i=1}^{n} P(x_i \\mid y) $$\n",
    "\n",
    "Or, still, thinking only about the conditional probability (as we introduced in the practical section above), we have:\n",
    "\n",
    "$$P(\\vec{x} \\mid y) = \\prod_{i=1}^{n} P(x_i \\mid y) $$\n",
    "\n",
    "Given that, we write the **posterior** as:\n",
    "\n",
    "$$ P(y \\mid \\vec{x}) \\propto P(y) \\prod_{i=1}^{n} P(x_i \\mid y) $$\n",
    "\n",
    "This is exactly what we used in the implementation above. With the distinction that, of course, we took the predicted target as being the one that **maximizes** the posterior, that is,\n",
    "\n",
    "$$ \\boxed{\\hat{y} = \\arg\\max_y \\left ( P(y) \\prod_{i=1}^{n} P(x_i \\mid y)  \\right )}$$\n",
    "\n",
    "The equation above can be seen as the hypothesis attached to Naïve Bayes. Note that there is no explicit parameterization, and that (as we saw in the example), its application is fast and direct.\n",
    "\n",
    "Having understood the method, some important observations:\n",
    "\n",
    "- the conditional independence assumption of the features is **very strong**, and in practical cases it does not occur frequently, which ends up being a great disadvantage of Naïve Bayes\n",
    "\n",
    "- besides, because it has no hyperparameter to be adjusted, and is extremely simple and fast, Naïve Bayes is commonly used as a first model (baseline), that is, first pass through the cycle\n",
    "\n",
    "- on the other hand, although the method is not robust for generic classification problems, it is known that Naïve Bayes works satisfactorily for problems involving text (**Natural Language Processing - NLP** tasks), as we saw in the example\n",
    "\n",
    "> Math interlude: Naïve Bayes is fundamentally different from the classifiers we have studied so far. <br><br>\n",
    "From a probabilistic point of view, the algorithms we have studied so far aimed (directly or indirectly) to model $P(y \\mid \\vec{x})$, that is, **determine the target $y$ as being conditioned by the features $\\vec{x}$**. For this reason, they are known as **discriminative classifiers**, since the objective is to separate (discriminate) the target, generating a **decision boundary** learned based on the features.<br><br>\n",
    "On the other hand, Naïve Bayes is a **generative classifier**, since what it estimates is, in fact, $P(\\vec{x} \\mid y)$. The idea here is quite different: we **use the target to determine which features are most suitable for that target value**. For this reason, it is possible to use models of this type to **generate new observations**, based on what has been learned (an interesting use of generative models is precisely in [oversampling](https://arxiv.org/pdf/2005.03773.pdf)).<br><br>\n",
    "[In this post](https://www.analyticsvidhya.com/blog/2021/07/deep-understanding-of-discriminative-and-generative-models-in-machine-learning/), the difference between these methods is explored in a more conceptual way. [In this great material](http://cs229.stanford.edu/notes-spring2019/cs229-notes2.pdf), the discussion takes a more mathematical turn. And for even more mathematical details, I recommend [this article](http://ai.stanford.edu/~ang/papers/nips01-discriminativegenerative.pdf)."
   ]
  },
  {
   "cell_type": "markdown",
   "metadata": {},
   "source": [
    "<img src=\"https://miro.medium.com/max/500/1*1jV03DHuQeVkdzUKrwmX4w.png\">"
   ]
  },
  {
   "cell_type": "markdown",
   "metadata": {
    "ExecuteTime": {
     "end_time": "2021-09-16T16:08:15.515224Z",
     "start_time": "2021-09-16T16:08:15.447243Z"
    }
   },
   "source": [
    "## Naïve Bayes additional considerations\n",
    "\n",
    "In the context of SKLearn, there are some different possibilities of Naïve Bayes implementations. In the [sklearn.naive_bayes](https://scikit-learn.org/stable/modules/classes.html#module-sklearn.naive_bayes) sub-module you can find them. The three most used versions are:\n",
    "\n",
    "- [MultinomialNB](https://scikit-learn.org/stable/modules/generated/sklearn.naive_bayes.MultinomialNB.html#sklearn.naive_bayes.MultinomialNB) : this is the version of the model we studied above. It only admits **discrete features** that represent **occurrence counts**, that is, **absolute frequency**. For this reason, the method associates the [multinomial distribution](https://en.wikipedia.org/wiki/Multinomial_distribution) to the likelihoods $P(x_i \\mid y)$.\n",
    "- [BernoulliNB](https://scikit-learn.org/stable/modules/generated/sklearn.naive_bayes.BernoulliNB.html#sklearn.naive_bayes.BernoulliNB) : this version is also suitable for the use of discrete features, but should be used when there are **binary features**, that is, such that $P(x_i \\mid y)$ follow a [bernoulli distribution](https://en.wikipedia.org/wiki/Bernoulli_distribution): $P(x_i \\mid y) = P(i \\mid y) x_i + (1 - P(i \\mid y)) (1 - x_i)$.\n",
    "- [GaussianNB](https://scikit-learn.org/stable/modules/generated/sklearn.naive_bayes.GaussianNB.html#sklearn.naive_bayes.GaussianNB) : this version can be used for continuous features, which are assumed to be [normally distributed](https://en.wikipedia.org/wiki/Normal_distribution), that is, $P(x_i \\mid y) = \\frac{1}{\\sqrt{2\\pi\\sigma^2_y}} \\exp\\left(-\\frac{(x_i - \\mu_y)^2}{2\\sigma^2_y}\\right)$."
   ]
  },
  {
   "cell_type": "code",
   "execution_count": 31,
   "metadata": {
    "ExecuteTime": {
     "end_time": "2022-02-24T00:36:55.546891Z",
     "start_time": "2022-02-24T00:36:54.046095Z"
    }
   },
   "outputs": [],
   "source": [
    "from sklearn.model_selection import train_test_split\n",
    "from sklearn.metrics import confusion_matrix, classification_report, ConfusionMatrixDisplay\n",
    "from sklearn.naive_bayes import GaussianNB"
   ]
  },
  {
   "cell_type": "code",
   "execution_count": 32,
   "metadata": {
    "ExecuteTime": {
     "end_time": "2022-02-24T00:37:01.239497Z",
     "start_time": "2022-02-24T00:37:00.813602Z"
    }
   },
   "outputs": [],
   "source": [
    "df = pd.read_csv(\"../data/german-credit-data.csv\", index_col=0)\n",
    "\n",
    "df_model = df.select_dtypes(include=np.number)\n",
    "df_model = pd.concat([df_model, df[\"Risk\"]], axis=1)\n",
    "\n",
    "X = df_model.drop(columns=\"Risk\")\n",
    "y = df_model[\"Risk\"]\n",
    "\n",
    "X_train, X_test, y_train, y_test = train_test_split(X, y, test_size=0.2, random_state=42, stratify=y)"
   ]
  },
  {
   "cell_type": "code",
   "execution_count": 34,
   "metadata": {
    "ExecuteTime": {
     "end_time": "2022-02-24T00:37:33.384239Z",
     "start_time": "2022-02-24T00:37:32.560550Z"
    }
   },
   "outputs": [
    {
     "name": "stdout",
     "output_type": "stream",
     "text": [
      "\n",
      "Train evaluation metrics:\n"
     ]
    },
    {
     "data": {
      "image/png": "[encoded data removed]",
      "text/plain": [
       "<Figure size 640x480 with 2 Axes>"
      ]
     },
     "metadata": {},
     "output_type": "display_data"
    },
    {
     "name": "stdout",
     "output_type": "stream",
     "text": [
      "              precision    recall  f1-score   support\n",
      "\n",
      "         bad       0.53      0.24      0.33       240\n",
      "        good       0.74      0.91      0.81       560\n",
      "\n",
      "    accuracy                           0.71       800\n",
      "   macro avg       0.63      0.57      0.57       800\n",
      "weighted avg       0.67      0.71      0.67       800\n",
      "\n",
      "\n",
      "Test evaluation metrics:\n"
     ]
    },
    {
     "data": {
      "image/png": "[encoded data removed]",
      "text/plain": [
       "<Figure size 640x480 with 2 Axes>"
      ]
     },
     "metadata": {},
     "output_type": "display_data"
    },
    {
     "name": "stdout",
     "output_type": "stream",
     "text": [
      "              precision    recall  f1-score   support\n",
      "\n",
      "         bad       0.53      0.28      0.37        60\n",
      "        good       0.74      0.89      0.81       140\n",
      "\n",
      "    accuracy                           0.71       200\n",
      "   macro avg       0.64      0.59      0.59       200\n",
      "weighted avg       0.68      0.71      0.68       200\n",
      "\n"
     ]
    }
   ],
   "source": [
    "gnb = GaussianNB().fit(X_train, y_train)\n",
    "\n",
    "# ============================================\n",
    "\n",
    "print(\"\\nTrain evaluation metrics:\")\n",
    "\n",
    "y_pred_train = gnb.predict(X_train)\n",
    "ConfusionMatrixDisplay.from_predictions(y_train, y_pred_train)\n",
    "plt.show()\n",
    "print(classification_report(y_train, y_pred_train))\n",
    "\n",
    "# ============================================\n",
    "\n",
    "print(\"\\nTest evaluation metrics:\")\n",
    "\n",
    "y_pred_test = gnb.predict(X_test)\n",
    "ConfusionMatrixDisplay.from_predictions(y_test, y_pred_test)\n",
    "plt.show()\n",
    "print(classification_report(y_test, y_pred_test))"
   ]
  },
  {
   "cell_type": "code",
   "execution_count": 35,
   "metadata": {
    "ExecuteTime": {
     "end_time": "2022-02-24T00:39:54.867926Z",
     "start_time": "2022-02-24T00:39:53.646616Z"
    }
   },
   "outputs": [
    {
     "name": "stdout",
     "output_type": "stream",
     "text": [
      "\n",
      "Train evaluation metrics:\n"
     ]
    },
    {
     "data": {
      "image/png": "[encoded data removed]",
      "text/plain": [
       "<Figure size 640x480 with 2 Axes>"
      ]
     },
     "metadata": {},
     "output_type": "display_data"
    },
    {
     "name": "stdout",
     "output_type": "stream",
     "text": [
      "              precision    recall  f1-score   support\n",
      "\n",
      "         bad       0.39      0.42      0.40       240\n",
      "        good       0.74      0.72      0.73       560\n",
      "\n",
      "    accuracy                           0.63       800\n",
      "   macro avg       0.57      0.57      0.57       800\n",
      "weighted avg       0.64      0.63      0.64       800\n",
      "\n",
      "\n",
      "Test evaluation metrics:\n"
     ]
    },
    {
     "data": {
      "image/png": "[encoded data removed]",
      "text/plain": [
       "<Figure size 640x480 with 2 Axes>"
      ]
     },
     "metadata": {},
     "output_type": "display_data"
    },
    {
     "name": "stdout",
     "output_type": "stream",
     "text": [
      "              precision    recall  f1-score   support\n",
      "\n",
      "         bad       0.37      0.43      0.40        60\n",
      "        good       0.74      0.68      0.71       140\n",
      "\n",
      "    accuracy                           0.60       200\n",
      "   macro avg       0.55      0.56      0.55       200\n",
      "weighted avg       0.63      0.60      0.61       200\n",
      "\n"
     ]
    }
   ],
   "source": [
    "mnb = MultinomialNB().fit(X_train, y_train)\n",
    "\n",
    "# ============================================\n",
    "\n",
    "print(\"\\nTrain evaluation metrics:\")\n",
    "\n",
    "y_pred_train = mnb.predict(X_train)\n",
    "ConfusionMatrixDisplay.from_predictions(y_train, y_pred_train)\n",
    "plt.show()\n",
    "print(classification_report(y_train, y_pred_train))\n",
    "\n",
    "# ============================================\n",
    "\n",
    "print(\"\\nTest evaluation metrics:\")\n",
    "\n",
    "y_pred_test = mnb.predict(X_test)\n",
    "ConfusionMatrixDisplay.from_predictions(y_test, y_pred_test)\n",
    "plt.show()\n",
    "print(classification_report(y_test, y_pred_test))"
   ]
  },
  {
   "cell_type": "code",
   "execution_count": 37,
   "metadata": {
    "ExecuteTime": {
     "end_time": "2022-02-24T00:40:52.533594Z",
     "start_time": "2022-02-24T00:40:50.853721Z"
    }
   },
   "outputs": [
    {
     "name": "stdout",
     "output_type": "stream",
     "text": [
      "\n",
      "Train evaluation metrics:\n"
     ]
    },
    {
     "data": {
      "image/png": "[encoded data removed]",
      "text/plain": [
       "<Figure size 640x480 with 2 Axes>"
      ]
     },
     "metadata": {},
     "output_type": "display_data"
    },
    {
     "name": "stdout",
     "output_type": "stream",
     "text": [
      "              precision    recall  f1-score   support\n",
      "\n",
      "         bad       0.00      0.00      0.00       240\n",
      "        good       0.70      1.00      0.82       560\n",
      "\n",
      "    accuracy                           0.70       800\n",
      "   macro avg       0.35      0.50      0.41       800\n",
      "weighted avg       0.49      0.70      0.58       800\n",
      "\n",
      "\n",
      "Test evaluation metrics:\n"
     ]
    },
    {
     "data": {
      "image/png": "[encoded data removed]",
      "text/plain": [
       "<Figure size 640x480 with 2 Axes>"
      ]
     },
     "metadata": {},
     "output_type": "display_data"
    },
    {
     "name": "stdout",
     "output_type": "stream",
     "text": [
      "              precision    recall  f1-score   support\n",
      "\n",
      "         bad       0.00      0.00      0.00        60\n",
      "        good       0.70      1.00      0.82       140\n",
      "\n",
      "    accuracy                           0.70       200\n",
      "   macro avg       0.35      0.50      0.41       200\n",
      "weighted avg       0.49      0.70      0.58       200\n",
      "\n"
     ]
    }
   ],
   "source": [
    "from sklearn.naive_bayes import BernoulliNB\n",
    "\n",
    "bnb = BernoulliNB().fit(X_train, y_train)\n",
    "\n",
    "# ============================================\n",
    "\n",
    "print(\"\\nTrain evaluation metrics:\")\n",
    "\n",
    "y_pred_train = bnb.predict(X_train)\n",
    "ConfusionMatrixDisplay.from_predictions(y_train, y_pred_train)\n",
    "plt.show()\n",
    "print(classification_report(y_train, y_pred_train))\n",
    "\n",
    "# ============================================\n",
    "\n",
    "print(\"\\nTest evaluation metrics:\")\n",
    "\n",
    "y_pred_test = bnb.predict(X_test)\n",
    "ConfusionMatrixDisplay.from_predictions(y_test, y_pred_test)\n",
    "plt.show()\n",
    "print(classification_report(y_test, y_pred_test))"
   ]
  }
 ],
 "metadata": {
  "kernelspec": {
   "display_name": "Python 3",
   "language": "python",
   "name": "python3"
  },
  "language_info": {
   "codemirror_mode": {
    "name": "ipython",
    "version": 3
   },
   "file_extension": ".py",
   "mimetype": "text/x-python",
   "name": "python",
   "nbconvert_exporter": "python",
   "pygments_lexer": "ipython3",
   "version": "3.9.6"
  }
 },
 "nbformat": 4,
 "nbformat_minor": 2
}
