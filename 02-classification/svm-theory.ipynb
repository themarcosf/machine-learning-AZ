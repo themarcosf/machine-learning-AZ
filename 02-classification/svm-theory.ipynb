{
 "cells": [
  {
   "cell_type": "code",
   "execution_count": 1,
   "metadata": {
    "ExecuteTime": {
     "end_time": "2022-02-25T22:04:32.367943Z",
     "start_time": "2022-02-25T22:04:27.296041Z"
    }
   },
   "outputs": [],
   "source": [
    "import numpy as np\n",
    "import pandas as pd\n",
    "import matplotlib.pyplot as plt\n",
    "import seaborn as sns\n",
    "\n",
    "import warnings\n",
    "warnings.filterwarnings('ignore')"
   ]
  },
  {
   "cell_type": "markdown",
   "metadata": {},
   "source": [
    "# Support Vector Machines (SVM)\n",
    "\n",
    "## Intro\n",
    "\n",
    "This method has an extremely elegant and robust construction, which, although complex, can be understood in simple geometric terms. In this class, we will explore the main aspects of this construction, in a higher-level presentation, without worrying too much about the mathematical details.\n",
    "\n",
    "One very important point about SVMs, which is what actually gives them such high power, is their **ability to produce a simple hypothesis, from a complex set of hypotheses**, which has direct consequences on the **generalization capacity** of SVM models: they are able to generalize very well, despite the hypotheses produced seeming highly complex, which is quite formidable.\n",
    "\n",
    "We will not go into the mathematical details that justify and prove the points above. But, for those interested, almost every machine learning textbook addresses these issues. I recommend, in particular, [this book](https://www.google.com.br/books/edition/Learning_with_Kernels/7r34DwAAQBAJ?hl=pt-BR&gbpv=1&dq=learning+with+kernels&printsec=frontcover), which extensively details SVM and related methods; or [this book](https://cs.nyu.edu/~mohri/mlbook/), which formally addresses learning theory, eventually culminating in the huge success of SVMs. Finally, I also recommend [this course](https://work.caltech.edu/index.html) from Caltech, where the topics covered in Mohri's book are presented in a clear, direct, and very illustrative way. This is my biggest recommendation for those who are interested in starting their studies in statistical learning theory, and then having all the rigorous foundation to understand why SVMs are so interesting.\n",
    "\n",
    "Now, let's start our exposition, introducing a fundamental concept for SVMs: the **margin**, and the so-called **margin classifiers**."
   ]
  },
  {
   "cell_type": "markdown",
   "metadata": {},
   "source": [
    "## Margin classifiers\n",
    "\n",
    "Consider the following supervised dataset of a binary classification problem:\n",
    "\n",
    "<img src=https://s3-sa-east-1.amazonaws.com/lcpi/d8d83e07-66d8-47c6-a5e4-4a3e232481e2.PNG width=400>\n",
    "\n",
    "It is visible that the data is linearly separable. In fact, there are infinitely many possible lines that perfectly separate the two classes. Some examples:\n",
    "\n",
    "<img src=https://s3-sa-east-1.amazonaws.com/lcpi/bbf3d0a6-4707-471b-9f19-7290c13e4f23.PNG width=400>\n",
    "\n",
    "Let's look separately at each of these three models:\n",
    "\n",
    "<img src=https://s3-sa-east-1.amazonaws.com/lcpi/6c0bea51-dda9-400c-bb68-d7396e4fa606.PNG width=900>\n",
    "\n",
    "Despite both perfectly separating the training data (training error is zero), we can ask ourselves: which of them has the potential to present **better generalization?**\n",
    "\n",
    "To reflect on this, consider that we want to classify the test point indicated in black:\n",
    "\n",
    "<img src=https://s3-sa-east-1.amazonaws.com/lcpi/fbed2deb-bb38-4ef5-8558-99b7aff5c7b7.PNG width=900>\n",
    "\n",
    "It is very reasonable that this point is classified as being of the red class, isn't it? However, the first classifier will classify it as belonging to the blue class.\n",
    "\n",
    "Why does this happen? Intuitively, we can say that the decision boundary of the first model is \"**very close**\" to the points of the red class, right?\n",
    "\n",
    "But, if we are evaluating the **decision boundary**, it is reasonable that we care, in fact, about the proximity between it **and the \"outermost points\"** of the respective class, right? After all, intuitively, these are the points that exert the greatest influence on the decision boundary, right?\n",
    "\n",
    "It is here that the concept of **margin** comes in:\n",
    "\n",
    "> **Margin** is the **smallest distance** between the training points and the decision boundary\n",
    "\n",
    "Below, we visualize the margins associated with each of the three models:\n",
    "\n",
    "<img src=https://s3-sa-east-1.amazonaws.com/lcpi/72f191fc-7bc0-4451-923a-ecb939e88111.PNG width=900>\n",
    "\n",
    "Given the definition of margin, it is clear that the third model would be our best option, as it **presents a larger margin**. In fact, intuitively, a classifier that presents a larger margin will have a better chance of generalization.\n",
    "\n",
    "> **Maximum margin classifier** is a **linear** classifier that is constructed so that the margin is maximized."
   ]
  },
  {
   "cell_type": "markdown",
   "metadata": {},
   "source": [
    "### Smooth margin classifier\n",
    "\n",
    "A smooth margin classifier is obtained with an extremely simple modification with respect to the maximum margin classifier: allowing **classification errors** to be made in the training set. A possible solution would be something like this:\n",
    "\n",
    "<img src=https://s3-sa-east-1.amazonaws.com/lcpi/cfacd48d-9713-4bec-9fd7-ea1b4ae380f5.PNG width=400>\n",
    "\n",
    "In this case, we have two incorrect observations within the margin - and that's fine, because given that these observations are outliers, we don't need to worry about adjusting the margin to them. With that, we have a model with a slightly larger bias, but with much lower variance - we walk in the direction of the **sweet spot** of generalization.\n",
    "\n",
    "Note, therefore, that the introduction of a smooth margin can be seen as **a regularization procedure** applied to the margin classifier. And that's exactly how we'll see this procedure when we get to SVM - a regularization procedure.\n",
    "\n",
    "A smooth margin classifier is also called a **support vector classifier**, and the points that \"support\" the margin are precisely the so-called **support vectors**."
   ]
  },
  {
   "cell_type": "markdown",
   "metadata": {},
   "source": [
    "#### $D=1$\n",
    "\n",
    "If we have a single feature $(X)$, we will have a **0-dimensional hyperplane**, which is nothing more than **a point** as a decision boundary:\n",
    "\n",
    "<img src=https://s3-sa-east-1.amazonaws.com/lcpi/000d5eb5-25e7-485b-bf36-6ad944970e27.PNG width=400>"
   ]
  },
  {
   "cell_type": "markdown",
   "metadata": {},
   "source": [
    "#### $D=2$\n",
    "\n",
    "If we have two features $(X_1, X_2)$, we will have a **1-dimensional hyperplane**, which is nothing more than **a line** as a decision boundary:\n",
    "\n",
    "<img src=https://s3-sa-east-1.amazonaws.com/lcpi/6ca9b6d4-90fb-4d92-8a73-42ecec09d562.PNG width=400>"
   ]
  },
  {
   "cell_type": "markdown",
   "metadata": {},
   "source": [
    "#### $D=3$\n",
    "\n",
    "If we have three features $(X_1, X_2, X_3)$, we will have a **2-dimensional hyperplane**, which is nothing more than **a plane** as a decision boundary:\n",
    "\n",
    "<img src=https://s3-sa-east-1.amazonaws.com/lcpi/b91951b3-9256-4a38-abd6-287811332db8.PNG width=400>\n",
    "\n",
    "For higher dimensions, $D > 3$, we can no longer visualize the decision boundary, but, in any way, it will be linear (hence, a hyper**plane**)."
   ]
  },
  {
   "cell_type": "markdown",
   "metadata": {},
   "source": [
    "## SVM\n",
    "\n",
    "Imagine that we have the following dataset (with a single dimension):\n",
    "\n",
    "<img src=https://s3-sa-east-1.amazonaws.com/lcpi/e00c77e0-14fb-472f-b9ae-f6af7b229ad5.PNG width=400>\n",
    "\n",
    "It is quite evident that this dataset **is not linearly separable**. Therefore, we cannot produce a support vector classifier for this dataset **in the original feature space**. But, then comes a very interesting idea: what if we **take the data to one or another space?** It would be possible that in the original space the data is not linearly separable, but **it is** in some other space?\n",
    "\n",
    "A priori, if we introduce a new feature $X_2 = X_1^2$, we will be transforming our dataset such as **each observation will be characterized by two features instead of a single one**. That is, our feature space effectively changes from $\\mathbb{R}^1$ to $\\mathbb{R}^2$.\n",
    "\n",
    "<img src=https://s3-sa-east-1.amazonaws.com/lcpi/8d5e6199-8a33-45cf-9e4f-c6507024fb36.PNG width=800>\n",
    "\n",
    "The performed procedure is called **feature map**, and it is mathematically represented by the map (function) $\\Phi$. This is exactly the same procedure that we perform when we use the [PolynomialFeatures](https://scikit-learn.org/stable/modules/generated/sklearn.preprocessing.PolynomialFeatures.html).\n",
    "\n",
    "The \"original space\" is commonly called the **input space** (we will represent it by $\\mathcal{X}$); while the space after applying the feature map is called the **feature space (we will represent it by $\\mathcal{Z}$)**\n",
    "\n",
    "<img src=https://miro.medium.com/max/872/1*zWzeMGyCc7KvGD9X8lwlnQ.png width=400>"
   ]
  },
  {
   "cell_type": "code",
   "execution_count": 2,
   "metadata": {
    "ExecuteTime": {
     "end_time": "2022-02-25T22:52:03.230658Z",
     "start_time": "2022-02-25T22:52:03.152704Z"
    },
    "scrolled": true
   },
   "outputs": [
    {
     "data": {
      "text/html": [
       "<div>\n",
       "<style scoped>\n",
       "    .dataframe tbody tr th:only-of-type {\n",
       "        vertical-align: middle;\n",
       "    }\n",
       "\n",
       "    .dataframe tbody tr th {\n",
       "        vertical-align: top;\n",
       "    }\n",
       "\n",
       "    .dataframe thead th {\n",
       "        text-align: right;\n",
       "    }\n",
       "</style>\n",
       "<table border=\"1\" class=\"dataframe\">\n",
       "  <thead>\n",
       "    <tr style=\"text-align: right;\">\n",
       "      <th></th>\n",
       "      <th>x_1</th>\n",
       "      <th>y</th>\n",
       "    </tr>\n",
       "  </thead>\n",
       "  <tbody>\n",
       "    <tr>\n",
       "      <th>0</th>\n",
       "      <td>0.496714</td>\n",
       "      <td>0</td>\n",
       "    </tr>\n",
       "    <tr>\n",
       "      <th>1</th>\n",
       "      <td>-0.138264</td>\n",
       "      <td>0</td>\n",
       "    </tr>\n",
       "    <tr>\n",
       "      <th>2</th>\n",
       "      <td>0.647689</td>\n",
       "      <td>0</td>\n",
       "    </tr>\n",
       "    <tr>\n",
       "      <th>3</th>\n",
       "      <td>1.523030</td>\n",
       "      <td>1</td>\n",
       "    </tr>\n",
       "    <tr>\n",
       "      <th>4</th>\n",
       "      <td>-0.234153</td>\n",
       "      <td>0</td>\n",
       "    </tr>\n",
       "  </tbody>\n",
       "</table>\n",
       "</div>"
      ],
      "text/plain": [
       "        x_1  y\n",
       "0  0.496714  0\n",
       "1 -0.138264  0\n",
       "2  0.647689  0\n",
       "3  1.523030  1\n",
       "4 -0.234153  0"
      ]
     },
     "execution_count": 2,
     "metadata": {},
     "output_type": "execute_result"
    }
   ],
   "source": [
    "np.random.seed(42)\n",
    "\n",
    "data = {\"x_1\": np.random.normal(0, 1, 20)}\n",
    "df = pd.DataFrame(data)\n",
    "df[\"y\"] = df[\"x_1\"].apply(lambda x: 1 if abs(x) > 1.1 else 0)\n",
    "df.head()"
   ]
  },
  {
   "cell_type": "code",
   "execution_count": 3,
   "metadata": {
    "ExecuteTime": {
     "end_time": "2022-02-25T22:52:08.556039Z",
     "start_time": "2022-02-25T22:52:07.958383Z"
    }
   },
   "outputs": [
    {
     "data": {
      "image/png": "[encoded data removed]",
      "text/plain": [
       "<Figure size 640x480 with 1 Axes>"
      ]
     },
     "metadata": {},
     "output_type": "display_data"
    }
   ],
   "source": [
    "sns.scatterplot(data=df, x=\"x_1\", y=np.zeros(df.shape[0]), hue=\"y\")\n",
    "sns.despine()\n",
    "plt.show()"
   ]
  },
  {
   "cell_type": "code",
   "execution_count": 4,
   "metadata": {
    "ExecuteTime": {
     "end_time": "2022-02-25T22:52:26.272897Z",
     "start_time": "2022-02-25T22:52:26.258906Z"
    }
   },
   "outputs": [
    {
     "data": {
      "text/html": [
       "<div>\n",
       "<style scoped>\n",
       "    .dataframe tbody tr th:only-of-type {\n",
       "        vertical-align: middle;\n",
       "    }\n",
       "\n",
       "    .dataframe tbody tr th {\n",
       "        vertical-align: top;\n",
       "    }\n",
       "\n",
       "    .dataframe thead th {\n",
       "        text-align: right;\n",
       "    }\n",
       "</style>\n",
       "<table border=\"1\" class=\"dataframe\">\n",
       "  <thead>\n",
       "    <tr style=\"text-align: right;\">\n",
       "      <th></th>\n",
       "      <th>x_1</th>\n",
       "      <th>y</th>\n",
       "      <th>x_2</th>\n",
       "    </tr>\n",
       "  </thead>\n",
       "  <tbody>\n",
       "    <tr>\n",
       "      <th>0</th>\n",
       "      <td>0.496714</td>\n",
       "      <td>0</td>\n",
       "      <td>0.246725</td>\n",
       "    </tr>\n",
       "    <tr>\n",
       "      <th>1</th>\n",
       "      <td>-0.138264</td>\n",
       "      <td>0</td>\n",
       "      <td>0.019117</td>\n",
       "    </tr>\n",
       "    <tr>\n",
       "      <th>2</th>\n",
       "      <td>0.647689</td>\n",
       "      <td>0</td>\n",
       "      <td>0.419500</td>\n",
       "    </tr>\n",
       "    <tr>\n",
       "      <th>3</th>\n",
       "      <td>1.523030</td>\n",
       "      <td>1</td>\n",
       "      <td>2.319620</td>\n",
       "    </tr>\n",
       "    <tr>\n",
       "      <th>4</th>\n",
       "      <td>-0.234153</td>\n",
       "      <td>0</td>\n",
       "      <td>0.054828</td>\n",
       "    </tr>\n",
       "  </tbody>\n",
       "</table>\n",
       "</div>"
      ],
      "text/plain": [
       "        x_1  y       x_2\n",
       "0  0.496714  0  0.246725\n",
       "1 -0.138264  0  0.019117\n",
       "2  0.647689  0  0.419500\n",
       "3  1.523030  1  2.319620\n",
       "4 -0.234153  0  0.054828"
      ]
     },
     "execution_count": 4,
     "metadata": {},
     "output_type": "execute_result"
    }
   ],
   "source": [
    "df[\"x_2\"] = df[\"x_1\"]**2\n",
    "df.head()"
   ]
  },
  {
   "cell_type": "code",
   "execution_count": 5,
   "metadata": {
    "ExecuteTime": {
     "end_time": "2022-02-25T22:52:36.618440Z",
     "start_time": "2022-02-25T22:52:36.070328Z"
    }
   },
   "outputs": [
    {
     "data": {
      "image/png": "[encoded data removed]",
      "text/plain": [
       "<Figure size 640x480 with 1 Axes>"
      ]
     },
     "metadata": {},
     "output_type": "display_data"
    }
   ],
   "source": [
    "sns.scatterplot(data=df, x=\"x_1\", y=\"x_2\", hue=\"y\")\n",
    "sns.despine()\n",
    "plt.show()"
   ]
  },
  {
   "cell_type": "markdown",
   "metadata": {},
   "source": [
    "And of course, although we have seen a feature map of the type $\\Phi : \\mathbb{R}^1 \\rightarrow \\mathbb{R}^2$, they can take on the most different forms. In general, we can define a generic feature map as $\\Phi : \\mathcal{X} \\rightarrow \\mathcal{Z}$ (concretely, $\\Phi : \\mathbb{R}^m \\rightarrow \\mathbb{R}^n$, for $m, n$ arbitrary dimensions!)\n",
    "\n",
    "Another example, $\\Phi : \\mathbb{R}^2 \\rightarrow \\mathbb{R}^3$:\n",
    "\n",
    "<img src=https://s3-sa-east-1.amazonaws.com/lcpi/105e0718-f938-4d09-919a-b37f79b410f7.PNG width=400>\n",
    "\n",
    "<img src=https://i.pinimg.com/originals/bc/6b/75/bc6b756f5bf44b54f269b2c076cff162.gif width=400>\n",
    "\n",
    "Finally, now we have all the necessary elements to understand what SVMs are:\n",
    "\n",
    "> a **Support Vector Machine** is nothing more than **a smooth margin classifier** trained **in the feature space**. Therefore, this classifier presupposes the prior application of a **feature map** to the data in the input space."
   ]
  },
  {
   "cell_type": "markdown",
   "metadata": {},
   "source": [
    "From the discussion above, it became clear that it is precisely the feature map that gives great power to SVMs. In fact, the possibility of achieving linear separability is something formidable.\n",
    "\n",
    "In this context, a natural question is: how to choose a good feature map? Formally, there are infinitely many possible feature maps. How to choose, among infinite options, exactly the map that guarantees linear separability in the feature space? Although this question is not easy to answer, there are some techniques to help us choose good feature maps.\n",
    "\n",
    "Beyond that, there is a second, even bigger problem: suppose we want to introduce a kernel that takes the points to a feature space of very high dimensionality (something like $\\Phi : \\mathbb{R}^2 \\mapsto \\mathbb{R}^{10000}$). It would be expected that this is an **operationally costly** feature map to be calculated. To solve this problem, the use of **kernel functions** was introduced to capture an important aspect of feature maps.\n",
    "\n",
    "To understand the importance of kernel functions, we need to understand one thing:\n",
    "\n",
    "> The SVM hypothesis depends only on the **inner product** between the observations in the feature space\n",
    "\n",
    "The hypothesis is as follows:\n",
    "\n",
    "$$f_{H, \\alpha}(\\vec{x}) = \\text{sign} \\left ( \\sum_{i=1}^N y_i \\alpha_i \\langle \\Phi(\\vec{x}) , \\Phi(\\vec{x}_i) \\rangle + b\\right ) $$\n",
    "\n",
    "Understandig the terms:\n",
    "\n",
    "- each $\\vec{x}_i$, $i = 1, 2, \\cdots, N$ is one of the $N$ **training observations**; and each $y_i$ is the respective target;\n",
    "- each $\\alpha_i$ is a [Lagrange multiplier](https://en.wikipedia.org/wiki/Lagrange_multiplier). We can understand them simply as **numerical coefficients associated with each training observation**, and $\\alpha_i > 0$. We can understand these coefficients as substitutes for $\\vec{w}$ (a [dual](https://en.wikipedia.org/wiki/Duality_(optimization)) representation of the hyperplane);\n",
    "- $\\langle \\Phi(\\vec{x}) , \\Phi(\\vec{x}_i) \\rangle$ is the inner product between the test observation $\\vec{x}$ and each training observation $\\vec{x}_i$, **in the feature space**, that is, after applying the feature map!\n",
    "\n",
    "> **Notice:** in our notation of **space z**, we could write $\\Phi(\\vec{x}) = \\vec{z}$ and $\\Phi(\\vec{x}_i) = \\vec{z}_i$.\n",
    "\n",
    "Nevertheless, we will keep the explicit notation $\\Phi(\\vec{x})$. It doesn't seem like it, but this will actually make our notation easier.\n",
    "\n",
    "Conclusions:\n",
    "\n",
    "- a maximum margin classifier has high potential for generalization, for linearly separable data\n",
    "- a smooth margin classifier (support vectors) introduces a little more bias by allowing training errors, but, with that, it increases the potential for generalization, and can be applicable to data that are not exactly linearly separable\n",
    "- the decision boundary of a margin classifier will always be linear in the feature space\n",
    "- if the data is not linearly separable in the original (input) space, we can make a feature map to take them to a feature space where there is linear separability\n",
    "- the only thing that matters to the SVM is the inner product between the observations in the feature space;"
   ]
  },
  {
   "cell_type": "markdown",
   "metadata": {},
   "source": [
    "## Kernel functions\n",
    "\n",
    "A kernel function $\\kappa$ is nothing more than a **measure of similarity** between two vectors $\\vec{x}$ and $\\vec{x}'$ (which in our case, are observations). We define it as:\n",
    "\n",
    "$$\\boxed{\\begin{align*}\n",
    "\\kappa \\ \\colon \\ & \\mathcal{X} \\times \\mathcal{X} \\longrightarrow \\mathbb{R} \\\\\n",
    "& (\\vec{x}, \\vec{x}') \\longmapsto \\kappa(\\vec{x}, \\vec{x}')\n",
    "\\end{align*}}$$\n",
    "\n",
    "That is, a kernel is a function that, given two observations $\\vec{x}$ and $\\vec{x}'$, returns a real number that characterizes how similar the two observations are to each other.\n",
    "\n",
    "**Fundamental point**: a kernel function allows the **inner product** between two observations to be calculated **in the feature space**, without us having to **explicitly take the observations to the feature space**. That is, we can **avoid** the feature map, which is usually computationally costly, from being explicitly applied. And once the SVM is only interested in the inner product, we can use the kernel function directly, which is much more computationally simple than the explicit feature map. This is called the **kernel trick**."
   ]
  },
  {
   "cell_type": "markdown",
   "metadata": {},
   "source": [
    "### Example of application of the kernel trick\n",
    "\n",
    "Consider that we have $\\mathcal{X} = \\mathbb{R}^2$, that is, $\\vec{x} = (X_1, X_2)$, an input space of two dimensions.\n",
    "\n",
    "Then we have a feature map $\\Phi : \\mathbb{R}^2 \\rightarrow \\mathbb{R}^6$, that is, we will have $\\mathcal{Z} = \\mathbb{R}^6$ as the feature space. Explicitly, the application of the feature map is:\n",
    "\n",
    "$$\\Phi(\\vec{x}) = \\left(1, X_1^2, X_2^2, \\sqrt{2}X_1, \\sqrt{2}X_2, \\sqrt{2}X_1 X_2 \\right )$$\n",
    "\n",
    "Therefore, taking two generic observations $\\vec{x}$ and $\\vec{x}'$, we have:\n",
    "\n",
    "$$\\begin{align*}\n",
    "\\langle \\Phi(\\vec{x}) , \\Phi(\\vec{x}') \\rangle &= \\langle \\left(1, X_1^2, X_2^2, \\sqrt{2}X_1, \\sqrt{2}X_2, \\sqrt{2}X_1 X_2 \\right ), \\left(1, X'^2_1, X'^2_2, \\sqrt{2}X'_1, \\sqrt{2}X'_2, \\sqrt{2}X'_1 X'_2 \\right )\\rangle =\n",
    "\\\\\n",
    "\\\\\n",
    "&= 1 + X_1^2 X'^2_1 + X_2^2 X'^2_2 + \\left ( \\sqrt{2}X_1 \\right) \\left ( \\sqrt{2}X'_1 \\right) + \\left ( \\sqrt{2}X_2 \\right )\\left ( \\sqrt{2}X'_2  \\right )+ \\left (\\sqrt{2}X_1 X_2 \\right )\\left (\\sqrt{2}X'_1 X'_2 \\right )  =\n",
    "\\\\\n",
    "\\\\\n",
    "&= 1 + X_1^2 X'^2_1 + X_2^2 X'^2_2 + 2 \\left ( X_1 X'_1 + X_2 X'_2 + X_1 X'_1 X_2 X'_2 \\right ) \n",
    "\\end{align*}$$\n",
    "\n",
    "Let's rearrange the terms above as follows:\n",
    "\n",
    "$$\\begin{align*}\n",
    "\\langle \\Phi(\\vec{x}) , \\Phi(\\vec{x}') \\rangle &= 1 + \\left ( X_1^2 X'^2_1 + X_2^2 X'^2_2 + 2  X_1 X'_1 X_2 X'_2  \\right ) + 2 \\left ( X_1 X'_1 + X_2 X'_2\\right ) =\n",
    "\\\\\n",
    "\\\\\n",
    "&= 1 + \\left ( X_1 X'_1 + X_2 X'_2\\right )^2 + 2 \\left ( X_1 X'_1 + X_2 X'_2\\right ) = \n",
    "\\\\ \n",
    "\\\\\n",
    "&= \\Big ( 1 + \\left ( X_1 X'_1 + X_2 X'_2 \\right ) \\Big)^2\n",
    "\\end{align*}$$\n",
    "\n",
    "Now, note that: $\\langle \\vec{x} , \\vec{x}' \\rangle = \\langle (X_1, X_2), (X'_1, X'_2) \\rangle = X_1 X'_1 + X_2 X'_2$, exactly as it appears in the result above. Therefore, we have:\n",
    "\n",
    "$$\\langle \\Phi(\\vec{x}) , \\Phi(\\vec{x}') \\rangle = \\left ( 1 + \\langle \\vec{x} , \\vec{x}' \\rangle \\right)^2$$\n",
    "\n",
    "That is, we have shown that it is possible to write the inner product between the vectors **in the feature space** in terms (of the inner product) of the vectors **in the input space**. Well, that's precisely the kernel:\n",
    "\n",
    "$$ \\kappa_\\Phi(\\vec{x}, \\vec{x}') = \\left ( 1 + \\langle \\vec{x} , \\vec{x}' \\rangle \\right)^2 = \\langle \\Phi(\\vec{x}) , \\Phi(\\vec{x}') \\rangle$$\n",
    "\n",
    "So, we performed the example above to prove that, indeed, using the kernel is equivalent to calculating the inner product between the observations in the feature space. That is, in fact, $\\kappa_\\Phi(\\vec{x}, \\vec{x}') = \\langle \\Phi(\\vec{x}) , \\Phi(\\vec{x}') \\rangle$.\n",
    "\n",
    "That is why we say that the kernel allows us to **calculate the inner product between two vectors in the feature space** without explicitly \"**having to visit**\" the feature space. This is the efficiency gain that kernels provide.\n",
    "\n",
    "This way, we have defined **the inner product in the feature space** as being the measures of similarity between the points in this space:\n",
    "\n",
    "$$ \\kappa_\\Phi(\\vec{x}, \\vec{x}') = \\langle \\Phi(\\vec{x}) , \\Phi(\\vec{x}') \\rangle \\ ,$$\n",
    "\n",
    "And the hypothesis is rewritten as:\n",
    "\n",
    "$$\\boxed{f_{H, \\alpha}(\\vec{x}) = \\text{sign} \\left ( \\sum_{i=1}^N y_i \\alpha_i\\kappa_\\Phi(\\vec{x}, \\vec{x}_i) + b\\right )} $$\n",
    "\n",
    "In the same way that there are infinitely many possible feature maps, the variety of kernels is also immense. Despite kernels offering an absurd operational advantage over the explicit application of the feature map, the problem of choosing a suitable kernel for a given problem still exists. In practice, there are some ways to propose kernels, but this is not an easy topic. There is a whole set of methods and techniques that use kernels for learning tasks, the so-called [kernel methods](https://en.wikipedia.org/wiki/Kernel_method).\n",
    "\n",
    "Despite the enormous freedom in the design of kernels, there are some particular classes of kernels that are commonly used:\n",
    "\n",
    "- Linear kernel: $\\kappa_\\Phi(\\vec{x}, \\vec{x}') = \\langle \\vec{x}, \\vec{x}'\\rangle $\n",
    "\n",
    "- Polynomial kernel: $\\kappa_\\Phi(\\vec{x}, \\vec{x}') = (\\gamma \\langle \\vec{x}, \\vec{x}'\\rangle + r)^d$\n",
    "\n",
    "- Radial Basis Function (RBF) kernel: $\\kappa_\\Phi(\\vec{x}, \\vec{x}') = \\exp(-\\gamma \\|\\vec{x}-\\vec{x}'\\|^2)$\n",
    "\n",
    "- Sigmoid kernel: $\\kappa_\\Phi(\\vec{x}, \\vec{x}') = \\tanh(\\gamma \\langle \\vec{x},\\vec{x}'\\rangle + r)$\n",
    "\n",
    "> In the explicit example we did above, we used a polynomial kernel with $r=\\gamma=1$ and $d=2$!\n",
    "\n",
    "Note that the functional dependence of the kernels changes, depending exactly on the specific feature map they represent. However, in all cases, the features in the input space are used, which guarantees efficiency."
   ]
  },
  {
   "cell_type": "markdown",
   "metadata": {},
   "source": [
    "## SVM for classification\n",
    "\n",
    "To build an SVM model, it is very important that the data is normalized.\n",
    "\n",
    "The reason is very simple: as we saw above, the SVM is completely based on the kernel, which in turn is given by an inner product. The inner product, on the other hand, is highly dependent on the **scale of the features** (remember, $\\langle \\Phi(\\vec{x}) , \\Phi(\\vec{x}') \\rangle = \\left | \\Phi(\\vec{x}) \\right | \\left | \\Phi(\\vec{x}') \\right | \\cos \\left ({\\theta_{\\vec{x}, \\vec{x}'}} \\right )$, that is, the norm of the vectors influences the inner product). Therefore, to avoid that scale effects influence the classification, normalization is an extremely important step."
   ]
  },
  {
   "cell_type": "code",
   "execution_count": 6,
   "metadata": {
    "ExecuteTime": {
     "end_time": "2022-02-25T23:33:31.429866Z",
     "start_time": "2022-02-25T23:33:30.941090Z"
    }
   },
   "outputs": [],
   "source": [
    "from sklearn.compose import ColumnTransformer\n",
    "from sklearn.preprocessing import StandardScaler, OneHotEncoder, OrdinalEncoder\n",
    "from sklearn.impute import SimpleImputer\n",
    "from sklearn.tree import DecisionTreeClassifier\n",
    "from sklearn.model_selection import GridSearchCV, StratifiedKFold, train_test_split\n",
    "from sklearn.pipeline import Pipeline\n",
    "from sklearn.metrics import confusion_matrix, classification_report, ConfusionMatrixDisplay"
   ]
  },
  {
   "cell_type": "code",
   "execution_count": 7,
   "metadata": {
    "ExecuteTime": {
     "end_time": "2022-02-25T23:55:52.575742Z",
     "start_time": "2022-02-25T23:55:52.557751Z"
    }
   },
   "outputs": [],
   "source": [
    "def pipe_pre_process():\n",
    "    \n",
    "    df = pd.read_csv(\"../data/german-credit-data.csv\", index_col=0)\n",
    "\n",
    "    X = df.drop(columns=\"Risk\")\n",
    "    y = df[\"Risk\"]\n",
    "\n",
    "    X_train, X_test, y_train, y_test = train_test_split(X, y, test_size=0.2, random_state=42, stratify=y)\n",
    "\n",
    "    # ==========================================================\n",
    "\n",
    "    pipe_features_num = Pipeline([(\"input_num\", SimpleImputer(strategy=\"mean\")),\n",
    "                                  (\"std\", StandardScaler())])\n",
    "\n",
    "    features_num = X_train.select_dtypes(include=np.number).columns.tolist()\n",
    "\n",
    "    # ==========================================================\n",
    "\n",
    "    pipe_features_cat = Pipeline([(\"input_cat\", SimpleImputer(strategy=\"constant\", fill_value=\"unknown\")),\n",
    "                                  (\"onehot\", OneHotEncoder())])\n",
    "\n",
    "    features_cat = X_train.select_dtypes(exclude=np.number).columns.tolist()\n",
    "\n",
    "    # ==========================================================\n",
    "\n",
    "    pre_processor = ColumnTransformer([(\"transf_num\", pipe_features_num, features_num),\n",
    "                                         (\"transf_cat\", pipe_features_cat, features_cat)])\n",
    "\n",
    "    return X_train, X_test, y_train, y_test, pre_processor"
   ]
  },
  {
   "cell_type": "code",
   "execution_count": 8,
   "metadata": {
    "ExecuteTime": {
     "end_time": "2022-02-25T23:52:17.960794Z",
     "start_time": "2022-02-25T23:52:17.949800Z"
    }
   },
   "outputs": [],
   "source": [
    "def classification_metrics(X_train, X_test, y_train, y_test, estimator):\n",
    "    \n",
    "    # ============================================\n",
    "\n",
    "    print(\"\\nTrain evaluation metrics:\")\n",
    "\n",
    "    y_pred_train = estimator.predict(X_train)\n",
    "    ConfusionMatrixDisplay.from_predictions(y_train, y_pred_train)\n",
    "    plt.show()\n",
    "    print(classification_report(y_train, y_pred_train))\n",
    "\n",
    "    # ============================================\n",
    "\n",
    "    print(\"\\nTest evaluation metrics:\")\n",
    "\n",
    "    y_pred_test = estimator.predict(X_test)\n",
    "    ConfusionMatrixDisplay.from_predictions(y_test, y_pred_test)\n",
    "    plt.show()\n",
    "    print(classification_report(y_test, y_pred_test))"
   ]
  },
  {
   "cell_type": "markdown",
   "metadata": {},
   "source": [
    "Now, let's instantiate the [SVC](https://scikit-learn.org/stable/modules/generated/sklearn.svm.SVC.html) class.\n",
    "\n",
    "Notice that there are many hyperparameters. It is worth studying a little more about the functioning of each one, and its influence. For some practical tips on using SVMs with SKLearn, [click here](https://scikit-learn.org/stable/modules/svm.html#tips-on-practical-use).\n",
    "\n",
    "In practice, the main hyperparameters will be `C` and `gamma` (if the chosen kernel uses this parameter, such as the rbf kernel: that is why the `kernel` hyperparameter is also important):\n",
    "\n",
    "- `C`: is a regularization parameter, related to the \"smoothness\" of the margin. It controls the tradeoff between the complexity of the decision boundary and classification errors that are allowed. The **lower** the C, the smoother the decision boundary will be, as more classification errors are allowed (that is, the margin becomes **wider**); the **higher** C, the tolerance to classification errors is lower (and the margin becomes less smooth, more complex)\n",
    "\n",
    "<img src=\"https://learnopencv.com/wp-content/uploads/2018/07/svm-parameter-c-example.png\" width=500>\n",
    "\n",
    "- `gamma`: defines the influence that each point has on the decision boundary. It is the \"opening\" of the kernel: the **higher** the gamma, the shorter is the range of the influence, and vice versa\n",
    "\n",
    "<img src=\"https://sgao323.gitbooks.io/artificial-intelligence-projects/content/assets/svm_gamma.png\" width=400>\n",
    "\n",
    "- `kernel`: available options are `linear`, `poly`, `rbf` and `sigmoid`, which we presented above. It is also possible to use a pre-calculated custom kernel (in this case, we use the `precomputed` option).\n",
    "\n",
    "About `C` and `gamma`, it is important that adequate values are found using Grid/Random search, using **exponentially spaced values**."
   ]
  },
  {
   "cell_type": "code",
   "execution_count": 9,
   "metadata": {
    "ExecuteTime": {
     "end_time": "2022-02-25T23:56:05.347629Z",
     "start_time": "2022-02-25T23:56:05.089073Z"
    }
   },
   "outputs": [
    {
     "data": {
      "text/html": [
       "<style>#sk-container-id-1 {color: black;background-color: white;}#sk-container-id-1 pre{padding: 0;}#sk-container-id-1 div.sk-toggleable {background-color: white;}#sk-container-id-1 label.sk-toggleable__label {cursor: pointer;display: block;width: 100%;margin-bottom: 0;padding: 0.3em;box-sizing: border-box;text-align: center;}#sk-container-id-1 label.sk-toggleable__label-arrow:before {content: \"▸\";float: left;margin-right: 0.25em;color: #696969;}#sk-container-id-1 label.sk-toggleable__label-arrow:hover:before {color: black;}#sk-container-id-1 div.sk-estimator:hover label.sk-toggleable__label-arrow:before {color: black;}#sk-container-id-1 div.sk-toggleable__content {max-height: 0;max-width: 0;overflow: hidden;text-align: left;background-color: #f0f8ff;}#sk-container-id-1 div.sk-toggleable__content pre {margin: 0.2em;color: black;border-radius: 0.25em;background-color: #f0f8ff;}#sk-container-id-1 input.sk-toggleable__control:checked~div.sk-toggleable__content {max-height: 200px;max-width: 100%;overflow: auto;}#sk-container-id-1 input.sk-toggleable__control:checked~label.sk-toggleable__label-arrow:before {content: \"▾\";}#sk-container-id-1 div.sk-estimator input.sk-toggleable__control:checked~label.sk-toggleable__label {background-color: #d4ebff;}#sk-container-id-1 div.sk-label input.sk-toggleable__control:checked~label.sk-toggleable__label {background-color: #d4ebff;}#sk-container-id-1 input.sk-hidden--visually {border: 0;clip: rect(1px 1px 1px 1px);clip: rect(1px, 1px, 1px, 1px);height: 1px;margin: -1px;overflow: hidden;padding: 0;position: absolute;width: 1px;}#sk-container-id-1 div.sk-estimator {font-family: monospace;background-color: #f0f8ff;border: 1px dotted black;border-radius: 0.25em;box-sizing: border-box;margin-bottom: 0.5em;}#sk-container-id-1 div.sk-estimator:hover {background-color: #d4ebff;}#sk-container-id-1 div.sk-parallel-item::after {content: \"\";width: 100%;border-bottom: 1px solid gray;flex-grow: 1;}#sk-container-id-1 div.sk-label:hover label.sk-toggleable__label {background-color: #d4ebff;}#sk-container-id-1 div.sk-serial::before {content: \"\";position: absolute;border-left: 1px solid gray;box-sizing: border-box;top: 0;bottom: 0;left: 50%;z-index: 0;}#sk-container-id-1 div.sk-serial {display: flex;flex-direction: column;align-items: center;background-color: white;padding-right: 0.2em;padding-left: 0.2em;position: relative;}#sk-container-id-1 div.sk-item {position: relative;z-index: 1;}#sk-container-id-1 div.sk-parallel {display: flex;align-items: stretch;justify-content: center;background-color: white;position: relative;}#sk-container-id-1 div.sk-item::before, #sk-container-id-1 div.sk-parallel-item::before {content: \"\";position: absolute;border-left: 1px solid gray;box-sizing: border-box;top: 0;bottom: 0;left: 50%;z-index: -1;}#sk-container-id-1 div.sk-parallel-item {display: flex;flex-direction: column;z-index: 1;position: relative;background-color: white;}#sk-container-id-1 div.sk-parallel-item:first-child::after {align-self: flex-end;width: 50%;}#sk-container-id-1 div.sk-parallel-item:last-child::after {align-self: flex-start;width: 50%;}#sk-container-id-1 div.sk-parallel-item:only-child::after {width: 0;}#sk-container-id-1 div.sk-dashed-wrapped {border: 1px dashed gray;margin: 0 0.4em 0.5em 0.4em;box-sizing: border-box;padding-bottom: 0.4em;background-color: white;}#sk-container-id-1 div.sk-label label {font-family: monospace;font-weight: bold;display: inline-block;line-height: 1.2em;}#sk-container-id-1 div.sk-label-container {text-align: center;}#sk-container-id-1 div.sk-container {/* jupyter's `normalize.less` sets `[hidden] { display: none; }` but bootstrap.min.css set `[hidden] { display: none !important; }` so we also need the `!important` here to be able to override the default hidden behavior on the sphinx rendered scikit-learn.org. See: https://github.com/scikit-learn/scikit-learn/issues/21755 */display: inline-block !important;position: relative;}#sk-container-id-1 div.sk-text-repr-fallback {display: none;}</style><div id=\"sk-container-id-1\" class=\"sk-top-container\"><div class=\"sk-text-repr-fallback\"><pre>Pipeline(steps=[(&#x27;pre_process&#x27;,\n",
       "                 ColumnTransformer(transformers=[(&#x27;transf_num&#x27;,\n",
       "                                                  Pipeline(steps=[(&#x27;input_num&#x27;,\n",
       "                                                                   SimpleImputer()),\n",
       "                                                                  (&#x27;std&#x27;,\n",
       "                                                                   StandardScaler())]),\n",
       "                                                  [&#x27;Age&#x27;, &#x27;Job&#x27;,\n",
       "                                                   &#x27;Credit amount&#x27;,\n",
       "                                                   &#x27;Duration&#x27;]),\n",
       "                                                 (&#x27;transf_cat&#x27;,\n",
       "                                                  Pipeline(steps=[(&#x27;input_cat&#x27;,\n",
       "                                                                   SimpleImputer(fill_value=&#x27;unknown&#x27;,\n",
       "                                                                                 strategy=&#x27;constant&#x27;)),\n",
       "                                                                  (&#x27;onehot&#x27;,\n",
       "                                                                   OneHotEncoder())]),\n",
       "                                                  [&#x27;Sex&#x27;, &#x27;Housing&#x27;,\n",
       "                                                   &#x27;Saving accounts&#x27;,\n",
       "                                                   &#x27;Checking account&#x27;,\n",
       "                                                   &#x27;Purpose&#x27;])])),\n",
       "                (&#x27;svc&#x27;, SVC(random_state=42))])</pre><b>In a Jupyter environment, please rerun this cell to show the HTML representation or trust the notebook. <br />On GitHub, the HTML representation is unable to render, please try loading this page with nbviewer.org.</b></div><div class=\"sk-container\" hidden><div class=\"sk-item sk-dashed-wrapped\"><div class=\"sk-label-container\"><div class=\"sk-label sk-toggleable\"><input class=\"sk-toggleable__control sk-hidden--visually\" id=\"sk-estimator-id-1\" type=\"checkbox\" ><label for=\"sk-estimator-id-1\" class=\"sk-toggleable__label sk-toggleable__label-arrow\">Pipeline</label><div class=\"sk-toggleable__content\"><pre>Pipeline(steps=[(&#x27;pre_process&#x27;,\n",
       "                 ColumnTransformer(transformers=[(&#x27;transf_num&#x27;,\n",
       "                                                  Pipeline(steps=[(&#x27;input_num&#x27;,\n",
       "                                                                   SimpleImputer()),\n",
       "                                                                  (&#x27;std&#x27;,\n",
       "                                                                   StandardScaler())]),\n",
       "                                                  [&#x27;Age&#x27;, &#x27;Job&#x27;,\n",
       "                                                   &#x27;Credit amount&#x27;,\n",
       "                                                   &#x27;Duration&#x27;]),\n",
       "                                                 (&#x27;transf_cat&#x27;,\n",
       "                                                  Pipeline(steps=[(&#x27;input_cat&#x27;,\n",
       "                                                                   SimpleImputer(fill_value=&#x27;unknown&#x27;,\n",
       "                                                                                 strategy=&#x27;constant&#x27;)),\n",
       "                                                                  (&#x27;onehot&#x27;,\n",
       "                                                                   OneHotEncoder())]),\n",
       "                                                  [&#x27;Sex&#x27;, &#x27;Housing&#x27;,\n",
       "                                                   &#x27;Saving accounts&#x27;,\n",
       "                                                   &#x27;Checking account&#x27;,\n",
       "                                                   &#x27;Purpose&#x27;])])),\n",
       "                (&#x27;svc&#x27;, SVC(random_state=42))])</pre></div></div></div><div class=\"sk-serial\"><div class=\"sk-item sk-dashed-wrapped\"><div class=\"sk-label-container\"><div class=\"sk-label sk-toggleable\"><input class=\"sk-toggleable__control sk-hidden--visually\" id=\"sk-estimator-id-2\" type=\"checkbox\" ><label for=\"sk-estimator-id-2\" class=\"sk-toggleable__label sk-toggleable__label-arrow\">pre_process: ColumnTransformer</label><div class=\"sk-toggleable__content\"><pre>ColumnTransformer(transformers=[(&#x27;transf_num&#x27;,\n",
       "                                 Pipeline(steps=[(&#x27;input_num&#x27;, SimpleImputer()),\n",
       "                                                 (&#x27;std&#x27;, StandardScaler())]),\n",
       "                                 [&#x27;Age&#x27;, &#x27;Job&#x27;, &#x27;Credit amount&#x27;, &#x27;Duration&#x27;]),\n",
       "                                (&#x27;transf_cat&#x27;,\n",
       "                                 Pipeline(steps=[(&#x27;input_cat&#x27;,\n",
       "                                                  SimpleImputer(fill_value=&#x27;unknown&#x27;,\n",
       "                                                                strategy=&#x27;constant&#x27;)),\n",
       "                                                 (&#x27;onehot&#x27;, OneHotEncoder())]),\n",
       "                                 [&#x27;Sex&#x27;, &#x27;Housing&#x27;, &#x27;Saving accounts&#x27;,\n",
       "                                  &#x27;Checking account&#x27;, &#x27;Purpose&#x27;])])</pre></div></div></div><div class=\"sk-parallel\"><div class=\"sk-parallel-item\"><div class=\"sk-item\"><div class=\"sk-label-container\"><div class=\"sk-label sk-toggleable\"><input class=\"sk-toggleable__control sk-hidden--visually\" id=\"sk-estimator-id-3\" type=\"checkbox\" ><label for=\"sk-estimator-id-3\" class=\"sk-toggleable__label sk-toggleable__label-arrow\">transf_num</label><div class=\"sk-toggleable__content\"><pre>[&#x27;Age&#x27;, &#x27;Job&#x27;, &#x27;Credit amount&#x27;, &#x27;Duration&#x27;]</pre></div></div></div><div class=\"sk-serial\"><div class=\"sk-item\"><div class=\"sk-serial\"><div class=\"sk-item\"><div class=\"sk-estimator sk-toggleable\"><input class=\"sk-toggleable__control sk-hidden--visually\" id=\"sk-estimator-id-4\" type=\"checkbox\" ><label for=\"sk-estimator-id-4\" class=\"sk-toggleable__label sk-toggleable__label-arrow\">SimpleImputer</label><div class=\"sk-toggleable__content\"><pre>SimpleImputer()</pre></div></div></div><div class=\"sk-item\"><div class=\"sk-estimator sk-toggleable\"><input class=\"sk-toggleable__control sk-hidden--visually\" id=\"sk-estimator-id-5\" type=\"checkbox\" ><label for=\"sk-estimator-id-5\" class=\"sk-toggleable__label sk-toggleable__label-arrow\">StandardScaler</label><div class=\"sk-toggleable__content\"><pre>StandardScaler()</pre></div></div></div></div></div></div></div></div><div class=\"sk-parallel-item\"><div class=\"sk-item\"><div class=\"sk-label-container\"><div class=\"sk-label sk-toggleable\"><input class=\"sk-toggleable__control sk-hidden--visually\" id=\"sk-estimator-id-6\" type=\"checkbox\" ><label for=\"sk-estimator-id-6\" class=\"sk-toggleable__label sk-toggleable__label-arrow\">transf_cat</label><div class=\"sk-toggleable__content\"><pre>[&#x27;Sex&#x27;, &#x27;Housing&#x27;, &#x27;Saving accounts&#x27;, &#x27;Checking account&#x27;, &#x27;Purpose&#x27;]</pre></div></div></div><div class=\"sk-serial\"><div class=\"sk-item\"><div class=\"sk-serial\"><div class=\"sk-item\"><div class=\"sk-estimator sk-toggleable\"><input class=\"sk-toggleable__control sk-hidden--visually\" id=\"sk-estimator-id-7\" type=\"checkbox\" ><label for=\"sk-estimator-id-7\" class=\"sk-toggleable__label sk-toggleable__label-arrow\">SimpleImputer</label><div class=\"sk-toggleable__content\"><pre>SimpleImputer(fill_value=&#x27;unknown&#x27;, strategy=&#x27;constant&#x27;)</pre></div></div></div><div class=\"sk-item\"><div class=\"sk-estimator sk-toggleable\"><input class=\"sk-toggleable__control sk-hidden--visually\" id=\"sk-estimator-id-8\" type=\"checkbox\" ><label for=\"sk-estimator-id-8\" class=\"sk-toggleable__label sk-toggleable__label-arrow\">OneHotEncoder</label><div class=\"sk-toggleable__content\"><pre>OneHotEncoder()</pre></div></div></div></div></div></div></div></div></div></div><div class=\"sk-item\"><div class=\"sk-estimator sk-toggleable\"><input class=\"sk-toggleable__control sk-hidden--visually\" id=\"sk-estimator-id-9\" type=\"checkbox\" ><label for=\"sk-estimator-id-9\" class=\"sk-toggleable__label sk-toggleable__label-arrow\">SVC</label><div class=\"sk-toggleable__content\"><pre>SVC(random_state=42)</pre></div></div></div></div></div></div></div>"
      ],
      "text/plain": [
       "Pipeline(steps=[('pre_process',\n",
       "                 ColumnTransformer(transformers=[('transf_num',\n",
       "                                                  Pipeline(steps=[('input_num',\n",
       "                                                                   SimpleImputer()),\n",
       "                                                                  ('std',\n",
       "                                                                   StandardScaler())]),\n",
       "                                                  ['Age', 'Job',\n",
       "                                                   'Credit amount',\n",
       "                                                   'Duration']),\n",
       "                                                 ('transf_cat',\n",
       "                                                  Pipeline(steps=[('input_cat',\n",
       "                                                                   SimpleImputer(fill_value='unknown',\n",
       "                                                                                 strategy='constant')),\n",
       "                                                                  ('onehot',\n",
       "                                                                   OneHotEncoder())]),\n",
       "                                                  ['Sex', 'Housing',\n",
       "                                                   'Saving accounts',\n",
       "                                                   'Checking account',\n",
       "                                                   'Purpose'])])),\n",
       "                ('svc', SVC(random_state=42))])"
      ]
     },
     "execution_count": 9,
     "metadata": {},
     "output_type": "execute_result"
    }
   ],
   "source": [
    "from sklearn.svm import SVC\n",
    "\n",
    "X_train, X_test, y_train, y_test, pre_processor = pipe_pre_process()\n",
    "\n",
    "pipe_svc = Pipeline([(\"pre_process\", pre_processor),\n",
    "                     (\"svc\", SVC(random_state=42))])\n",
    "\n",
    "pipe_svc.fit(X_train, y_train)"
   ]
  },
  {
   "cell_type": "code",
   "execution_count": 10,
   "metadata": {
    "ExecuteTime": {
     "end_time": "2022-02-25T23:57:12.923357Z",
     "start_time": "2022-02-25T23:57:12.134644Z"
    }
   },
   "outputs": [
    {
     "name": "stdout",
     "output_type": "stream",
     "text": [
      "\n",
      "Train evaluation metrics:\n"
     ]
    },
    {
     "data": {
      "image/png": "[encoded data removed]",
      "text/plain": [
       "<Figure size 640x480 with 2 Axes>"
      ]
     },
     "metadata": {},
     "output_type": "display_data"
    },
    {
     "name": "stdout",
     "output_type": "stream",
     "text": [
      "              precision    recall  f1-score   support\n",
      "\n",
      "         bad       0.85      0.42      0.57       240\n",
      "        good       0.80      0.97      0.87       560\n",
      "\n",
      "    accuracy                           0.81       800\n",
      "   macro avg       0.82      0.70      0.72       800\n",
      "weighted avg       0.81      0.81      0.78       800\n",
      "\n",
      "\n",
      "Test evaluation metrics:\n"
     ]
    },
    {
     "data": {
      "image/png": "[encoded data removed]",
      "text/plain": [
       "<Figure size 640x480 with 2 Axes>"
      ]
     },
     "metadata": {},
     "output_type": "display_data"
    },
    {
     "name": "stdout",
     "output_type": "stream",
     "text": [
      "              precision    recall  f1-score   support\n",
      "\n",
      "         bad       0.67      0.30      0.41        60\n",
      "        good       0.76      0.94      0.84       140\n",
      "\n",
      "    accuracy                           0.74       200\n",
      "   macro avg       0.71      0.62      0.63       200\n",
      "weighted avg       0.73      0.74      0.71       200\n",
      "\n"
     ]
    }
   ],
   "source": [
    "classification_metrics(X_train, X_test, y_train, y_test, pipe_svc)"
   ]
  },
  {
   "cell_type": "markdown",
   "metadata": {},
   "source": [
    "Use gridsearch to optimize the model:"
   ]
  },
  {
   "cell_type": "code",
   "execution_count": 11,
   "metadata": {
    "ExecuteTime": {
     "end_time": "2022-02-26T00:00:48.561031Z",
     "start_time": "2022-02-26T00:00:03.927634Z"
    }
   },
   "outputs": [
    {
     "data": {
      "text/html": [
       "<style>#sk-container-id-2 {color: black;background-color: white;}#sk-container-id-2 pre{padding: 0;}#sk-container-id-2 div.sk-toggleable {background-color: white;}#sk-container-id-2 label.sk-toggleable__label {cursor: pointer;display: block;width: 100%;margin-bottom: 0;padding: 0.3em;box-sizing: border-box;text-align: center;}#sk-container-id-2 label.sk-toggleable__label-arrow:before {content: \"▸\";float: left;margin-right: 0.25em;color: #696969;}#sk-container-id-2 label.sk-toggleable__label-arrow:hover:before {color: black;}#sk-container-id-2 div.sk-estimator:hover label.sk-toggleable__label-arrow:before {color: black;}#sk-container-id-2 div.sk-toggleable__content {max-height: 0;max-width: 0;overflow: hidden;text-align: left;background-color: #f0f8ff;}#sk-container-id-2 div.sk-toggleable__content pre {margin: 0.2em;color: black;border-radius: 0.25em;background-color: #f0f8ff;}#sk-container-id-2 input.sk-toggleable__control:checked~div.sk-toggleable__content {max-height: 200px;max-width: 100%;overflow: auto;}#sk-container-id-2 input.sk-toggleable__control:checked~label.sk-toggleable__label-arrow:before {content: \"▾\";}#sk-container-id-2 div.sk-estimator input.sk-toggleable__control:checked~label.sk-toggleable__label {background-color: #d4ebff;}#sk-container-id-2 div.sk-label input.sk-toggleable__control:checked~label.sk-toggleable__label {background-color: #d4ebff;}#sk-container-id-2 input.sk-hidden--visually {border: 0;clip: rect(1px 1px 1px 1px);clip: rect(1px, 1px, 1px, 1px);height: 1px;margin: -1px;overflow: hidden;padding: 0;position: absolute;width: 1px;}#sk-container-id-2 div.sk-estimator {font-family: monospace;background-color: #f0f8ff;border: 1px dotted black;border-radius: 0.25em;box-sizing: border-box;margin-bottom: 0.5em;}#sk-container-id-2 div.sk-estimator:hover {background-color: #d4ebff;}#sk-container-id-2 div.sk-parallel-item::after {content: \"\";width: 100%;border-bottom: 1px solid gray;flex-grow: 1;}#sk-container-id-2 div.sk-label:hover label.sk-toggleable__label {background-color: #d4ebff;}#sk-container-id-2 div.sk-serial::before {content: \"\";position: absolute;border-left: 1px solid gray;box-sizing: border-box;top: 0;bottom: 0;left: 50%;z-index: 0;}#sk-container-id-2 div.sk-serial {display: flex;flex-direction: column;align-items: center;background-color: white;padding-right: 0.2em;padding-left: 0.2em;position: relative;}#sk-container-id-2 div.sk-item {position: relative;z-index: 1;}#sk-container-id-2 div.sk-parallel {display: flex;align-items: stretch;justify-content: center;background-color: white;position: relative;}#sk-container-id-2 div.sk-item::before, #sk-container-id-2 div.sk-parallel-item::before {content: \"\";position: absolute;border-left: 1px solid gray;box-sizing: border-box;top: 0;bottom: 0;left: 50%;z-index: -1;}#sk-container-id-2 div.sk-parallel-item {display: flex;flex-direction: column;z-index: 1;position: relative;background-color: white;}#sk-container-id-2 div.sk-parallel-item:first-child::after {align-self: flex-end;width: 50%;}#sk-container-id-2 div.sk-parallel-item:last-child::after {align-self: flex-start;width: 50%;}#sk-container-id-2 div.sk-parallel-item:only-child::after {width: 0;}#sk-container-id-2 div.sk-dashed-wrapped {border: 1px dashed gray;margin: 0 0.4em 0.5em 0.4em;box-sizing: border-box;padding-bottom: 0.4em;background-color: white;}#sk-container-id-2 div.sk-label label {font-family: monospace;font-weight: bold;display: inline-block;line-height: 1.2em;}#sk-container-id-2 div.sk-label-container {text-align: center;}#sk-container-id-2 div.sk-container {/* jupyter's `normalize.less` sets `[hidden] { display: none; }` but bootstrap.min.css set `[hidden] { display: none !important; }` so we also need the `!important` here to be able to override the default hidden behavior on the sphinx rendered scikit-learn.org. See: https://github.com/scikit-learn/scikit-learn/issues/21755 */display: inline-block !important;position: relative;}#sk-container-id-2 div.sk-text-repr-fallback {display: none;}</style><div id=\"sk-container-id-2\" class=\"sk-top-container\"><div class=\"sk-text-repr-fallback\"><pre>GridSearchCV(cv=StratifiedKFold(n_splits=5, random_state=42, shuffle=True),\n",
       "             estimator=Pipeline(steps=[(&#x27;pre_process&#x27;,\n",
       "                                        ColumnTransformer(transformers=[(&#x27;transf_num&#x27;,\n",
       "                                                                         Pipeline(steps=[(&#x27;input_num&#x27;,\n",
       "                                                                                          SimpleImputer()),\n",
       "                                                                                         (&#x27;std&#x27;,\n",
       "                                                                                          StandardScaler())]),\n",
       "                                                                         [&#x27;Age&#x27;,\n",
       "                                                                          &#x27;Job&#x27;,\n",
       "                                                                          &#x27;Credit &#x27;\n",
       "                                                                          &#x27;amount&#x27;,\n",
       "                                                                          &#x27;Duration&#x27;]),\n",
       "                                                                        (&#x27;transf_cat&#x27;,\n",
       "                                                                         Pipeline(steps=[(&#x27;input_cat&#x27;,\n",
       "                                                                                          SimpleImputer(fill_value=&#x27;unknown&#x27;,\n",
       "                                                                                                        strategy=&#x27;constant&#x27;)),\n",
       "                                                                                         (&#x27;onehot&#x27;,\n",
       "                                                                                          OneHotEncoder())]),\n",
       "                                                                         [&#x27;Sex&#x27;,\n",
       "                                                                          &#x27;Housing&#x27;,\n",
       "                                                                          &#x27;Saving &#x27;\n",
       "                                                                          &#x27;accounts&#x27;,\n",
       "                                                                          &#x27;Checking &#x27;\n",
       "                                                                          &#x27;account&#x27;,\n",
       "                                                                          &#x27;Purpose&#x27;])])),\n",
       "                                       (&#x27;svc&#x27;, SVC(random_state=42))]),\n",
       "             n_jobs=-1,\n",
       "             param_grid={&#x27;svc__C&#x27;: array([1.e-02, 1.e-01, 1.e+00, 1.e+01, 1.e+02]),\n",
       "                         &#x27;svc__gamma&#x27;: array([1.e-02, 1.e-01, 1.e+00, 1.e+01, 1.e+02]),\n",
       "                         &#x27;svc__kernel&#x27;: [&#x27;rbf&#x27;, &#x27;poly&#x27;]},\n",
       "             scoring=&#x27;f1_weighted&#x27;)</pre><b>In a Jupyter environment, please rerun this cell to show the HTML representation or trust the notebook. <br />On GitHub, the HTML representation is unable to render, please try loading this page with nbviewer.org.</b></div><div class=\"sk-container\" hidden><div class=\"sk-item sk-dashed-wrapped\"><div class=\"sk-label-container\"><div class=\"sk-label sk-toggleable\"><input class=\"sk-toggleable__control sk-hidden--visually\" id=\"sk-estimator-id-10\" type=\"checkbox\" ><label for=\"sk-estimator-id-10\" class=\"sk-toggleable__label sk-toggleable__label-arrow\">GridSearchCV</label><div class=\"sk-toggleable__content\"><pre>GridSearchCV(cv=StratifiedKFold(n_splits=5, random_state=42, shuffle=True),\n",
       "             estimator=Pipeline(steps=[(&#x27;pre_process&#x27;,\n",
       "                                        ColumnTransformer(transformers=[(&#x27;transf_num&#x27;,\n",
       "                                                                         Pipeline(steps=[(&#x27;input_num&#x27;,\n",
       "                                                                                          SimpleImputer()),\n",
       "                                                                                         (&#x27;std&#x27;,\n",
       "                                                                                          StandardScaler())]),\n",
       "                                                                         [&#x27;Age&#x27;,\n",
       "                                                                          &#x27;Job&#x27;,\n",
       "                                                                          &#x27;Credit &#x27;\n",
       "                                                                          &#x27;amount&#x27;,\n",
       "                                                                          &#x27;Duration&#x27;]),\n",
       "                                                                        (&#x27;transf_cat&#x27;,\n",
       "                                                                         Pipeline(steps=[(&#x27;input_cat&#x27;,\n",
       "                                                                                          SimpleImputer(fill_value=&#x27;unknown&#x27;,\n",
       "                                                                                                        strategy=&#x27;constant&#x27;)),\n",
       "                                                                                         (&#x27;onehot&#x27;,\n",
       "                                                                                          OneHotEncoder())]),\n",
       "                                                                         [&#x27;Sex&#x27;,\n",
       "                                                                          &#x27;Housing&#x27;,\n",
       "                                                                          &#x27;Saving &#x27;\n",
       "                                                                          &#x27;accounts&#x27;,\n",
       "                                                                          &#x27;Checking &#x27;\n",
       "                                                                          &#x27;account&#x27;,\n",
       "                                                                          &#x27;Purpose&#x27;])])),\n",
       "                                       (&#x27;svc&#x27;, SVC(random_state=42))]),\n",
       "             n_jobs=-1,\n",
       "             param_grid={&#x27;svc__C&#x27;: array([1.e-02, 1.e-01, 1.e+00, 1.e+01, 1.e+02]),\n",
       "                         &#x27;svc__gamma&#x27;: array([1.e-02, 1.e-01, 1.e+00, 1.e+01, 1.e+02]),\n",
       "                         &#x27;svc__kernel&#x27;: [&#x27;rbf&#x27;, &#x27;poly&#x27;]},\n",
       "             scoring=&#x27;f1_weighted&#x27;)</pre></div></div></div><div class=\"sk-parallel\"><div class=\"sk-parallel-item\"><div class=\"sk-item\"><div class=\"sk-label-container\"><div class=\"sk-label sk-toggleable\"><input class=\"sk-toggleable__control sk-hidden--visually\" id=\"sk-estimator-id-11\" type=\"checkbox\" ><label for=\"sk-estimator-id-11\" class=\"sk-toggleable__label sk-toggleable__label-arrow\">estimator: Pipeline</label><div class=\"sk-toggleable__content\"><pre>Pipeline(steps=[(&#x27;pre_process&#x27;,\n",
       "                 ColumnTransformer(transformers=[(&#x27;transf_num&#x27;,\n",
       "                                                  Pipeline(steps=[(&#x27;input_num&#x27;,\n",
       "                                                                   SimpleImputer()),\n",
       "                                                                  (&#x27;std&#x27;,\n",
       "                                                                   StandardScaler())]),\n",
       "                                                  [&#x27;Age&#x27;, &#x27;Job&#x27;,\n",
       "                                                   &#x27;Credit amount&#x27;,\n",
       "                                                   &#x27;Duration&#x27;]),\n",
       "                                                 (&#x27;transf_cat&#x27;,\n",
       "                                                  Pipeline(steps=[(&#x27;input_cat&#x27;,\n",
       "                                                                   SimpleImputer(fill_value=&#x27;unknown&#x27;,\n",
       "                                                                                 strategy=&#x27;constant&#x27;)),\n",
       "                                                                  (&#x27;onehot&#x27;,\n",
       "                                                                   OneHotEncoder())]),\n",
       "                                                  [&#x27;Sex&#x27;, &#x27;Housing&#x27;,\n",
       "                                                   &#x27;Saving accounts&#x27;,\n",
       "                                                   &#x27;Checking account&#x27;,\n",
       "                                                   &#x27;Purpose&#x27;])])),\n",
       "                (&#x27;svc&#x27;, SVC(random_state=42))])</pre></div></div></div><div class=\"sk-serial\"><div class=\"sk-item\"><div class=\"sk-serial\"><div class=\"sk-item sk-dashed-wrapped\"><div class=\"sk-label-container\"><div class=\"sk-label sk-toggleable\"><input class=\"sk-toggleable__control sk-hidden--visually\" id=\"sk-estimator-id-12\" type=\"checkbox\" ><label for=\"sk-estimator-id-12\" class=\"sk-toggleable__label sk-toggleable__label-arrow\">pre_process: ColumnTransformer</label><div class=\"sk-toggleable__content\"><pre>ColumnTransformer(transformers=[(&#x27;transf_num&#x27;,\n",
       "                                 Pipeline(steps=[(&#x27;input_num&#x27;, SimpleImputer()),\n",
       "                                                 (&#x27;std&#x27;, StandardScaler())]),\n",
       "                                 [&#x27;Age&#x27;, &#x27;Job&#x27;, &#x27;Credit amount&#x27;, &#x27;Duration&#x27;]),\n",
       "                                (&#x27;transf_cat&#x27;,\n",
       "                                 Pipeline(steps=[(&#x27;input_cat&#x27;,\n",
       "                                                  SimpleImputer(fill_value=&#x27;unknown&#x27;,\n",
       "                                                                strategy=&#x27;constant&#x27;)),\n",
       "                                                 (&#x27;onehot&#x27;, OneHotEncoder())]),\n",
       "                                 [&#x27;Sex&#x27;, &#x27;Housing&#x27;, &#x27;Saving accounts&#x27;,\n",
       "                                  &#x27;Checking account&#x27;, &#x27;Purpose&#x27;])])</pre></div></div></div><div class=\"sk-parallel\"><div class=\"sk-parallel-item\"><div class=\"sk-item\"><div class=\"sk-label-container\"><div class=\"sk-label sk-toggleable\"><input class=\"sk-toggleable__control sk-hidden--visually\" id=\"sk-estimator-id-13\" type=\"checkbox\" ><label for=\"sk-estimator-id-13\" class=\"sk-toggleable__label sk-toggleable__label-arrow\">transf_num</label><div class=\"sk-toggleable__content\"><pre>[&#x27;Age&#x27;, &#x27;Job&#x27;, &#x27;Credit amount&#x27;, &#x27;Duration&#x27;]</pre></div></div></div><div class=\"sk-serial\"><div class=\"sk-item\"><div class=\"sk-serial\"><div class=\"sk-item\"><div class=\"sk-estimator sk-toggleable\"><input class=\"sk-toggleable__control sk-hidden--visually\" id=\"sk-estimator-id-14\" type=\"checkbox\" ><label for=\"sk-estimator-id-14\" class=\"sk-toggleable__label sk-toggleable__label-arrow\">SimpleImputer</label><div class=\"sk-toggleable__content\"><pre>SimpleImputer()</pre></div></div></div><div class=\"sk-item\"><div class=\"sk-estimator sk-toggleable\"><input class=\"sk-toggleable__control sk-hidden--visually\" id=\"sk-estimator-id-15\" type=\"checkbox\" ><label for=\"sk-estimator-id-15\" class=\"sk-toggleable__label sk-toggleable__label-arrow\">StandardScaler</label><div class=\"sk-toggleable__content\"><pre>StandardScaler()</pre></div></div></div></div></div></div></div></div><div class=\"sk-parallel-item\"><div class=\"sk-item\"><div class=\"sk-label-container\"><div class=\"sk-label sk-toggleable\"><input class=\"sk-toggleable__control sk-hidden--visually\" id=\"sk-estimator-id-16\" type=\"checkbox\" ><label for=\"sk-estimator-id-16\" class=\"sk-toggleable__label sk-toggleable__label-arrow\">transf_cat</label><div class=\"sk-toggleable__content\"><pre>[&#x27;Sex&#x27;, &#x27;Housing&#x27;, &#x27;Saving accounts&#x27;, &#x27;Checking account&#x27;, &#x27;Purpose&#x27;]</pre></div></div></div><div class=\"sk-serial\"><div class=\"sk-item\"><div class=\"sk-serial\"><div class=\"sk-item\"><div class=\"sk-estimator sk-toggleable\"><input class=\"sk-toggleable__control sk-hidden--visually\" id=\"sk-estimator-id-17\" type=\"checkbox\" ><label for=\"sk-estimator-id-17\" class=\"sk-toggleable__label sk-toggleable__label-arrow\">SimpleImputer</label><div class=\"sk-toggleable__content\"><pre>SimpleImputer(fill_value=&#x27;unknown&#x27;, strategy=&#x27;constant&#x27;)</pre></div></div></div><div class=\"sk-item\"><div class=\"sk-estimator sk-toggleable\"><input class=\"sk-toggleable__control sk-hidden--visually\" id=\"sk-estimator-id-18\" type=\"checkbox\" ><label for=\"sk-estimator-id-18\" class=\"sk-toggleable__label sk-toggleable__label-arrow\">OneHotEncoder</label><div class=\"sk-toggleable__content\"><pre>OneHotEncoder()</pre></div></div></div></div></div></div></div></div></div></div><div class=\"sk-item\"><div class=\"sk-estimator sk-toggleable\"><input class=\"sk-toggleable__control sk-hidden--visually\" id=\"sk-estimator-id-19\" type=\"checkbox\" ><label for=\"sk-estimator-id-19\" class=\"sk-toggleable__label sk-toggleable__label-arrow\">SVC</label><div class=\"sk-toggleable__content\"><pre>SVC(random_state=42)</pre></div></div></div></div></div></div></div></div></div></div></div></div>"
      ],
      "text/plain": [
       "GridSearchCV(cv=StratifiedKFold(n_splits=5, random_state=42, shuffle=True),\n",
       "             estimator=Pipeline(steps=[('pre_process',\n",
       "                                        ColumnTransformer(transformers=[('transf_num',\n",
       "                                                                         Pipeline(steps=[('input_num',\n",
       "                                                                                          SimpleImputer()),\n",
       "                                                                                         ('std',\n",
       "                                                                                          StandardScaler())]),\n",
       "                                                                         ['Age',\n",
       "                                                                          'Job',\n",
       "                                                                          'Credit '\n",
       "                                                                          'amount',\n",
       "                                                                          'Duration']),\n",
       "                                                                        ('transf_cat',\n",
       "                                                                         Pipeline(steps=[('input_cat',\n",
       "                                                                                          SimpleImputer(fill_value='unknown',\n",
       "                                                                                                        strategy='constant')),\n",
       "                                                                                         ('onehot',\n",
       "                                                                                          OneHotEncoder())]),\n",
       "                                                                         ['Sex',\n",
       "                                                                          'Housing',\n",
       "                                                                          'Saving '\n",
       "                                                                          'accounts',\n",
       "                                                                          'Checking '\n",
       "                                                                          'account',\n",
       "                                                                          'Purpose'])])),\n",
       "                                       ('svc', SVC(random_state=42))]),\n",
       "             n_jobs=-1,\n",
       "             param_grid={'svc__C': array([1.e-02, 1.e-01, 1.e+00, 1.e+01, 1.e+02]),\n",
       "                         'svc__gamma': array([1.e-02, 1.e-01, 1.e+00, 1.e+01, 1.e+02]),\n",
       "                         'svc__kernel': ['rbf', 'poly']},\n",
       "             scoring='f1_weighted')"
      ]
     },
     "execution_count": 11,
     "metadata": {},
     "output_type": "execute_result"
    }
   ],
   "source": [
    "X_train, X_test, y_train, y_test, pre_processor = pipe_pre_process()\n",
    "\n",
    "pipe_svc = Pipeline([(\"pre_process\", pre_processor),\n",
    "                     (\"svc\", SVC(random_state=42))])\n",
    "\n",
    "# ===========================================\n",
    "\n",
    "param_grid_svc = {\"svc__kernel\" : [\"rbf\", \"poly\"],\n",
    "                  \"svc__C\" : np.logspace(-2, 2, 5),\n",
    "                  \"svc__gamma\" : np.logspace(-2, 2, 5)}\n",
    "\n",
    "splitter = StratifiedKFold(n_splits=5, shuffle=True, random_state=42)\n",
    "\n",
    "grid_svc = GridSearchCV(estimator=pipe_svc,\n",
    "                       param_grid=param_grid_svc,\n",
    "                       scoring=\"f1_weighted\",\n",
    "                       cv=splitter,\n",
    "                       n_jobs=-1)\n",
    "\n",
    "grid_svc.fit(X_train, y_train)"
   ]
  },
  {
   "cell_type": "code",
   "execution_count": 12,
   "metadata": {
    "ExecuteTime": {
     "end_time": "2022-02-26T00:01:05.769043Z",
     "start_time": "2022-02-26T00:01:05.753060Z"
    }
   },
   "outputs": [
    {
     "data": {
      "text/plain": [
       "{'svc__C': 100.0, 'svc__gamma': 0.01, 'svc__kernel': 'rbf'}"
      ]
     },
     "execution_count": 12,
     "metadata": {},
     "output_type": "execute_result"
    }
   ],
   "source": [
    "grid_svc.best_params_"
   ]
  },
  {
   "cell_type": "code",
   "execution_count": 13,
   "metadata": {
    "ExecuteTime": {
     "end_time": "2022-02-26T00:01:54.874505Z",
     "start_time": "2022-02-26T00:01:54.086955Z"
    }
   },
   "outputs": [
    {
     "name": "stdout",
     "output_type": "stream",
     "text": [
      "\n",
      "Train evaluation metrics:\n"
     ]
    },
    {
     "data": {
      "image/png": "[encoded data removed]",
      "text/plain": [
       "<Figure size 640x480 with 2 Axes>"
      ]
     },
     "metadata": {},
     "output_type": "display_data"
    },
    {
     "name": "stdout",
     "output_type": "stream",
     "text": [
      "              precision    recall  f1-score   support\n",
      "\n",
      "         bad       0.78      0.45      0.57       240\n",
      "        good       0.80      0.95      0.87       560\n",
      "\n",
      "    accuracy                           0.80       800\n",
      "   macro avg       0.79      0.70      0.72       800\n",
      "weighted avg       0.79      0.80      0.78       800\n",
      "\n",
      "\n",
      "Test evaluation metrics:\n"
     ]
    },
    {
     "data": {
      "image/png": "[encoded data removed]",
      "text/plain": [
       "<Figure size 640x480 with 2 Axes>"
      ]
     },
     "metadata": {},
     "output_type": "display_data"
    },
    {
     "name": "stdout",
     "output_type": "stream",
     "text": [
      "              precision    recall  f1-score   support\n",
      "\n",
      "         bad       0.70      0.38      0.49        60\n",
      "        good       0.78      0.93      0.85       140\n",
      "\n",
      "    accuracy                           0.77       200\n",
      "   macro avg       0.74      0.66      0.67       200\n",
      "weighted avg       0.75      0.77      0.74       200\n",
      "\n"
     ]
    }
   ],
   "source": [
    "classification_metrics(X_train, X_test, y_train, y_test, grid_svc)"
   ]
  },
  {
   "cell_type": "markdown",
   "metadata": {},
   "source": [
    "## SVM for regression\n",
    "\n",
    "Even though we presented SVM as a classifier, it is also possible to use this method for regression. All elements of the SVM classifier (margin, kernel, etc.) are also relevant here.\n",
    "\n",
    "The idea is very simple: use a kernel so that a **linear regression model is trained in the feature space**. In the input space, this model is reflected as a non-linear regression (in the same way that, in the case of classification, linear decision boundaries in the feature space are reflected as non-linear boundaries in the input space).\n",
    "\n",
    "The main difference is that the concept of margin is also present, so that **only some points will effectively contribute to the regression**. In this case, they are the points **within the margin** (region known as $\\epsilon-$tube) that will be these support vectors. That is, points that are outside the margin do not contribute to the cost function.\n",
    "\n",
    "<img src=https://www.saedsayad.com/images/SVR_5.png width=600>\n",
    "\n",
    "A comparison between SVM classifiers and regressors:\n",
    "\n",
    "<img src=https://miro.medium.com/max/1100/1*XE9jt0r1yAW8LnliQ3mllQ.png width=600>"
   ]
  },
  {
   "cell_type": "code",
   "execution_count": 14,
   "metadata": {
    "ExecuteTime": {
     "end_time": "2022-02-26T00:28:45.135047Z",
     "start_time": "2022-02-26T00:28:45.112040Z"
    }
   },
   "outputs": [],
   "source": [
    "def pipe_pre_process():\n",
    "\n",
    "    df = pd.read_csv(\"../data/house-prices.csv\")\n",
    "\n",
    "    X = df.drop(columns=[\"SalePrice\", \"Id\"])\n",
    "    y = df[\"SalePrice\"]\n",
    "\n",
    "    X_train, X_test, y_train, y_test = train_test_split(X, y, test_size=0.2, random_state=42)\n",
    "    \n",
    "    # ==========================================================\n",
    "\n",
    "    pipe_features_num = Pipeline([(\"input_num\", SimpleImputer(strategy=\"mean\")),\n",
    "                                  (\"std\", StandardScaler())])\n",
    "\n",
    "    features_num = X_train.select_dtypes(include=np.number).columns.tolist()\n",
    "\n",
    "    # ==========================================================\n",
    "\n",
    "    pipe_features_cat = Pipeline([(\"input_cat\", SimpleImputer(strategy=\"constant\", fill_value=\"unknown\")),\n",
    "                                  # agora, com o handle_unknown, pra evitar o errro de categoria nova no teste\n",
    "                                  (\"onehot\", OneHotEncoder(handle_unknown=\"ignore\"))])\n",
    "\n",
    "    features_cat = X_train.select_dtypes(exclude=np.number).columns.tolist()\n",
    "\n",
    "    # ==========================================================\n",
    "\n",
    "    pre_processor = ColumnTransformer([(\"transf_num\", pipe_features_num, features_num),\n",
    "                                         (\"transf_cat\", pipe_features_cat, features_cat)])\n",
    "\n",
    "    return X_train, X_test, y_train, y_test, pre_processor"
   ]
  },
  {
   "cell_type": "code",
   "execution_count": 15,
   "metadata": {},
   "outputs": [],
   "source": [
    "from sklearn.metrics import r2_score, mean_absolute_error, mean_squared_error\n",
    "\n",
    "def regression_metrics(X_train, X_test, y_train, y_test, estimator):\n",
    "    \n",
    "    y_pred_train = estimator.predict(X_train)\n",
    "\n",
    "    print(\"\\nTrain evaluation metrics:\")\n",
    "    print(f\"R^2: {r2_score(y_train, y_pred_train):.2f}\")\n",
    "    print(f\"MAE: {mean_absolute_error(y_train, y_pred_train):.2f}\")\n",
    "    print(f\"RMSE: {np.sqrt(mean_squared_error(y_train, y_pred_train)):.2f}\")\n",
    "\n",
    "    y_pred_test = estimator.predict(X_test)\n",
    "\n",
    "    print(\"\\nTest evaluation metrics:\")\n",
    "    print(f\"R^2: {r2_score(y_test, y_pred_test):.2f}\")\n",
    "    print(f\"MAE: {mean_absolute_error(y_test, y_pred_test):.2f}\")\n",
    "    print(f\"RMSE: {np.sqrt(mean_squared_error(y_test, y_pred_test)):.2f}\") "
   ]
  },
  {
   "cell_type": "code",
   "execution_count": 16,
   "metadata": {
    "ExecuteTime": {
     "end_time": "2022-02-26T00:29:03.005936Z",
     "start_time": "2022-02-26T00:29:01.614297Z"
    }
   },
   "outputs": [
    {
     "name": "stdout",
     "output_type": "stream",
     "text": [
      "\n",
      "Train evaluation metrics:\n",
      "R^2: -0.04\n",
      "MAE: 54502.05\n",
      "RMSE: 78921.69\n",
      "\n",
      "Test evaluation metrics:\n",
      "R^2: -0.02\n",
      "MAE: 59515.82\n",
      "RMSE: 88626.08\n"
     ]
    }
   ],
   "source": [
    "from sklearn.svm import SVR\n",
    "\n",
    "X_train, X_test, y_train, y_test, pre_processador = pipe_pre_process()\n",
    "\n",
    "pipe_svr = Pipeline([(\"pre_process\", pre_processador),\n",
    "                     (\"svr\", SVR())])\n",
    "\n",
    "pipe_svr.fit(X_train, y_train)\n",
    "\n",
    "regression_metrics(X_train, X_test, y_train, y_test, pipe_svr)"
   ]
  }
 ],
 "metadata": {
  "kernelspec": {
   "display_name": "Python 3",
   "language": "python",
   "name": "python3"
  },
  "language_info": {
   "codemirror_mode": {
    "name": "ipython",
    "version": 3
   },
   "file_extension": ".py",
   "mimetype": "text/x-python",
   "name": "python",
   "nbconvert_exporter": "python",
   "pygments_lexer": "ipython3",
   "version": "3.9.6"
  }
 },
 "nbformat": 4,
 "nbformat_minor": 2
}
