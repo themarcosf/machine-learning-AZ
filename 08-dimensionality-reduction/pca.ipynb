{
 "cells": [
  {
   "cell_type": "code",
   "execution_count": 1,
   "metadata": {
    "ExecuteTime": {
     "end_time": "2022-03-09T21:48:09.888683Z",
     "start_time": "2022-03-09T21:47:34.719833Z"
    }
   },
   "outputs": [],
   "source": [
    "import numpy  as np\n",
    "import pandas as pd \n",
    "import matplotlib.pyplot as plt\n",
    "import seaborn as sns\n",
    "\n",
    "import warnings\n",
    "warnings.filterwarnings('ignore')"
   ]
  },
  {
   "cell_type": "markdown",
   "metadata": {},
   "source": [
    "# PCA\n",
    "\n",
    "PCA (principal component analysis) is an **unsupervised** technique that determines **the directions of maximum variance** in the feature space, so that **the directions are orthogonal to each other**.\n",
    "\n",
    "That is,\n",
    "\n",
    "> the first principal component is the direction that maximizes the variance of the projected data onto its direction; the second principal component is a direction orthogonal to the first that also maximizes the variance in this direction, and so on.\n",
    "\n",
    "<img src=https://austingwalters.com/wp-content/uploads/2014/11/gaussDist-labeled.png width=400>\n",
    "\n",
    "It is worth remembering that:\n",
    "\n",
    "- if the original space has $n$ features, it is possible to construct $n$ principal components\n",
    "- each principal component is a **linear combination of the original features**\n",
    "- the principal components are orthogonal to each other\n",
    "- the principal components are linearly uncorrelated\n",
    "\n",
    "It is very common for PCA to be used as a **dimensionality reduction** technique, because, **in the transformed space of principal components**, it is common that a large part of the complete variance of the data is contained in the first $L$ principal components ($L < n$). So, instead of using the complete feature space (of dimension $n$) to build models, we can use only $L$ dimensions **of the principal component feature space**, thus reducing the dimensionality of the effective feature space in which the estimators will work.\n",
    "\n",
    "The objectives of this reduction can be:\n",
    "\n",
    "- avoid the curse of dimensionality\n",
    "- train models more quickly (more efficiently), after all, there is less data\n",
    "- supply data without any collinearity (there are estimators that assume non-collinearity)\n",
    "\n",
    "## What is each PC?\n",
    "\n",
    "As said above, each principal component is a **linear combination of the original features**. In this sense, we can see PCA as a method that constructs a new feature space, of the same dimension as the original space:\n",
    "\n",
    "<img src=https://miro.medium.com/max/1200/1*V3JWBvxB92Uo116Bpxa3Tw.png width=700>\n",
    "\n",
    "The point is that the feature space constructed by PCA is very particular: the new features are orthogonal to each other, and such that they maximize the variance of the data in each projection subspace, as we said above. Therefore, in practice, let $\\mathcal{X}$ be an input space of $n$ dimensions, such that each feature vector $\\vec{x} \\in \\mathcal{X}$ is given by:\n",
    "\n",
    "$ \\vec{x} = \\left ( x_1, x_2, x_3, \\cdots , x_n \\right) $\n",
    "\n",
    "After applying PCA, we will be in the space of principal components, such that a feature vector in this space, $\\vec{x}_{PC}$, will be given by:\n",
    "\n",
    "$ \\vec{x}_{PC} = \\left ( PC_1, PC_2, PC_3, \\cdots , PC_n \\right) $\n",
    "\n",
    "Where each principal component is a linear combination of the original features, that is,\n",
    "\n",
    "$ PC_i = \\sum_{k=1}^n \\alpha_{i, k} x_k = \\alpha_{i, 1} x_1 +  \\alpha_{i, 2} x_2 + \\cdots +  \\alpha_{i, n} x_n$\n",
    "\n",
    "Note that each principal component $i$ has $n$ different coefficients $\\alpha_{i, k}$, which accompany each of the features $k$ of the original space."
   ]
  },
  {
   "cell_type": "code",
   "execution_count": 2,
   "metadata": {
    "ExecuteTime": {
     "end_time": "2022-03-09T21:48:10.294631Z",
     "start_time": "2022-03-09T21:48:09.891160Z"
    }
   },
   "outputs": [
    {
     "data": {
      "text/html": [
       "<div>\n",
       "<style scoped>\n",
       "    .dataframe tbody tr th:only-of-type {\n",
       "        vertical-align: middle;\n",
       "    }\n",
       "\n",
       "    .dataframe tbody tr th {\n",
       "        vertical-align: top;\n",
       "    }\n",
       "\n",
       "    .dataframe thead th {\n",
       "        text-align: right;\n",
       "    }\n",
       "</style>\n",
       "<table border=\"1\" class=\"dataframe\">\n",
       "  <thead>\n",
       "    <tr style=\"text-align: right;\">\n",
       "      <th></th>\n",
       "      <th>sepal_length</th>\n",
       "      <th>sepal_width</th>\n",
       "      <th>petal_length</th>\n",
       "      <th>petal_width</th>\n",
       "      <th>species</th>\n",
       "    </tr>\n",
       "  </thead>\n",
       "  <tbody>\n",
       "    <tr>\n",
       "      <th>0</th>\n",
       "      <td>5.1</td>\n",
       "      <td>3.5</td>\n",
       "      <td>1.4</td>\n",
       "      <td>0.2</td>\n",
       "      <td>setosa</td>\n",
       "    </tr>\n",
       "    <tr>\n",
       "      <th>1</th>\n",
       "      <td>4.9</td>\n",
       "      <td>3.0</td>\n",
       "      <td>1.4</td>\n",
       "      <td>0.2</td>\n",
       "      <td>setosa</td>\n",
       "    </tr>\n",
       "    <tr>\n",
       "      <th>2</th>\n",
       "      <td>4.7</td>\n",
       "      <td>3.2</td>\n",
       "      <td>1.3</td>\n",
       "      <td>0.2</td>\n",
       "      <td>setosa</td>\n",
       "    </tr>\n",
       "    <tr>\n",
       "      <th>3</th>\n",
       "      <td>4.6</td>\n",
       "      <td>3.1</td>\n",
       "      <td>1.5</td>\n",
       "      <td>0.2</td>\n",
       "      <td>setosa</td>\n",
       "    </tr>\n",
       "    <tr>\n",
       "      <th>4</th>\n",
       "      <td>5.0</td>\n",
       "      <td>3.6</td>\n",
       "      <td>1.4</td>\n",
       "      <td>0.2</td>\n",
       "      <td>setosa</td>\n",
       "    </tr>\n",
       "  </tbody>\n",
       "</table>\n",
       "</div>"
      ],
      "text/plain": [
       "   sepal_length  sepal_width  petal_length  petal_width species\n",
       "0           5.1          3.5           1.4          0.2  setosa\n",
       "1           4.9          3.0           1.4          0.2  setosa\n",
       "2           4.7          3.2           1.3          0.2  setosa\n",
       "3           4.6          3.1           1.5          0.2  setosa\n",
       "4           5.0          3.6           1.4          0.2  setosa"
      ]
     },
     "execution_count": 2,
     "metadata": {},
     "output_type": "execute_result"
    }
   ],
   "source": [
    "df = pd.read_csv(\"../data/iris.csv\")\n",
    "df.head()"
   ]
  },
  {
   "cell_type": "code",
   "execution_count": 3,
   "metadata": {},
   "outputs": [
    {
     "data": {
      "text/plain": [
       "(150, 5)"
      ]
     },
     "execution_count": 3,
     "metadata": {},
     "output_type": "execute_result"
    }
   ],
   "source": [
    "df.shape"
   ]
  },
  {
   "cell_type": "code",
   "execution_count": 4,
   "metadata": {
    "ExecuteTime": {
     "end_time": "2022-03-09T21:48:10.578058Z",
     "start_time": "2022-03-09T21:48:10.439427Z"
    }
   },
   "outputs": [],
   "source": [
    "X = df.drop(columns=\"species\")\n",
    "y = df[\"species\"]"
   ]
  },
  {
   "cell_type": "code",
   "execution_count": 5,
   "metadata": {
    "ExecuteTime": {
     "end_time": "2022-03-09T21:48:13.962509Z",
     "start_time": "2022-03-09T21:48:10.581077Z"
    }
   },
   "outputs": [],
   "source": [
    "from sklearn.model_selection import train_test_split\n",
    "\n",
    "X_train, X_test, y_train, y_test = train_test_split(X, y, test_size=0.2, \n",
    "                                                    random_state=42, stratify=y)"
   ]
  },
  {
   "cell_type": "markdown",
   "metadata": {},
   "source": [
    "In the case of the iris dataset, we have 4 features, so that the original space has 4 dimensions, and a feature vector is:\n",
    "\n",
    "$ \\vec{x} = (x_1, x_2, x_3, x_4)$\n",
    "\n",
    "Such as:\n",
    "\n",
    "- $x_1$ : 'sepal_length', \n",
    "- $x_2$ : 'sepal_width', \n",
    "- $x_3$ : 'petal_length', \n",
    "- $x_4$ : 'petal_width'.\n",
    "\n",
    "So, we expect that after PCA, the space of principal components also has 4 dimensions, that is,\n",
    "\n",
    "$ \\vec{x}_{PC} = \\left ( PC_1, PC_2, PC_3, PC_4 \\right) $\n",
    "\n",
    "And the principal components will be:\n",
    "\n",
    "$ PC_1 = \\alpha_{1, 1} x_1 + \\alpha_{1, 2} x_2 + \\alpha_{1, 3} x_3 + \\alpha_{1, 4} x_4$\n",
    "\n",
    "$ PC_2 = \\alpha_{2, 1} x_1 + \\alpha_{2, 2} x_2 + \\alpha_{2, 3} x_3 + \\alpha_{2, 4} x_4$\n",
    "\n",
    "$ PC_3 = \\alpha_{3, 1} x_1 + \\alpha_{3, 2} x_2 + \\alpha_{3, 3} x_3 + \\alpha_{3, 4} x_4$\n",
    "\n",
    "$ PC_4 = \\alpha_{4, 1} x_1 + \\alpha_{4, 2} x_2 + \\alpha_{4, 3} x_3 + \\alpha_{4, 4} x_4$"
   ]
  },
  {
   "cell_type": "code",
   "execution_count": 6,
   "metadata": {
    "ExecuteTime": {
     "end_time": "2022-03-09T21:48:14.232038Z",
     "start_time": "2022-03-09T21:48:13.998491Z"
    }
   },
   "outputs": [
    {
     "data": {
      "text/html": [
       "<div>\n",
       "<style scoped>\n",
       "    .dataframe tbody tr th:only-of-type {\n",
       "        vertical-align: middle;\n",
       "    }\n",
       "\n",
       "    .dataframe tbody tr th {\n",
       "        vertical-align: top;\n",
       "    }\n",
       "\n",
       "    .dataframe thead th {\n",
       "        text-align: right;\n",
       "    }\n",
       "</style>\n",
       "<table border=\"1\" class=\"dataframe\">\n",
       "  <thead>\n",
       "    <tr style=\"text-align: right;\">\n",
       "      <th></th>\n",
       "      <th>sepal_length</th>\n",
       "      <th>sepal_width</th>\n",
       "      <th>petal_length</th>\n",
       "      <th>petal_width</th>\n",
       "    </tr>\n",
       "  </thead>\n",
       "  <tbody>\n",
       "    <tr>\n",
       "      <th>0</th>\n",
       "      <td>-1.721568</td>\n",
       "      <td>-0.332101</td>\n",
       "      <td>-1.345722</td>\n",
       "      <td>-1.323276</td>\n",
       "    </tr>\n",
       "    <tr>\n",
       "      <th>1</th>\n",
       "      <td>-1.124492</td>\n",
       "      <td>-1.227655</td>\n",
       "      <td>0.414505</td>\n",
       "      <td>0.651763</td>\n",
       "    </tr>\n",
       "    <tr>\n",
       "      <th>2</th>\n",
       "      <td>1.144395</td>\n",
       "      <td>-0.555990</td>\n",
       "      <td>0.584850</td>\n",
       "      <td>0.256755</td>\n",
       "    </tr>\n",
       "    <tr>\n",
       "      <th>3</th>\n",
       "      <td>-1.124492</td>\n",
       "      <td>0.115676</td>\n",
       "      <td>-1.288941</td>\n",
       "      <td>-1.454945</td>\n",
       "    </tr>\n",
       "    <tr>\n",
       "      <th>4</th>\n",
       "      <td>-0.408002</td>\n",
       "      <td>-1.227655</td>\n",
       "      <td>0.130598</td>\n",
       "      <td>0.125086</td>\n",
       "    </tr>\n",
       "  </tbody>\n",
       "</table>\n",
       "</div>"
      ],
      "text/plain": [
       "   sepal_length  sepal_width  petal_length  petal_width\n",
       "0     -1.721568    -0.332101     -1.345722    -1.323276\n",
       "1     -1.124492    -1.227655      0.414505     0.651763\n",
       "2      1.144395    -0.555990      0.584850     0.256755\n",
       "3     -1.124492     0.115676     -1.288941    -1.454945\n",
       "4     -0.408002    -1.227655      0.130598     0.125086"
      ]
     },
     "execution_count": 6,
     "metadata": {},
     "output_type": "execute_result"
    }
   ],
   "source": [
    "from sklearn.preprocessing import StandardScaler\n",
    "\n",
    "ss = StandardScaler().fit(X_train)\n",
    "\n",
    "X_train_ss = pd.DataFrame(ss.transform(X_train), columns=X_train.columns)\n",
    "X_train_ss.head()"
   ]
  },
  {
   "cell_type": "code",
   "execution_count": 7,
   "metadata": {
    "ExecuteTime": {
     "end_time": "2022-03-09T21:48:16.668891Z",
     "start_time": "2022-03-09T21:48:14.237032Z"
    }
   },
   "outputs": [],
   "source": [
    "from sklearn.decomposition import PCA\n",
    "\n",
    "pca = PCA(random_state=42).fit(X_train_ss)"
   ]
  },
  {
   "cell_type": "code",
   "execution_count": 8,
   "metadata": {
    "ExecuteTime": {
     "end_time": "2022-03-09T21:48:16.683887Z",
     "start_time": "2022-03-09T21:48:16.671894Z"
    }
   },
   "outputs": [
    {
     "data": {
      "text/plain": [
       "array(['sepal_length', 'sepal_width', 'petal_length', 'petal_width'],\n",
       "      dtype=object)"
      ]
     },
     "execution_count": 8,
     "metadata": {},
     "output_type": "execute_result"
    }
   ],
   "source": [
    "pca.feature_names_in_"
   ]
  },
  {
   "cell_type": "code",
   "execution_count": 19,
   "metadata": {
    "ExecuteTime": {
     "end_time": "2022-03-09T22:38:03.181943Z",
     "start_time": "2022-03-09T22:38:03.166930Z"
    }
   },
   "outputs": [
    {
     "data": {
      "image/png": "[encoded data removed]",
      "text/plain": [
       "<Figure size 640x480 with 1 Axes>"
      ]
     },
     "metadata": {},
     "output_type": "display_data"
    }
   ],
   "source": [
    "labels = [f\"PC_{i+1}\" for i in range(pca.n_components_)]\n",
    "plt.bar(labels, pca.explained_variance_ratio_*100);"
   ]
  },
  {
   "cell_type": "markdown",
   "metadata": {},
   "source": [
    "From the results, it is easy to see that with only 2 principal components, we capture 95% of the variance of the data. So, in case we want to reduce the number of dimensions from $n=4$ to $L=2$, we are guaranteed that a large part of the variability will be contained in the two principal components that we will use for modeling.\n",
    "\n",
    "> notice that the choice of $L < n$ principal components can be seen as a **feature selection** procedure, but done **in the space of principal components**\n",
    "> since it is not the original features that are selected, it is common to refer to this procedure as **dimensionality reduction** (and the dimensionality that is reduced is that of the principal component space)\n",
    "\n",
    "Indeed, note that **all 4 original features** are present in each of the PCs, as terms of the linear combination that defines each PC. And, naturally, all 4 are present in the first $L$."
   ]
  },
  {
   "cell_type": "markdown",
   "metadata": {},
   "source": [
    "## PCA in the Pipeline"
   ]
  },
  {
   "cell_type": "code",
   "execution_count": 20,
   "metadata": {
    "ExecuteTime": {
     "end_time": "2022-03-09T22:48:21.445070Z",
     "start_time": "2022-03-09T22:48:21.436058Z"
    }
   },
   "outputs": [],
   "source": [
    "from sklearn.metrics import classification_report, ConfusionMatrixDisplay"
   ]
  },
  {
   "cell_type": "code",
   "execution_count": 21,
   "metadata": {
    "ExecuteTime": {
     "end_time": "2022-03-09T22:48:22.771588Z",
     "start_time": "2022-03-09T22:48:22.743602Z"
    }
   },
   "outputs": [],
   "source": [
    "def classification_metrics(estimator, X_train, X_test, y_train, y_test):\n",
    "    print(\"\\nTrain evaluation metrics:\")\n",
    "    y_pred_train = estimator.predict(X_train)\n",
    "    ConfusionMatrixDisplay.from_predictions(y_train, y_pred_train)\n",
    "    plt.show()\n",
    "    print(classification_report(y_train, y_pred_train))\n",
    "\n",
    "    print(\"\\nTest evaluation metrics:\")\n",
    "    y_pred_test = estimator.predict(X_test)\n",
    "    ConfusionMatrixDisplay.from_predictions(y_test, y_pred_test)\n",
    "    plt.show()\n",
    "    print(classification_report(y_test, y_pred_test))"
   ]
  },
  {
   "cell_type": "code",
   "execution_count": 22,
   "metadata": {
    "ExecuteTime": {
     "end_time": "2022-03-09T22:48:57.406480Z",
     "start_time": "2022-03-09T22:48:57.154196Z"
    }
   },
   "outputs": [],
   "source": [
    "df = pd.read_csv(\"../data/iris.csv\")\n",
    "\n",
    "X = df.drop(columns=\"species\")\n",
    "y = df[\"species\"]\n",
    "\n",
    "X_train, X_test, y_train, y_test = train_test_split(X, y, test_size=0.2, \n",
    "                                                    random_state=42, stratify=y)"
   ]
  },
  {
   "cell_type": "code",
   "execution_count": 23,
   "metadata": {
    "ExecuteTime": {
     "end_time": "2022-03-09T22:49:42.315032Z",
     "start_time": "2022-03-09T22:49:42.306016Z"
    }
   },
   "outputs": [],
   "source": [
    "from sklearn.pipeline import Pipeline\n",
    "from sklearn.linear_model import LogisticRegression"
   ]
  },
  {
   "cell_type": "code",
   "execution_count": 25,
   "metadata": {
    "ExecuteTime": {
     "end_time": "2022-03-09T22:55:12.038557Z",
     "start_time": "2022-03-09T22:55:11.391884Z"
    },
    "scrolled": true
   },
   "outputs": [
    {
     "name": "stdout",
     "output_type": "stream",
     "text": [
      "\n",
      "Train evaluation metrics:\n"
     ]
    },
    {
     "data": {
      "image/png": "[encoded data removed]",
      "text/plain": [
       "<Figure size 640x480 with 2 Axes>"
      ]
     },
     "metadata": {},
     "output_type": "display_data"
    },
    {
     "name": "stdout",
     "output_type": "stream",
     "text": [
      "              precision    recall  f1-score   support\n",
      "\n",
      "      setosa       1.00      1.00      1.00        40\n",
      "  versicolor       0.92      0.88      0.90        40\n",
      "   virginica       0.88      0.93      0.90        40\n",
      "\n",
      "    accuracy                           0.93       120\n",
      "   macro avg       0.93      0.93      0.93       120\n",
      "weighted avg       0.93      0.93      0.93       120\n",
      "\n",
      "\n",
      "Test evaluation metrics:\n"
     ]
    },
    {
     "data": {
      "image/png": "[encoded data removed]",
      "text/plain": [
       "<Figure size 640x480 with 2 Axes>"
      ]
     },
     "metadata": {},
     "output_type": "display_data"
    },
    {
     "name": "stdout",
     "output_type": "stream",
     "text": [
      "              precision    recall  f1-score   support\n",
      "\n",
      "      setosa       1.00      1.00      1.00        10\n",
      "  versicolor       0.82      0.90      0.86        10\n",
      "   virginica       0.89      0.80      0.84        10\n",
      "\n",
      "    accuracy                           0.90        30\n",
      "   macro avg       0.90      0.90      0.90        30\n",
      "weighted avg       0.90      0.90      0.90        30\n",
      "\n"
     ]
    }
   ],
   "source": [
    "pipe_pca = Pipeline([(\"ss\", StandardScaler()),\n",
    "                     (\"pca\", PCA(n_components=2)),\n",
    "                     (\"lr\", LogisticRegression(random_state=42))])\n",
    "\n",
    "pipe_pca.fit(X_train, y_train)\n",
    "classification_metrics(pipe_pca, X_train, X_test, y_train, y_test)"
   ]
  }
 ],
 "metadata": {
  "kernelspec": {
   "display_name": "Python 3",
   "language": "python",
   "name": "python3"
  },
  "language_info": {
   "codemirror_mode": {
    "name": "ipython",
    "version": 3
   },
   "file_extension": ".py",
   "mimetype": "text/x-python",
   "name": "python",
   "nbconvert_exporter": "python",
   "pygments_lexer": "ipython3",
   "version": "3.9.6"
  }
 },
 "nbformat": 4,
 "nbformat_minor": 4
}
