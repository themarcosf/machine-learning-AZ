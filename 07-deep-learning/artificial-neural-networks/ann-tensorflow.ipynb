{
  "cells": [
    {
      "cell_type": "markdown",
      "metadata": {
        "colab_type": "text",
        "id": "lP6JLo1tGNBg"
      },
      "source": [
        "# Artificial Neural Network"
      ]
    },
    {
      "cell_type": "markdown",
      "metadata": {
        "colab_type": "text",
        "id": "gWZyYmS_UE_L"
      },
      "source": [
        "### Importing the libraries"
      ]
    },
    {
      "cell_type": "code",
      "execution_count": 1,
      "metadata": {
        "colab": {},
        "colab_type": "code",
        "id": "MxkJoQBkUIHC"
      },
      "outputs": [],
      "source": [
        "import numpy as np\n",
        "import pandas as pd\n",
        "import tensorflow as tf"
      ]
    },
    {
      "cell_type": "code",
      "execution_count": 2,
      "metadata": {
        "colab": {
          "base_uri": "https://localhost:8080/",
          "height": 34
        },
        "colab_type": "code",
        "id": "ZaTwK7ojXr2F",
        "outputId": "0b27a96d-d11a-43e8-ab4b-87c1f01896fe"
      },
      "outputs": [
        {
          "data": {
            "text/plain": [
              "'2.13.0'"
            ]
          },
          "execution_count": 2,
          "metadata": {},
          "output_type": "execute_result"
        }
      ],
      "source": [
        "tf.__version__"
      ]
    },
    {
      "cell_type": "markdown",
      "metadata": {
        "colab_type": "text",
        "id": "1E0Q3aoKUCRX"
      },
      "source": [
        "## Part 1 - Data Preprocessing"
      ]
    },
    {
      "cell_type": "markdown",
      "metadata": {
        "colab_type": "text",
        "id": "cKWAkFVGUU0Z"
      },
      "source": [
        "### Importing the dataset"
      ]
    },
    {
      "cell_type": "code",
      "execution_count": 3,
      "metadata": {
        "colab": {},
        "colab_type": "code",
        "id": "MXUkhkMfU4wq"
      },
      "outputs": [
        {
          "data": {
            "text/html": [
              "<div>\n",
              "<style scoped>\n",
              "    .dataframe tbody tr th:only-of-type {\n",
              "        vertical-align: middle;\n",
              "    }\n",
              "\n",
              "    .dataframe tbody tr th {\n",
              "        vertical-align: top;\n",
              "    }\n",
              "\n",
              "    .dataframe thead th {\n",
              "        text-align: right;\n",
              "    }\n",
              "</style>\n",
              "<table border=\"1\" class=\"dataframe\">\n",
              "  <thead>\n",
              "    <tr style=\"text-align: right;\">\n",
              "      <th></th>\n",
              "      <th>RowNumber</th>\n",
              "      <th>CustomerId</th>\n",
              "      <th>Surname</th>\n",
              "      <th>CreditScore</th>\n",
              "      <th>Geography</th>\n",
              "      <th>Gender</th>\n",
              "      <th>Age</th>\n",
              "      <th>Tenure</th>\n",
              "      <th>Balance</th>\n",
              "      <th>NumOfProducts</th>\n",
              "      <th>HasCrCard</th>\n",
              "      <th>IsActiveMember</th>\n",
              "      <th>EstimatedSalary</th>\n",
              "      <th>Exited</th>\n",
              "    </tr>\n",
              "  </thead>\n",
              "  <tbody>\n",
              "    <tr>\n",
              "      <th>0</th>\n",
              "      <td>1</td>\n",
              "      <td>15634602</td>\n",
              "      <td>Hargrave</td>\n",
              "      <td>619</td>\n",
              "      <td>France</td>\n",
              "      <td>Female</td>\n",
              "      <td>42</td>\n",
              "      <td>2</td>\n",
              "      <td>0.00</td>\n",
              "      <td>1</td>\n",
              "      <td>1</td>\n",
              "      <td>1</td>\n",
              "      <td>101348.88</td>\n",
              "      <td>1</td>\n",
              "    </tr>\n",
              "    <tr>\n",
              "      <th>1</th>\n",
              "      <td>2</td>\n",
              "      <td>15647311</td>\n",
              "      <td>Hill</td>\n",
              "      <td>608</td>\n",
              "      <td>Spain</td>\n",
              "      <td>Female</td>\n",
              "      <td>41</td>\n",
              "      <td>1</td>\n",
              "      <td>83807.86</td>\n",
              "      <td>1</td>\n",
              "      <td>0</td>\n",
              "      <td>1</td>\n",
              "      <td>112542.58</td>\n",
              "      <td>0</td>\n",
              "    </tr>\n",
              "    <tr>\n",
              "      <th>2</th>\n",
              "      <td>3</td>\n",
              "      <td>15619304</td>\n",
              "      <td>Onio</td>\n",
              "      <td>502</td>\n",
              "      <td>France</td>\n",
              "      <td>Female</td>\n",
              "      <td>42</td>\n",
              "      <td>8</td>\n",
              "      <td>159660.80</td>\n",
              "      <td>3</td>\n",
              "      <td>1</td>\n",
              "      <td>0</td>\n",
              "      <td>113931.57</td>\n",
              "      <td>1</td>\n",
              "    </tr>\n",
              "    <tr>\n",
              "      <th>3</th>\n",
              "      <td>4</td>\n",
              "      <td>15701354</td>\n",
              "      <td>Boni</td>\n",
              "      <td>699</td>\n",
              "      <td>France</td>\n",
              "      <td>Female</td>\n",
              "      <td>39</td>\n",
              "      <td>1</td>\n",
              "      <td>0.00</td>\n",
              "      <td>2</td>\n",
              "      <td>0</td>\n",
              "      <td>0</td>\n",
              "      <td>93826.63</td>\n",
              "      <td>0</td>\n",
              "    </tr>\n",
              "    <tr>\n",
              "      <th>4</th>\n",
              "      <td>5</td>\n",
              "      <td>15737888</td>\n",
              "      <td>Mitchell</td>\n",
              "      <td>850</td>\n",
              "      <td>Spain</td>\n",
              "      <td>Female</td>\n",
              "      <td>43</td>\n",
              "      <td>2</td>\n",
              "      <td>125510.82</td>\n",
              "      <td>1</td>\n",
              "      <td>1</td>\n",
              "      <td>1</td>\n",
              "      <td>79084.10</td>\n",
              "      <td>0</td>\n",
              "    </tr>\n",
              "  </tbody>\n",
              "</table>\n",
              "</div>"
            ],
            "text/plain": [
              "   RowNumber  CustomerId   Surname  CreditScore Geography  Gender  Age  \\\n",
              "0          1    15634602  Hargrave          619    France  Female   42   \n",
              "1          2    15647311      Hill          608     Spain  Female   41   \n",
              "2          3    15619304      Onio          502    France  Female   42   \n",
              "3          4    15701354      Boni          699    France  Female   39   \n",
              "4          5    15737888  Mitchell          850     Spain  Female   43   \n",
              "\n",
              "   Tenure    Balance  NumOfProducts  HasCrCard  IsActiveMember  \\\n",
              "0       2       0.00              1          1               1   \n",
              "1       1   83807.86              1          0               1   \n",
              "2       8  159660.80              3          1               0   \n",
              "3       1       0.00              2          0               0   \n",
              "4       2  125510.82              1          1               1   \n",
              "\n",
              "   EstimatedSalary  Exited  \n",
              "0        101348.88       1  \n",
              "1        112542.58       0  \n",
              "2        113931.57       1  \n",
              "3         93826.63       0  \n",
              "4         79084.10       0  "
            ]
          },
          "execution_count": 3,
          "metadata": {},
          "output_type": "execute_result"
        }
      ],
      "source": [
        "dataset = pd.read_csv('../data/churn-modelling.csv')\n",
        "dataset.head()"
      ]
    },
    {
      "cell_type": "code",
      "execution_count": 5,
      "metadata": {},
      "outputs": [
        {
          "data": {
            "text/plain": [
              "array([619, 'France', 'Female', 42, 2, 0.0, 1, 1, 1, 101348.88],\n",
              "      dtype=object)"
            ]
          },
          "execution_count": 5,
          "metadata": {},
          "output_type": "execute_result"
        }
      ],
      "source": [
        "X = dataset.iloc[:, 3:-1].values\n",
        "X[0, :]"
      ]
    },
    {
      "cell_type": "code",
      "execution_count": 6,
      "metadata": {
        "colab": {
          "base_uri": "https://localhost:8080/",
          "height": 34
        },
        "colab_type": "code",
        "id": "38vKGE6Nb2RR",
        "outputId": "a815e42a-e0dd-4cb5-ab97-b17ead98fbc3"
      },
      "outputs": [
        {
          "data": {
            "text/plain": [
              "1"
            ]
          },
          "execution_count": 6,
          "metadata": {},
          "output_type": "execute_result"
        }
      ],
      "source": [
        "y = dataset.iloc[:, -1].values\n",
        "y[0]"
      ]
    },
    {
      "cell_type": "markdown",
      "metadata": {
        "colab_type": "text",
        "id": "N6bQ0UgSU-NJ"
      },
      "source": [
        "### Encoding categorical data"
      ]
    },
    {
      "cell_type": "markdown",
      "metadata": {
        "colab_type": "text",
        "id": "le5MJreAbW52"
      },
      "source": [
        "Label Encoding the \"Gender\" column"
      ]
    },
    {
      "cell_type": "code",
      "execution_count": 7,
      "metadata": {
        "colab": {},
        "colab_type": "code",
        "id": "PxVKWXxLbczC"
      },
      "outputs": [
        {
          "data": {
            "text/plain": [
              "array([619, 'France', 0, 42, 2, 0.0, 1, 1, 1, 101348.88], dtype=object)"
            ]
          },
          "execution_count": 7,
          "metadata": {},
          "output_type": "execute_result"
        }
      ],
      "source": [
        "from sklearn.preprocessing import LabelEncoder\n",
        "le = LabelEncoder()\n",
        "X[:, 2] = le.fit_transform(X[:, 2])\n",
        "X[0, :]\n"
      ]
    },
    {
      "cell_type": "markdown",
      "metadata": {
        "colab_type": "text",
        "id": "CUxGZezpbMcb"
      },
      "source": [
        "One Hot Encoding the \"Geography\" column"
      ]
    },
    {
      "cell_type": "code",
      "execution_count": 9,
      "metadata": {
        "colab": {},
        "colab_type": "code",
        "id": "AMXC8-KMVirw"
      },
      "outputs": [
        {
          "data": {
            "text/plain": [
              "array([1.0, 0.0, 1.0, 0.0, 619, 0, 42, 2, 0.0, 1, 1, 1, 101348.88],\n",
              "      dtype=object)"
            ]
          },
          "execution_count": 9,
          "metadata": {},
          "output_type": "execute_result"
        }
      ],
      "source": [
        "from sklearn.compose import ColumnTransformer\n",
        "from sklearn.preprocessing import OneHotEncoder\n",
        "ct = ColumnTransformer(transformers=[('encoder', OneHotEncoder(), [1])], remainder='passthrough')\n",
        "X = np.array(ct.fit_transform(X))\n",
        "X[0, :]"
      ]
    },
    {
      "cell_type": "markdown",
      "metadata": {
        "colab_type": "text",
        "id": "vHol938cW8zd"
      },
      "source": [
        "### Splitting the dataset into the Training set and Test set"
      ]
    },
    {
      "cell_type": "code",
      "execution_count": 10,
      "metadata": {
        "colab": {},
        "colab_type": "code",
        "id": "Z-TDt0Y_XEfc"
      },
      "outputs": [],
      "source": [
        "from sklearn.model_selection import train_test_split\n",
        "X_train, X_test, y_train, y_test = train_test_split(X, y, test_size = 0.2, random_state = 0)"
      ]
    },
    {
      "cell_type": "markdown",
      "metadata": {
        "colab_type": "text",
        "id": "RE_FcHyfV3TQ"
      },
      "source": [
        "### Feature Scaling"
      ]
    },
    {
      "cell_type": "code",
      "execution_count": 11,
      "metadata": {
        "colab": {},
        "colab_type": "code",
        "id": "ViCrE00rV8Sk"
      },
      "outputs": [],
      "source": [
        "from sklearn.preprocessing import StandardScaler\n",
        "sc = StandardScaler()\n",
        "X_train = sc.fit_transform(X_train)\n",
        "X_test = sc.transform(X_test)"
      ]
    },
    {
      "cell_type": "markdown",
      "metadata": {
        "colab_type": "text",
        "id": "-zfEzkRVXIwF"
      },
      "source": [
        "## Part 2 - Building the ANN"
      ]
    },
    {
      "cell_type": "markdown",
      "metadata": {
        "colab_type": "text",
        "id": "KvdeScabXtlB"
      },
      "source": [
        "### Initializing the ANN"
      ]
    },
    {
      "cell_type": "code",
      "execution_count": 12,
      "metadata": {
        "colab": {},
        "colab_type": "code",
        "id": "3dtrScHxXQox"
      },
      "outputs": [],
      "source": [
        "ann = tf.keras.models.Sequential()"
      ]
    },
    {
      "cell_type": "markdown",
      "metadata": {
        "colab_type": "text",
        "id": "rP6urV6SX7kS"
      },
      "source": [
        "### Adding the input layer and the first hidden layer"
      ]
    },
    {
      "cell_type": "code",
      "execution_count": 13,
      "metadata": {
        "colab": {},
        "colab_type": "code",
        "id": "bppGycBXYCQr"
      },
      "outputs": [],
      "source": [
        "ann.add(tf.keras.layers.Dense(units=6, activation='relu'))"
      ]
    },
    {
      "cell_type": "markdown",
      "metadata": {
        "colab_type": "text",
        "id": "BELWAc_8YJze"
      },
      "source": [
        "### Adding the second hidden layer"
      ]
    },
    {
      "cell_type": "code",
      "execution_count": 14,
      "metadata": {
        "colab": {},
        "colab_type": "code",
        "id": "JneR0u0sYRTd"
      },
      "outputs": [],
      "source": [
        "ann.add(tf.keras.layers.Dense(units=6, activation='relu'))"
      ]
    },
    {
      "cell_type": "markdown",
      "metadata": {
        "colab_type": "text",
        "id": "OyNEe6RXYcU4"
      },
      "source": [
        "### Adding the output layer"
      ]
    },
    {
      "cell_type": "code",
      "execution_count": 15,
      "metadata": {
        "colab": {},
        "colab_type": "code",
        "id": "Cn3x41RBYfvY"
      },
      "outputs": [],
      "source": [
        "ann.add(tf.keras.layers.Dense(units=1, activation='sigmoid'))"
      ]
    },
    {
      "cell_type": "markdown",
      "metadata": {
        "colab_type": "text",
        "id": "JT4u2S1_Y4WG"
      },
      "source": [
        "## Part 3 - Training the ANN"
      ]
    },
    {
      "cell_type": "markdown",
      "metadata": {
        "colab_type": "text",
        "id": "8GWlJChhY_ZI"
      },
      "source": [
        "### Compiling the ANN"
      ]
    },
    {
      "cell_type": "code",
      "execution_count": 16,
      "metadata": {
        "colab": {},
        "colab_type": "code",
        "id": "fG3RrwDXZEaS"
      },
      "outputs": [],
      "source": [
        "ann.compile(optimizer = 'adam', loss = 'binary_crossentropy', metrics = ['accuracy'])"
      ]
    },
    {
      "cell_type": "markdown",
      "metadata": {
        "colab_type": "text",
        "id": "0QR_G5u7ZLSM"
      },
      "source": [
        "### Training the ANN on the Training set"
      ]
    },
    {
      "cell_type": "code",
      "execution_count": 17,
      "metadata": {
        "colab": {
          "base_uri": "https://localhost:8080/",
          "height": 1000
        },
        "colab_type": "code",
        "id": "nHZ-LKv_ZRb3",
        "outputId": "718cc4b0-b5aa-40f0-9b20-d3d31730a531"
      },
      "outputs": [
        {
          "name": "stdout",
          "output_type": "stream",
          "text": [
            "Epoch 1/100\n",
            "250/250 [==============================] - 0s 427us/step - loss: 0.5935 - accuracy: 0.7601\n",
            "Epoch 2/100\n",
            "250/250 [==============================] - 0s 393us/step - loss: 0.4656 - accuracy: 0.7987\n",
            "Epoch 3/100\n",
            "250/250 [==============================] - 0s 387us/step - loss: 0.4277 - accuracy: 0.8138\n",
            "Epoch 4/100\n",
            "250/250 [==============================] - 0s 387us/step - loss: 0.4109 - accuracy: 0.8211\n",
            "Epoch 5/100\n",
            "250/250 [==============================] - 0s 386us/step - loss: 0.3996 - accuracy: 0.8248\n",
            "Epoch 6/100\n",
            "250/250 [==============================] - 0s 383us/step - loss: 0.3917 - accuracy: 0.8278\n",
            "Epoch 7/100\n",
            "250/250 [==============================] - 0s 384us/step - loss: 0.3855 - accuracy: 0.8274\n",
            "Epoch 8/100\n",
            "250/250 [==============================] - 0s 383us/step - loss: 0.3811 - accuracy: 0.8280\n",
            "Epoch 9/100\n",
            "250/250 [==============================] - 0s 392us/step - loss: 0.3780 - accuracy: 0.8292\n",
            "Epoch 10/100\n",
            "250/250 [==============================] - 0s 384us/step - loss: 0.3751 - accuracy: 0.8286\n",
            "Epoch 11/100\n",
            "250/250 [==============================] - 0s 389us/step - loss: 0.3732 - accuracy: 0.8292\n",
            "Epoch 12/100\n",
            "250/250 [==============================] - 0s 386us/step - loss: 0.3714 - accuracy: 0.8286\n",
            "Epoch 13/100\n",
            "250/250 [==============================] - 0s 412us/step - loss: 0.3698 - accuracy: 0.8292\n",
            "Epoch 14/100\n",
            "250/250 [==============================] - 0s 415us/step - loss: 0.3681 - accuracy: 0.8289\n",
            "Epoch 15/100\n",
            "250/250 [==============================] - 0s 388us/step - loss: 0.3663 - accuracy: 0.8298\n",
            "Epoch 16/100\n",
            "250/250 [==============================] - 0s 394us/step - loss: 0.3646 - accuracy: 0.8509\n",
            "Epoch 17/100\n",
            "250/250 [==============================] - 0s 378us/step - loss: 0.3636 - accuracy: 0.8518\n",
            "Epoch 18/100\n",
            "250/250 [==============================] - 0s 565us/step - loss: 0.3623 - accuracy: 0.8537\n",
            "Epoch 19/100\n",
            "250/250 [==============================] - 0s 416us/step - loss: 0.3610 - accuracy: 0.8556\n",
            "Epoch 20/100\n",
            "250/250 [==============================] - 0s 410us/step - loss: 0.3597 - accuracy: 0.8544\n",
            "Epoch 21/100\n",
            "250/250 [==============================] - 0s 400us/step - loss: 0.3584 - accuracy: 0.8564\n",
            "Epoch 22/100\n",
            "250/250 [==============================] - 0s 394us/step - loss: 0.3556 - accuracy: 0.8559\n",
            "Epoch 23/100\n",
            "250/250 [==============================] - 0s 384us/step - loss: 0.3524 - accuracy: 0.8568\n",
            "Epoch 24/100\n",
            "250/250 [==============================] - 0s 381us/step - loss: 0.3501 - accuracy: 0.8579\n",
            "Epoch 25/100\n",
            "250/250 [==============================] - 0s 383us/step - loss: 0.3488 - accuracy: 0.8566\n",
            "Epoch 26/100\n",
            "250/250 [==============================] - 0s 386us/step - loss: 0.3472 - accuracy: 0.8576\n",
            "Epoch 27/100\n",
            "250/250 [==============================] - 0s 398us/step - loss: 0.3465 - accuracy: 0.8576\n",
            "Epoch 28/100\n",
            "250/250 [==============================] - 0s 396us/step - loss: 0.3461 - accuracy: 0.8583\n",
            "Epoch 29/100\n",
            "250/250 [==============================] - 0s 410us/step - loss: 0.3455 - accuracy: 0.8584\n",
            "Epoch 30/100\n",
            "250/250 [==============================] - 0s 398us/step - loss: 0.3457 - accuracy: 0.8569\n",
            "Epoch 31/100\n",
            "250/250 [==============================] - 0s 395us/step - loss: 0.3446 - accuracy: 0.8580\n",
            "Epoch 32/100\n",
            "250/250 [==============================] - 0s 400us/step - loss: 0.3438 - accuracy: 0.8574\n",
            "Epoch 33/100\n",
            "250/250 [==============================] - 0s 392us/step - loss: 0.3438 - accuracy: 0.8585\n",
            "Epoch 34/100\n",
            "250/250 [==============================] - 0s 399us/step - loss: 0.3430 - accuracy: 0.8610\n",
            "Epoch 35/100\n",
            "250/250 [==============================] - 0s 397us/step - loss: 0.3429 - accuracy: 0.8605\n",
            "Epoch 36/100\n",
            "250/250 [==============================] - 0s 394us/step - loss: 0.3431 - accuracy: 0.8572\n",
            "Epoch 37/100\n",
            "250/250 [==============================] - 0s 393us/step - loss: 0.3424 - accuracy: 0.8589\n",
            "Epoch 38/100\n",
            "250/250 [==============================] - 0s 382us/step - loss: 0.3426 - accuracy: 0.8581\n",
            "Epoch 39/100\n",
            "250/250 [==============================] - 0s 385us/step - loss: 0.3420 - accuracy: 0.8599\n",
            "Epoch 40/100\n",
            "250/250 [==============================] - 0s 398us/step - loss: 0.3417 - accuracy: 0.8597\n",
            "Epoch 41/100\n",
            "250/250 [==============================] - 0s 387us/step - loss: 0.3422 - accuracy: 0.8583\n",
            "Epoch 42/100\n",
            "250/250 [==============================] - 0s 385us/step - loss: 0.3418 - accuracy: 0.8594\n",
            "Epoch 43/100\n",
            "250/250 [==============================] - 0s 383us/step - loss: 0.3410 - accuracy: 0.8585\n",
            "Epoch 44/100\n",
            "250/250 [==============================] - 0s 383us/step - loss: 0.3408 - accuracy: 0.8599\n",
            "Epoch 45/100\n",
            "250/250 [==============================] - 0s 381us/step - loss: 0.3406 - accuracy: 0.8602\n",
            "Epoch 46/100\n",
            "250/250 [==============================] - 0s 377us/step - loss: 0.3407 - accuracy: 0.8594\n",
            "Epoch 47/100\n",
            "250/250 [==============================] - 0s 383us/step - loss: 0.3403 - accuracy: 0.8593\n",
            "Epoch 48/100\n",
            "250/250 [==============================] - 0s 382us/step - loss: 0.3400 - accuracy: 0.8614\n",
            "Epoch 49/100\n",
            "250/250 [==============================] - 0s 376us/step - loss: 0.3401 - accuracy: 0.8606\n",
            "Epoch 50/100\n",
            "250/250 [==============================] - 0s 379us/step - loss: 0.3396 - accuracy: 0.8606\n",
            "Epoch 51/100\n",
            "250/250 [==============================] - 0s 383us/step - loss: 0.3394 - accuracy: 0.8595\n",
            "Epoch 52/100\n",
            "250/250 [==============================] - 0s 381us/step - loss: 0.3390 - accuracy: 0.8606\n",
            "Epoch 53/100\n",
            "250/250 [==============================] - 0s 385us/step - loss: 0.3390 - accuracy: 0.8605\n",
            "Epoch 54/100\n",
            "250/250 [==============================] - 0s 379us/step - loss: 0.3389 - accuracy: 0.8610\n",
            "Epoch 55/100\n",
            "250/250 [==============================] - 0s 381us/step - loss: 0.3381 - accuracy: 0.8641\n",
            "Epoch 56/100\n",
            "250/250 [==============================] - 0s 379us/step - loss: 0.3387 - accuracy: 0.8605\n",
            "Epoch 57/100\n",
            "250/250 [==============================] - 0s 380us/step - loss: 0.3382 - accuracy: 0.8624\n",
            "Epoch 58/100\n",
            "250/250 [==============================] - 0s 381us/step - loss: 0.3379 - accuracy: 0.8625\n",
            "Epoch 59/100\n",
            "250/250 [==============================] - 0s 380us/step - loss: 0.3377 - accuracy: 0.8629\n",
            "Epoch 60/100\n",
            "250/250 [==============================] - 0s 400us/step - loss: 0.3376 - accuracy: 0.8626\n",
            "Epoch 61/100\n",
            "250/250 [==============================] - 0s 392us/step - loss: 0.3371 - accuracy: 0.8627\n",
            "Epoch 62/100\n",
            "250/250 [==============================] - 0s 397us/step - loss: 0.3369 - accuracy: 0.8624\n",
            "Epoch 63/100\n",
            "250/250 [==============================] - 0s 384us/step - loss: 0.3370 - accuracy: 0.8608\n",
            "Epoch 64/100\n",
            "250/250 [==============================] - 0s 393us/step - loss: 0.3367 - accuracy: 0.8619\n",
            "Epoch 65/100\n",
            "250/250 [==============================] - 0s 397us/step - loss: 0.3366 - accuracy: 0.8621\n",
            "Epoch 66/100\n",
            "250/250 [==============================] - 0s 396us/step - loss: 0.3368 - accuracy: 0.8629\n",
            "Epoch 67/100\n",
            "250/250 [==============================] - 0s 390us/step - loss: 0.3356 - accuracy: 0.8641\n",
            "Epoch 68/100\n",
            "250/250 [==============================] - 0s 379us/step - loss: 0.3354 - accuracy: 0.8619\n",
            "Epoch 69/100\n",
            "250/250 [==============================] - 0s 378us/step - loss: 0.3364 - accuracy: 0.8643\n",
            "Epoch 70/100\n",
            "250/250 [==============================] - 0s 380us/step - loss: 0.3353 - accuracy: 0.8637\n",
            "Epoch 71/100\n",
            "250/250 [==============================] - 0s 387us/step - loss: 0.3352 - accuracy: 0.8639\n",
            "Epoch 72/100\n",
            "250/250 [==============================] - 0s 587us/step - loss: 0.3348 - accuracy: 0.8637\n",
            "Epoch 73/100\n",
            "250/250 [==============================] - 0s 395us/step - loss: 0.3346 - accuracy: 0.8621\n",
            "Epoch 74/100\n",
            "250/250 [==============================] - 0s 394us/step - loss: 0.3347 - accuracy: 0.8644\n",
            "Epoch 75/100\n",
            "250/250 [==============================] - 0s 401us/step - loss: 0.3347 - accuracy: 0.8651\n",
            "Epoch 76/100\n",
            "250/250 [==============================] - 0s 397us/step - loss: 0.3344 - accuracy: 0.8635\n",
            "Epoch 77/100\n",
            "250/250 [==============================] - 0s 394us/step - loss: 0.3341 - accuracy: 0.8614\n",
            "Epoch 78/100\n",
            "250/250 [==============================] - 0s 397us/step - loss: 0.3344 - accuracy: 0.8625\n",
            "Epoch 79/100\n",
            "250/250 [==============================] - 0s 395us/step - loss: 0.3339 - accuracy: 0.8650\n",
            "Epoch 80/100\n",
            "250/250 [==============================] - 0s 402us/step - loss: 0.3338 - accuracy: 0.8640\n",
            "Epoch 81/100\n",
            "250/250 [==============================] - 0s 388us/step - loss: 0.3334 - accuracy: 0.8629\n",
            "Epoch 82/100\n",
            "250/250 [==============================] - 0s 381us/step - loss: 0.3338 - accuracy: 0.8636\n",
            "Epoch 83/100\n",
            "250/250 [==============================] - 0s 384us/step - loss: 0.3333 - accuracy: 0.8634\n",
            "Epoch 84/100\n",
            "250/250 [==============================] - 0s 384us/step - loss: 0.3333 - accuracy: 0.8637\n",
            "Epoch 85/100\n",
            "250/250 [==============================] - 0s 382us/step - loss: 0.3335 - accuracy: 0.8637\n",
            "Epoch 86/100\n",
            "250/250 [==============================] - 0s 381us/step - loss: 0.3332 - accuracy: 0.8626\n",
            "Epoch 87/100\n",
            "250/250 [==============================] - 0s 384us/step - loss: 0.3334 - accuracy: 0.8633\n",
            "Epoch 88/100\n",
            "250/250 [==============================] - 0s 380us/step - loss: 0.3331 - accuracy: 0.8631\n",
            "Epoch 89/100\n",
            "250/250 [==============================] - 0s 378us/step - loss: 0.3331 - accuracy: 0.8633\n",
            "Epoch 90/100\n",
            "250/250 [==============================] - 0s 379us/step - loss: 0.3332 - accuracy: 0.8631\n",
            "Epoch 91/100\n",
            "250/250 [==============================] - 0s 396us/step - loss: 0.3326 - accuracy: 0.8648\n",
            "Epoch 92/100\n",
            "250/250 [==============================] - 0s 394us/step - loss: 0.3328 - accuracy: 0.8616\n",
            "Epoch 93/100\n",
            "250/250 [==============================] - 0s 408us/step - loss: 0.3328 - accuracy: 0.8635\n",
            "Epoch 94/100\n",
            "250/250 [==============================] - 0s 397us/step - loss: 0.3329 - accuracy: 0.8648\n",
            "Epoch 95/100\n",
            "250/250 [==============================] - 0s 383us/step - loss: 0.3324 - accuracy: 0.8644\n",
            "Epoch 96/100\n",
            "250/250 [==============================] - 0s 381us/step - loss: 0.3326 - accuracy: 0.8635\n",
            "Epoch 97/100\n",
            "250/250 [==============================] - 0s 386us/step - loss: 0.3326 - accuracy: 0.8621\n",
            "Epoch 98/100\n",
            "250/250 [==============================] - 0s 382us/step - loss: 0.3326 - accuracy: 0.8641\n",
            "Epoch 99/100\n",
            "250/250 [==============================] - 0s 380us/step - loss: 0.3326 - accuracy: 0.8643\n",
            "Epoch 100/100\n",
            "250/250 [==============================] - 0s 383us/step - loss: 0.3327 - accuracy: 0.8627\n"
          ]
        },
        {
          "data": {
            "text/plain": [
              "<keras.src.callbacks.History at 0x177d0dc10>"
            ]
          },
          "execution_count": 17,
          "metadata": {},
          "output_type": "execute_result"
        }
      ],
      "source": [
        "ann.fit(X_train, y_train, batch_size = 32, epochs = 100)"
      ]
    },
    {
      "cell_type": "markdown",
      "metadata": {
        "colab_type": "text",
        "id": "tJj5k2MxZga3"
      },
      "source": [
        "## Part 4 - Making the predictions and evaluating the model"
      ]
    },
    {
      "cell_type": "markdown",
      "metadata": {
        "colab_type": "text",
        "id": "84QFoqGYeXHL"
      },
      "source": [
        "### Predicting the result of a single observation"
      ]
    },
    {
      "cell_type": "markdown",
      "metadata": {
        "colab_type": "text",
        "id": "CGRo3eacgDdC"
      },
      "source": [
        "**Homework**\n",
        "\n",
        "Use our ANN model to predict if the customer with the following informations will leave the bank: \n",
        "\n",
        "Geography: France\n",
        "\n",
        "Credit Score: 600\n",
        "\n",
        "Gender: Male\n",
        "\n",
        "Age: 40 years old\n",
        "\n",
        "Tenure: 3 years\n",
        "\n",
        "Balance: \\$ 60000\n",
        "\n",
        "Number of Products: 2\n",
        "\n",
        "Does this customer have a credit card ? Yes\n",
        "\n",
        "Is this customer an Active Member: Yes\n",
        "\n",
        "Estimated Salary: \\$ 50000\n",
        "\n",
        "So, should we say goodbye to that customer ?"
      ]
    },
    {
      "cell_type": "markdown",
      "metadata": {
        "colab_type": "text",
        "id": "ZhU1LTgPg-kH"
      },
      "source": [
        "**Solution**"
      ]
    },
    {
      "cell_type": "code",
      "execution_count": 20,
      "metadata": {
        "colab": {
          "base_uri": "https://localhost:8080/",
          "height": 34
        },
        "colab_type": "code",
        "id": "2d8IoCCkeWGL",
        "outputId": "957f3970-e197-4c3b-a150-7f69dc567f5d"
      },
      "outputs": [
        {
          "name": "stdout",
          "output_type": "stream",
          "text": [
            "1/1 [==============================] - 0s 87ms/step\n"
          ]
        },
        {
          "data": {
            "text/plain": [
              "array([[False]])"
            ]
          },
          "execution_count": 20,
          "metadata": {},
          "output_type": "execute_result"
        }
      ],
      "source": [
        "ann.predict(sc.transform([[1, 0, 0, 1, 600, 1, 40, 3, 2, 1, 1, 1, 50000]])) > 0.5"
      ]
    },
    {
      "cell_type": "markdown",
      "metadata": {
        "colab_type": "text",
        "id": "wGjx94g2n7OV"
      },
      "source": [
        "Therefore, our ANN model predicts that this customer stays in the bank!\n",
        "\n",
        "**Important note 1:** Notice that the values of the features were all input in a double pair of square brackets. That's because the \"predict\" method always expects a 2D array as the format of its inputs. And putting our values into a double pair of square brackets makes the input exactly a 2D array.\n",
        "\n",
        "**Important note 2:** Notice also that the \"France\" country was not input as a string in the last column but as \"1, 0, 0\" in the first three columns. That's because of course the predict method expects the one-hot-encoded values of the state, and as we see in the first row of the matrix of features X, \"France\" was encoded as \"1, 0, 0\". And be careful to include these values in the first three columns, because the dummy variables are always created in the first columns."
      ]
    },
    {
      "cell_type": "markdown",
      "metadata": {
        "colab_type": "text",
        "id": "u7yx47jPZt11"
      },
      "source": [
        "### Predicting the Test set results"
      ]
    },
    {
      "cell_type": "code",
      "execution_count": 21,
      "metadata": {
        "colab": {
          "base_uri": "https://localhost:8080/",
          "height": 137
        },
        "colab_type": "code",
        "id": "nIyEeQdRZwgs",
        "outputId": "82330ba8-9bdc-4fd1-d3cf-b6d78ee7c2a3"
      },
      "outputs": [
        {
          "name": "stdout",
          "output_type": "stream",
          "text": [
            "63/63 [==============================] - 0s 345us/step\n"
          ]
        }
      ],
      "source": [
        "y_pred = ann.predict(X_test)\n",
        "y_pred = (y_pred > 0.5)"
      ]
    },
    {
      "cell_type": "markdown",
      "metadata": {
        "colab_type": "text",
        "id": "o0oyfLWoaEGw"
      },
      "source": [
        "### Making the Confusion Matrix"
      ]
    },
    {
      "cell_type": "code",
      "execution_count": 22,
      "metadata": {
        "colab": {
          "base_uri": "https://localhost:8080/",
          "height": 68
        },
        "colab_type": "code",
        "id": "ci6K_r6LaF6P",
        "outputId": "4d854e9e-22d5-432f-f6e5-a102fe3ae0bd"
      },
      "outputs": [
        {
          "name": "stdout",
          "output_type": "stream",
          "text": [
            "[[1508   87]\n",
            " [ 196  209]]\n"
          ]
        },
        {
          "data": {
            "text/plain": [
              "0.8585"
            ]
          },
          "execution_count": 22,
          "metadata": {},
          "output_type": "execute_result"
        }
      ],
      "source": [
        "from sklearn.metrics import confusion_matrix, accuracy_score\n",
        "cm = confusion_matrix(y_test, y_pred)\n",
        "print(cm)\n",
        "accuracy_score(y_test, y_pred)"
      ]
    }
  ],
  "metadata": {
    "colab": {
      "collapsed_sections": [],
      "name": "artificial_neural_network.ipynb",
      "provenance": [],
      "toc_visible": true
    },
    "kernelspec": {
      "display_name": "Python 3",
      "name": "python3"
    },
    "language_info": {
      "codemirror_mode": {
        "name": "ipython",
        "version": 3
      },
      "file_extension": ".py",
      "mimetype": "text/x-python",
      "name": "python",
      "nbconvert_exporter": "python",
      "pygments_lexer": "ipython3",
      "version": "3.9.6"
    }
  },
  "nbformat": 4,
  "nbformat_minor": 0
}
