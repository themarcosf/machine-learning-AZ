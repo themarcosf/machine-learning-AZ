{
 "cells": [
  {
   "cell_type": "markdown",
   "id": "6ef63f46",
   "metadata": {},
   "source": [
    "# Neural Networks Introduction"
   ]
  },
  {
   "cell_type": "markdown",
   "id": "ca9ff112",
   "metadata": {},
   "source": [
    "## Basic Concepts\n",
    "\n",
    "The inspiration for the development of Neural Networks came precisely from __human beings__, we are very good at __learning__ and __recognizing patterns__. This is due to our __nervous system__, which can be understood as a __large network of interconnected neurons__. One of the objectives of Artificial Intelligence is to __build intelligent systems__, with __cognitive capacity__ similar to that of __humans__, that is, with the same capacity to analyze and recognize patterns. This was how the so-called __Artificial Neural Networks (ANNs)__ began to be developed.\n",
    "\n",
    "<br>\n",
    "\n",
    "<img src=\"https://www.tiopen.com.br/wp-content/uploads/2019/08/rede-neural.jpeg.webp\" width=\"600\" />\n",
    "\n",
    "<br>"
   ]
  },
  {
   "cell_type": "markdown",
   "id": "cd414f43",
   "metadata": {},
   "source": [
    "## Components of a Neural Network\n",
    "\n",
    "An Artificial Neural Network is composed of the following basic elements:\n",
    "\n",
    "- **Units (or neurons)**: are the minimum processing units of the neural network, where mathematical operations are performed\n",
    "\n",
    "- **Layers**: are the sets of neurons, which can be grouped into 3 types of layers:\n",
    "\n",
    "    - **Input layer**: is the data input layer. The number of units in this layer is equal to the number of attributes (_features_) of the model\n",
    "\n",
    "    - **Hidden layers**: are the processing layers. The number of hidden layers, as well as the number of neurons in each of them, is variable, depending on the problem and the data. In general, the best strategy is to experiment with different numbers of layers and neurons;\n",
    "\n",
    "    - **Output layer**: is the layer that gives the response of the neural network, that is, the value predicted by it. The number of units in this layer depends on the type of desired output, and it is what determines the response variable (_target_) of the model.\n",
    "\n",
    "The last extremely important elements for the construction of the neural network are the __weights__ (assigned to the acronym _W_), which are the connections that interconnect the neurons of one layer with another. In the connection between neurons, the weights precisely balance during the __mathematical operations__, so from the data from the input layer, mathematical operations are performed along the network to reach the final predictions of the model."
   ]
  },
  {
   "cell_type": "markdown",
   "id": "43580d23",
   "metadata": {},
   "source": [
    "## Neural network applications\n",
    "\n",
    "Analagous to more traditional Machine Learning models, neural networks can also be divided into 3 types of applications:\n",
    "\n",
    "- __Supervised learning:__ when the model has a reference response variable (_target_) to train and learn the patterns\n",
    "\n",
    "- __Unsupervised learning:__ when the model does not have a reference response variable (_target_) and the model learns from the characteristics of the data about similarity for example\n",
    "\n",
    "- __Reinforcement learning:__ is a learning method where the model is penalized for the incorrect responses it generates and from the penalties, it must adapt to make better predictions"
   ]
  },
  {
   "cell_type": "markdown",
   "id": "0ad1527e",
   "metadata": {},
   "source": [
    "## When to use Neural Networks?\n",
    "\n",
    "In the current scenario of _Big Data_ in which we live, Neural Network and _Deep Learning_ models are increasingly used. This is possible because the performance of these models increases as more data is used, unlike traditional models, whose performance is stabilized after a certain amount of data.\n",
    "\n",
    "<img src=\"https://www.sumologic.com/wp-content/uploads/performances_vs_data.png\" width=500 background=\"white\" />\n",
    "\n",
    "Then, it is expected that _Deep Learning_ models work better in scenarios where there is **a lot of data available**. In the end of the day, if there is time and computational resources available, it is always a good idea to build a _Deep Learning_ model together with other Machine Learning models, and then compare which one has the best performance."
   ]
  },
  {
   "cell_type": "markdown",
   "id": "e414446a",
   "metadata": {},
   "source": [
    "## Differences between Neural Networks and _Deep Learning_\n",
    "\n",
    "In general, a neural network is called \"deep\" if it has more than one hidden layer. In this case, we have a **\"Deep Neural Network\"**.\n",
    "\n",
    "<img src=\"https://thedatascientist.com/wp-content/uploads/2018/03/simple_neural_network_vs_deep_learning.jpg\" width=500>\n",
    "\n",
    "The term \"_Deep Learning_\" is used to refer to models that use Deep Neural Networks, but this term also encompasses other **architectures** of more specialized and complex neural networks, such as CNNs and RNNs, which are inevitably \"deep\", by construction.\n",
    "\n",
    "## Modeling a Neural Network - Perceptron\n",
    "\n",
    "Let's begin to work with Neural Networks and throughout the development of the model, some fundamental concepts for the construction of any Neural Network will be introduced.\n",
    "\n",
    "The first model we will use is the __Perceptron__, which can be understood as the simplest possible conception of a Neural Network, where we will use only __one neuron__. The _Perceptron_ was created in 1957 by Frank Rosenblatt and is a classification algorithm that seeks a linear separation between the observations of a data set, thus trying to predict which class each data belongs to. The _Perceptron_ was inspired by the functioning of a biological neuron.\n",
    "\n",
    "### How does the _Perceptron_ work?\n",
    "\n",
    "The _Perceptron_ will receive the data set along the input layer, remembering that it has the __same dimension as the number of attributes available in the data set__.\n",
    "\n",
    "<img src=\"https://www.deeplearningbook.com.br/wp-content/uploads/2018/01/neuronio-matematico.png\" width=600>\n",
    "\n",
    "And in the process that interconnects the neurons of the input layer with the neuron of the _Perceptron_ itself, a __scalar product__ will be made with the values of the respective weights. That is, each of the input data will be multiplied by the respective weight, so the model can weigh the values according to the type of response expected in learning. We will see a little later that the training process of a Neural Network will be precisely __defining the values of the weights__.\n",
    "\n",
    "An important term for the development of the Network is what we call __bias__, being a weight value that is not associated with input values of the data set. The _bias_ serves an adjustment of the network regardless of what happens along the network and helps to correct problems such as _overfitting_.\n",
    "\n",
    "So, let's calculate according to the example in the image:\n",
    "\n",
    "<img src=\"https://miro.medium.com/max/1400/1*SaQMHTLi4C7MIA4IzjAXJw.png\" width=500>\n",
    "\n",
    "The calculation of the _Perceptron_ will be done as follows:\n",
    "\n",
    "$$ h = (\\sum x_i w_i) + b  = x_1 w_1 + x_2 w_2 + x_3 w_3 + b = 0,57$$\n",
    "\n",
    "Having calculated the output value $h$ of the neuron, the next step would be to apply an __activation function__ to the result.\n",
    "\n",
    "### Activation Function\n",
    "\n",
    "As commented earlier, the main challenge in determining a Neural Network is in the __definition of weights__, since the behavior of the Neural Network will be very sensitive to the values of weights used. That is, if we apply a small difference in one of the weights the final result of the prediction can be __completely different__.\n",
    "\n",
    "One way to get around this type of problem and transform our Neural Network into a functional model is the application of an __activation function__.\n",
    "\n",
    "<img src=\"https://www.researchgate.net/profile/Auzuir-Alexandria/publication/268740641/figure/fig2/AS:392100567896071@1470495468400/Figura-4-Exemplos-de-funcoes-tipicas-de-ativacao-de-neuronios-a-degrau-b.png\" width=500>\n",
    "\n",
    "The __activation function__ is a non-linear mathematical transformation, which controls the behavior throughout the training of the Neural Network. This type of transformation makes a small modification in the weight values does not impact the final prediction of the model and is important to identify the __behavior of the data__, that is, how each of the attributes can be influencing the final response. There are several activation functions (which will be detailed and used throughout the course), but here in the application of the _Perceptron_ we will limit ourselves to using an activation function of the __step type__ (_Step Function_). In the case of the numerical example applied above, we have that:\n",
    "\n",
    "$$ f(h) = f(0,57) = 1 $$\n",
    "\n",
    "### Weight Optimization and Loss Function\n",
    "\n",
    "Now that we have the response of the model prediction, given that this response may be correct or not, how can we adjust the weight values in order to get a better result from the network?\n",
    "\n",
    "All the process of training a Neural Network can be divided into two paths, the __Feed Forward Propagation__, which is basically the process we have done so far, receives the input values, makes the mathematical transformations using the weights and the activation function and obtains the response of the model.\n",
    "\n",
    "The second path would be the __Backward Propagation__, where we will adjust the weight values according to __the error committed by the model__. In the same way, there are some techniques for optimizing weights, for the example of the _Perceptron_ we will use a simple variation of the optimization by __gradient descent__:\n",
    "\n",
    "$$ w_i = w_i + \\eta (y_i - f(h_i)) x_i $$\n",
    "\n",
    "$$ b = b + \\eta(y_i - f(h_i)) $$\n",
    "\n",
    "In which the degree of correction that will be made in the weights is related to the __learning rate__ (value $\\eta$). In this way, the modeling process with Neural Networks becomes an __iterative__ process, where at each __epoch__ the model adjusts the weights in order to minimize the errors committed."
   ]
  },
  {
   "cell_type": "markdown",
   "id": "dd75d998",
   "metadata": {},
   "source": [
    "## Example of Neural Network with _Perceptron_\n",
    "\n",
    "- Creating a __class__ for the _Perceptron_:"
   ]
  },
  {
   "cell_type": "code",
   "execution_count": 1,
   "id": "84eb2e94",
   "metadata": {},
   "outputs": [],
   "source": [
    "import pandas as pd\n",
    "import numpy as np\n",
    "import seaborn as sns\n",
    "import matplotlib.pyplot as plt"
   ]
  },
  {
   "cell_type": "code",
   "execution_count": 2,
   "id": "50c2e5ec",
   "metadata": {},
   "outputs": [],
   "source": [
    "class Perceptron:\n",
    "    def __init__(self,\n",
    "                 learn_rate = 0.01,\n",
    "                 n_iter = 10):\n",
    "        self.learn_rate = learn_rate\n",
    "        self.n_iter = n_iter\n",
    "        \n",
    "    def fit(self, X, y):\n",
    "        # init weights (zeros)\n",
    "        self.w_ = np.zeros(1 + X.shape[1])\n",
    "        # init empty list for errors\n",
    "        self.errors_ = []\n",
    "        # looping the iterations\n",
    "        for _ in range(self.n_iter):\n",
    "            # zero the errors\n",
    "            errors = 0\n",
    "            # comparative between predicted value and real value\n",
    "            for xi, target in zip(X, y):\n",
    "                # calculating the delta for the weights\n",
    "                delta = self.learn_rate * (target - self.predict(xi))\n",
    "                # update the weights\n",
    "                self.w_[1:] += delta * xi\n",
    "                # update the bias\n",
    "                self.w_[0] += delta\n",
    "                # error calculation\n",
    "                errors += int(delta != 0.0)\n",
    "            # save the error\n",
    "            self.errors_.append(errors)\n",
    "            \n",
    "    # prediction function\n",
    "    def predict(self, X):\n",
    "        return np.where(self.net_input(X) >= 0.0, 1, -1)\n",
    "    \n",
    "    # calculate the dot product + bias\n",
    "    def net_input(self, X):\n",
    "        return np.dot(X, self.w_[1:]) + self.w_[0]"
   ]
  },
  {
   "cell_type": "code",
   "execution_count": 3,
   "id": "f8203e0d",
   "metadata": {},
   "outputs": [
    {
     "data": {
      "text/html": [
       "<div>\n",
       "<style scoped>\n",
       "    .dataframe tbody tr th:only-of-type {\n",
       "        vertical-align: middle;\n",
       "    }\n",
       "\n",
       "    .dataframe tbody tr th {\n",
       "        vertical-align: top;\n",
       "    }\n",
       "\n",
       "    .dataframe thead th {\n",
       "        text-align: right;\n",
       "    }\n",
       "</style>\n",
       "<table border=\"1\" class=\"dataframe\">\n",
       "  <thead>\n",
       "    <tr style=\"text-align: right;\">\n",
       "      <th></th>\n",
       "      <th>sepal_length</th>\n",
       "      <th>sepal_width</th>\n",
       "      <th>petal_length</th>\n",
       "      <th>petal_width</th>\n",
       "      <th>species</th>\n",
       "    </tr>\n",
       "  </thead>\n",
       "  <tbody>\n",
       "    <tr>\n",
       "      <th>0</th>\n",
       "      <td>5.1</td>\n",
       "      <td>3.5</td>\n",
       "      <td>1.4</td>\n",
       "      <td>0.2</td>\n",
       "      <td>setosa</td>\n",
       "    </tr>\n",
       "    <tr>\n",
       "      <th>1</th>\n",
       "      <td>4.9</td>\n",
       "      <td>3.0</td>\n",
       "      <td>1.4</td>\n",
       "      <td>0.2</td>\n",
       "      <td>setosa</td>\n",
       "    </tr>\n",
       "    <tr>\n",
       "      <th>2</th>\n",
       "      <td>4.7</td>\n",
       "      <td>3.2</td>\n",
       "      <td>1.3</td>\n",
       "      <td>0.2</td>\n",
       "      <td>setosa</td>\n",
       "    </tr>\n",
       "    <tr>\n",
       "      <th>3</th>\n",
       "      <td>4.6</td>\n",
       "      <td>3.1</td>\n",
       "      <td>1.5</td>\n",
       "      <td>0.2</td>\n",
       "      <td>setosa</td>\n",
       "    </tr>\n",
       "    <tr>\n",
       "      <th>4</th>\n",
       "      <td>5.0</td>\n",
       "      <td>3.6</td>\n",
       "      <td>1.4</td>\n",
       "      <td>0.2</td>\n",
       "      <td>setosa</td>\n",
       "    </tr>\n",
       "  </tbody>\n",
       "</table>\n",
       "</div>"
      ],
      "text/plain": [
       "   sepal_length  sepal_width  petal_length  petal_width species\n",
       "0           5.1          3.5           1.4          0.2  setosa\n",
       "1           4.9          3.0           1.4          0.2  setosa\n",
       "2           4.7          3.2           1.3          0.2  setosa\n",
       "3           4.6          3.1           1.5          0.2  setosa\n",
       "4           5.0          3.6           1.4          0.2  setosa"
      ]
     },
     "execution_count": 3,
     "metadata": {},
     "output_type": "execute_result"
    }
   ],
   "source": [
    "iris = sns.load_dataset('iris')\n",
    "iris.head()"
   ]
  },
  {
   "cell_type": "code",
   "execution_count": 4,
   "id": "5ab20f39",
   "metadata": {},
   "outputs": [],
   "source": [
    "# split the dataset in setosa and not-setosa\n",
    "iris_set = iris[iris['species'] == 'setosa']\n",
    "not_iris_set = iris[iris['species'] != 'setosa']"
   ]
  },
  {
   "cell_type": "code",
   "execution_count": 5,
   "id": "afb7fa8b",
   "metadata": {},
   "outputs": [
    {
     "data": {
      "image/png": "[encoded data removed]",
      "text/plain": [
       "<Figure size 640x480 with 1 Axes>"
      ]
     },
     "metadata": {},
     "output_type": "display_data"
    }
   ],
   "source": [
    "# sepal_length and petal_length data plot\n",
    "plt.scatter(iris_set['sepal_length'],\n",
    "            iris_set['petal_length'],\n",
    "            color = 'green',\n",
    "            marker = 'o',\n",
    "            label = 'setosa')\n",
    "\n",
    "plt.scatter(not_iris_set['sepal_length'],\n",
    "            not_iris_set['petal_length'],\n",
    "            color = 'blue',\n",
    "            marker = 'x',\n",
    "            label = 'não-setosa')\n",
    "\n",
    "plt.xlabel('Sepal Length')\n",
    "plt.ylabel('Petal Length')\n",
    "\n",
    "plt.legend()\n",
    "plt.show()"
   ]
  },
  {
   "cell_type": "code",
   "execution_count": 6,
   "id": "ed523659",
   "metadata": {},
   "outputs": [
    {
     "data": {
      "text/plain": [
       "array([[5.1, 1.4],\n",
       "       [4.9, 1.4],\n",
       "       [4.7, 1.3],\n",
       "       [4.6, 1.5],\n",
       "       [5. , 1.4]])"
      ]
     },
     "execution_count": 6,
     "metadata": {},
     "output_type": "execute_result"
    }
   ],
   "source": [
    "# features to feed the model\n",
    "X = iris[['sepal_length', 'petal_length']].values\n",
    "X[:5]"
   ]
  },
  {
   "cell_type": "code",
   "execution_count": 7,
   "id": "b1e2b4a6",
   "metadata": {},
   "outputs": [
    {
     "data": {
      "text/plain": [
       "array([1, 1, 1, 1, 1])"
      ]
     },
     "execution_count": 7,
     "metadata": {},
     "output_type": "execute_result"
    }
   ],
   "source": [
    "# build the target\n",
    "y = iris['species'].values\n",
    "y = np.where(y == 'setosa', 1, -1)\n",
    "y[:5]"
   ]
  },
  {
   "cell_type": "code",
   "execution_count": 8,
   "id": "a2cf26a1",
   "metadata": {},
   "outputs": [
    {
     "data": {
      "image/png": "[encoded data removed]",
      "text/plain": [
       "<Figure size 640x480 with 1 Axes>"
      ]
     },
     "metadata": {},
     "output_type": "display_data"
    }
   ],
   "source": [
    "from mlxtend.plotting import plot_decision_regions\n",
    "\n",
    "# instanciate the perceptron\n",
    "model = Perceptron()\n",
    "\n",
    "# model fit\n",
    "model.fit(X, y)\n",
    "\n",
    "# ploting the linear separation region - Perceptron\n",
    "plot_decision_regions(X,\n",
    "                      y,\n",
    "                      clf = model,\n",
    "                      legend = 2)\n",
    "plt.xlabel('Sepal Length')\n",
    "plt.ylabel('Petal Length')\n",
    "plt.title('Região de Separação - Perceptron')\n",
    "plt.legend()\n",
    "plt.show()"
   ]
  },
  {
   "cell_type": "markdown",
   "id": "6822eb6e",
   "metadata": {},
   "source": [
    "- using the function directly from `scikit-learn`:"
   ]
  },
  {
   "cell_type": "code",
   "execution_count": 9,
   "id": "34281c45",
   "metadata": {},
   "outputs": [],
   "source": [
    "from sklearn.linear_model import Perceptron\n",
    "from sklearn.datasets import make_classification\n",
    "from sklearn.model_selection import RepeatedStratifiedKFold, cross_val_score"
   ]
  },
  {
   "cell_type": "code",
   "execution_count": 10,
   "id": "5dc6235f",
   "metadata": {},
   "outputs": [],
   "source": [
    "from sklearn.datasets import make_classification\n",
    "\n",
    "X,y = make_classification(n_samples = 1000,\n",
    "                          n_features = 10,\n",
    "                          n_classes = 2,\n",
    "                          random_state = 42)"
   ]
  },
  {
   "cell_type": "code",
   "execution_count": 11,
   "id": "25a483e9",
   "metadata": {},
   "outputs": [
    {
     "name": "stdout",
     "output_type": "stream",
     "text": [
      "(1000, 10) (1000,)\n"
     ]
    }
   ],
   "source": [
    "print(X.shape, y.shape)"
   ]
  },
  {
   "cell_type": "code",
   "execution_count": 12,
   "id": "dad02371",
   "metadata": {},
   "outputs": [
    {
     "name": "stdout",
     "output_type": "stream",
     "text": [
      "Average accuracy: 0.800\n",
      "Average standard deviation: 0.071\n"
     ]
    }
   ],
   "source": [
    "from sklearn.model_selection import RepeatedStratifiedKFold, cross_val_score\n",
    "\n",
    "cv = RepeatedStratifiedKFold(n_splits = 10,\n",
    "                             n_repeats = 3,\n",
    "                             random_state = 42)\n",
    "\n",
    "# instanciate the model from sklearn\n",
    "clf = Perceptron()\n",
    "\n",
    "# calculate the cross_val_score\n",
    "scores = cross_val_score(clf,\n",
    "                         X,\n",
    "                         y,\n",
    "                         scoring = 'accuracy',\n",
    "                         cv = cv,\n",
    "                         n_jobs = -1)\n",
    "\n",
    "print('Average accuracy: %.3f' % (np.mean(scores)))\n",
    "print('Average standard deviation: %.3f' % (np.std(scores)))"
   ]
  }
 ],
 "metadata": {
  "kernelspec": {
   "display_name": "Python 3 (ipykernel)",
   "language": "python",
   "name": "python3"
  },
  "language_info": {
   "codemirror_mode": {
    "name": "ipython",
    "version": 3
   },
   "file_extension": ".py",
   "mimetype": "text/x-python",
   "name": "python",
   "nbconvert_exporter": "python",
   "pygments_lexer": "ipython3",
   "version": "3.9.6"
  }
 },
 "nbformat": 4,
 "nbformat_minor": 5
}
